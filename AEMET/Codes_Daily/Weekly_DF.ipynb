{
 "cells": [
  {
   "cell_type": "code",
   "execution_count": 1,
   "metadata": {},
   "outputs": [],
   "source": [
    "import numpy as np\n",
    "import pandas as pd\n",
    "import matplotlib.pyplot as plt\n",
    "from utils.aemepy import avg_per_weeks"
   ]
  },
  {
   "cell_type": "code",
   "execution_count": 2,
   "metadata": {},
   "outputs": [
    {
     "data": {
      "text/html": [
       "<div>\n",
       "<style scoped>\n",
       "    .dataframe tbody tr th:only-of-type {\n",
       "        vertical-align: middle;\n",
       "    }\n",
       "\n",
       "    .dataframe tbody tr th {\n",
       "        vertical-align: top;\n",
       "    }\n",
       "\n",
       "    .dataframe thead th {\n",
       "        text-align: right;\n",
       "    }\n",
       "</style>\n",
       "<table border=\"1\" class=\"dataframe\">\n",
       "  <thead>\n",
       "    <tr style=\"text-align: right;\">\n",
       "      <th></th>\n",
       "      <th>fecha</th>\n",
       "      <th>tmed</th>\n",
       "      <th>velmedia</th>\n",
       "      <th>presmed</th>\n",
       "    </tr>\n",
       "  </thead>\n",
       "  <tbody>\n",
       "    <tr>\n",
       "      <th>0</th>\n",
       "      <td>2013-07-07</td>\n",
       "      <td>25.8</td>\n",
       "      <td>2.8</td>\n",
       "      <td>1020.60</td>\n",
       "    </tr>\n",
       "    <tr>\n",
       "      <th>1</th>\n",
       "      <td>2013-07-08</td>\n",
       "      <td>26.2</td>\n",
       "      <td>3.9</td>\n",
       "      <td>1020.40</td>\n",
       "    </tr>\n",
       "    <tr>\n",
       "      <th>2</th>\n",
       "      <td>2013-07-09</td>\n",
       "      <td>25.6</td>\n",
       "      <td>3.9</td>\n",
       "      <td>1018.05</td>\n",
       "    </tr>\n",
       "    <tr>\n",
       "      <th>3</th>\n",
       "      <td>2013-07-10</td>\n",
       "      <td>25.0</td>\n",
       "      <td>3.3</td>\n",
       "      <td>1014.10</td>\n",
       "    </tr>\n",
       "    <tr>\n",
       "      <th>4</th>\n",
       "      <td>2013-07-11</td>\n",
       "      <td>25.2</td>\n",
       "      <td>4.4</td>\n",
       "      <td>1012.80</td>\n",
       "    </tr>\n",
       "  </tbody>\n",
       "</table>\n",
       "</div>"
      ],
      "text/plain": [
       "       fecha  tmed  velmedia  presmed\n",
       "0 2013-07-07  25.8       2.8  1020.60\n",
       "1 2013-07-08  26.2       3.9  1020.40\n",
       "2 2013-07-09  25.6       3.9  1018.05\n",
       "3 2013-07-10  25.0       3.3  1014.10\n",
       "4 2013-07-11  25.2       4.4  1012.80"
      ]
     },
     "execution_count": 2,
     "metadata": {},
     "output_type": "execute_result"
    }
   ],
   "source": [
    "BCN = pd.read_csv('~/CIEMAT/Rn_Weekly_NN/AEMET/Data/Daily/BCN/BCN_notnulls.csv', usecols=range(2,6))\n",
    "BCN['fecha'] = pd.to_datetime(BCN['fecha'])\n",
    "BCN.head()"
   ]
  },
  {
   "cell_type": "code",
   "execution_count": 3,
   "metadata": {},
   "outputs": [
    {
     "data": {
      "text/plain": [
       "fecha       datetime64[ns]\n",
       "tmed               float64\n",
       "velmedia           float64\n",
       "presmed            float64\n",
       "dtype: object"
      ]
     },
     "execution_count": 3,
     "metadata": {},
     "output_type": "execute_result"
    }
   ],
   "source": [
    "BCN.dtypes"
   ]
  },
  {
   "cell_type": "code",
   "execution_count": 4,
   "metadata": {},
   "outputs": [],
   "source": [
    "BCN_weeks = BCN.set_index(pd.DatetimeIndex(BCN['fecha'])).resample('W').mean()"
   ]
  },
  {
   "cell_type": "code",
   "execution_count": 5,
   "metadata": {},
   "outputs": [
    {
     "data": {
      "text/html": [
       "<div>\n",
       "<style scoped>\n",
       "    .dataframe tbody tr th:only-of-type {\n",
       "        vertical-align: middle;\n",
       "    }\n",
       "\n",
       "    .dataframe tbody tr th {\n",
       "        vertical-align: top;\n",
       "    }\n",
       "\n",
       "    .dataframe thead th {\n",
       "        text-align: right;\n",
       "    }\n",
       "</style>\n",
       "<table border=\"1\" class=\"dataframe\">\n",
       "  <thead>\n",
       "    <tr style=\"text-align: right;\">\n",
       "      <th></th>\n",
       "      <th>tmed</th>\n",
       "      <th>velmedia</th>\n",
       "      <th>presmed</th>\n",
       "    </tr>\n",
       "    <tr>\n",
       "      <th>fecha</th>\n",
       "      <th></th>\n",
       "      <th></th>\n",
       "      <th></th>\n",
       "    </tr>\n",
       "  </thead>\n",
       "  <tbody>\n",
       "    <tr>\n",
       "      <th>2013-07-07</th>\n",
       "      <td>25.800000</td>\n",
       "      <td>2.800000</td>\n",
       "      <td>1020.600000</td>\n",
       "    </tr>\n",
       "    <tr>\n",
       "      <th>2013-07-14</th>\n",
       "      <td>25.642857</td>\n",
       "      <td>3.914286</td>\n",
       "      <td>1016.357143</td>\n",
       "    </tr>\n",
       "    <tr>\n",
       "      <th>2013-07-21</th>\n",
       "      <td>26.028571</td>\n",
       "      <td>4.285714</td>\n",
       "      <td>1017.578571</td>\n",
       "    </tr>\n",
       "    <tr>\n",
       "      <th>2013-07-28</th>\n",
       "      <td>27.214286</td>\n",
       "      <td>4.900000</td>\n",
       "      <td>1013.457143</td>\n",
       "    </tr>\n",
       "    <tr>\n",
       "      <th>2013-08-04</th>\n",
       "      <td>25.785714</td>\n",
       "      <td>4.528571</td>\n",
       "      <td>1018.435714</td>\n",
       "    </tr>\n",
       "  </tbody>\n",
       "</table>\n",
       "</div>"
      ],
      "text/plain": [
       "                 tmed  velmedia      presmed\n",
       "fecha                                       \n",
       "2013-07-07  25.800000  2.800000  1020.600000\n",
       "2013-07-14  25.642857  3.914286  1016.357143\n",
       "2013-07-21  26.028571  4.285714  1017.578571\n",
       "2013-07-28  27.214286  4.900000  1013.457143\n",
       "2013-08-04  25.785714  4.528571  1018.435714"
      ]
     },
     "execution_count": 5,
     "metadata": {},
     "output_type": "execute_result"
    }
   ],
   "source": [
    "BCN_weeks.head()"
   ]
  },
  {
   "cell_type": "code",
   "execution_count": 6,
   "metadata": {},
   "outputs": [
    {
     "data": {
      "text/html": [
       "<div>\n",
       "<style scoped>\n",
       "    .dataframe tbody tr th:only-of-type {\n",
       "        vertical-align: middle;\n",
       "    }\n",
       "\n",
       "    .dataframe tbody tr th {\n",
       "        vertical-align: top;\n",
       "    }\n",
       "\n",
       "    .dataframe thead th {\n",
       "        text-align: right;\n",
       "    }\n",
       "</style>\n",
       "<table border=\"1\" class=\"dataframe\">\n",
       "  <thead>\n",
       "    <tr style=\"text-align: right;\">\n",
       "      <th></th>\n",
       "      <th>tmed</th>\n",
       "      <th>velmedia</th>\n",
       "      <th>presmed</th>\n",
       "    </tr>\n",
       "  </thead>\n",
       "  <tbody>\n",
       "    <tr>\n",
       "      <th>count</th>\n",
       "      <td>7.000000</td>\n",
       "      <td>7.000000</td>\n",
       "      <td>7.000000</td>\n",
       "    </tr>\n",
       "    <tr>\n",
       "      <th>mean</th>\n",
       "      <td>25.642857</td>\n",
       "      <td>3.914286</td>\n",
       "      <td>1016.357143</td>\n",
       "    </tr>\n",
       "    <tr>\n",
       "      <th>std</th>\n",
       "      <td>0.588380</td>\n",
       "      <td>0.467007</td>\n",
       "      <td>2.588183</td>\n",
       "    </tr>\n",
       "    <tr>\n",
       "      <th>min</th>\n",
       "      <td>25.000000</td>\n",
       "      <td>3.300000</td>\n",
       "      <td>1012.800000</td>\n",
       "    </tr>\n",
       "    <tr>\n",
       "      <th>25%</th>\n",
       "      <td>25.100000</td>\n",
       "      <td>3.600000</td>\n",
       "      <td>1014.550000</td>\n",
       "    </tr>\n",
       "    <tr>\n",
       "      <th>50%</th>\n",
       "      <td>25.600000</td>\n",
       "      <td>3.900000</td>\n",
       "      <td>1016.650000</td>\n",
       "    </tr>\n",
       "    <tr>\n",
       "      <th>75%</th>\n",
       "      <td>26.200000</td>\n",
       "      <td>4.300000</td>\n",
       "      <td>1017.775000</td>\n",
       "    </tr>\n",
       "    <tr>\n",
       "      <th>max</th>\n",
       "      <td>26.300000</td>\n",
       "      <td>4.400000</td>\n",
       "      <td>1020.400000</td>\n",
       "    </tr>\n",
       "  </tbody>\n",
       "</table>\n",
       "</div>"
      ],
      "text/plain": [
       "            tmed  velmedia      presmed\n",
       "count   7.000000  7.000000     7.000000\n",
       "mean   25.642857  3.914286  1016.357143\n",
       "std     0.588380  0.467007     2.588183\n",
       "min    25.000000  3.300000  1012.800000\n",
       "25%    25.100000  3.600000  1014.550000\n",
       "50%    25.600000  3.900000  1016.650000\n",
       "75%    26.200000  4.300000  1017.775000\n",
       "max    26.300000  4.400000  1020.400000"
      ]
     },
     "execution_count": 6,
     "metadata": {},
     "output_type": "execute_result"
    }
   ],
   "source": [
    "BCN[(BCN['fecha'] <= '2013-07-14') & (BCN['fecha'] > '2013-07-07')].describe()"
   ]
  },
  {
   "cell_type": "markdown",
   "metadata": {},
   "source": [
    "### The first avg is the first row, the second row is computed doing the avg between 2013-07-08 to 2013-07-14 and so on"
   ]
  },
  {
   "cell_type": "code",
   "execution_count": 16,
   "metadata": {},
   "outputs": [],
   "source": [
    "list_cities = ['BCN', 'NVR', 'HSC', 'ZGZ']\n",
    "dic = {}\n",
    "for city in list_cities:\n",
    "    dic[city] = pd.read_csv(f'~/CIEMAT/Rn_Weekly_NN/AEMET/Data/Daily/{city}/{city}_notnulls.csv',\n",
    "                            usecols=['fecha', 'tmed', 'presmed', 'velmedia'])\n",
    "    dic[city + '_avg'] = pd.read_csv(f'~/CIEMAT/Rn_Weekly_NN/AEMET/Data/Daily/{city}/{city}_avgfilled.csv',\n",
    "                                     usecols=['fecha', 'tmed', 'presmed', 'velmedia'])"
   ]
  },
  {
   "cell_type": "code",
   "execution_count": 17,
   "metadata": {},
   "outputs": [
    {
     "name": "stdout",
     "output_type": "stream",
     "text": [
      "BCN\n",
      "BCN_avg\n",
      "NVR\n",
      "NVR_avg\n",
      "HSC\n",
      "HSC_avg\n",
      "ZGZ\n",
      "ZGZ_avg\n"
     ]
    }
   ],
   "source": [
    "# New DF with means by weeks\n",
    "output = {}\n",
    "for key in dic.keys():\n",
    "    output[key + '_weekly'] = avg_per_weeks(dic[key])"
   ]
  },
  {
   "cell_type": "code",
   "execution_count": 23,
   "metadata": {},
   "outputs": [
    {
     "name": "stdout",
     "output_type": "stream",
     "text": [
      "BCN_weekly\n",
      "BCN_avg_weekly\n",
      "NVR_weekly\n",
      "NVR_avg_weekly\n",
      "HSC_weekly\n",
      "HSC_avg_weekly\n",
      "ZGZ_weekly\n",
      "ZGZ_avg_weekly\n"
     ]
    }
   ],
   "source": [
    "for key in output.keys():\n",
    "    print(key)"
   ]
  },
  {
   "cell_type": "code",
   "execution_count": null,
   "metadata": {},
   "outputs": [],
   "source": [
    "# Saving:\n",
    "# for key in output.keys():\n",
    "#     output[key].to_csv(f'~/CIEMAT/Rn_Weekly_NN/AEMET/Data/Daily/{key}/{city}_notnulls.csv')"
   ]
  }
 ],
 "metadata": {
  "kernelspec": {
   "display_name": "Python 3",
   "language": "python",
   "name": "python3"
  },
  "language_info": {
   "codemirror_mode": {
    "name": "ipython",
    "version": 3
   },
   "file_extension": ".py",
   "mimetype": "text/x-python",
   "name": "python",
   "nbconvert_exporter": "python",
   "pygments_lexer": "ipython3",
   "version": "3.6.8"
  }
 },
 "nbformat": 4,
 "nbformat_minor": 2
}
