{
 "cells": [
  {
   "cell_type": "code",
   "execution_count": 1,
   "metadata": {},
   "outputs": [
    {
     "name": "stderr",
     "output_type": "stream",
     "text": [
      "Using TensorFlow backend.\n"
     ]
    }
   ],
   "source": [
    "__author__ = '@Tssp'\n",
    "\n",
    "''' RNN Bidireccional en Keras '''\n",
    "\n",
    "import numpy as np\n",
    "import matplotlib.pyplot as plt\n",
    "from keras.models import Sequential, load_model\n",
    "from keras.layers import Dense, Dropout, Activation, Flatten, BatchNormalization\n",
    "from keras.layers.convolutional import Conv1D, MaxPooling1D\n",
    "import pandas as pd  \n",
    "from sklearn.preprocessing import MinMaxScaler\n",
    "from sklearn.metrics import mean_squared_error, mean_absolute_error\n",
    "from scipy.stats.stats import pearsonr\n",
    "from matplotlib.ticker import MultipleLocator, FormatStrFormatter\n",
    "import matplotlib.dates as mdates\n",
    "from utils.NNutils import *"
   ]
  },
  {
   "cell_type": "code",
   "execution_count": 2,
   "metadata": {},
   "outputs": [],
   "source": [
    "mdnRnA = np.loadtxt('../../mdnRnA.txt', delimiter=',')\n",
    "startday = pd.datetime(2013, 7, 1)\n",
    "dates = pd.date_range(startday, periods=len(mdnRnA), freq='W')\n",
    "test_size=int(0.3 * len(mdnRnA))\n",
    "PMP = pd.read_csv('../Data/Daily/NVR/NVR_weekly.csv')"
   ]
  },
  {
   "cell_type": "code",
   "execution_count": 3,
   "metadata": {},
   "outputs": [],
   "source": [
    "mdnRnA_val = np.loadtxt('../../mdnRnA_validation.txt')\n",
    "aemet = pd.read_csv('../Data/val_weekly.csv', skiprows=2, names=['dates', 'tmed'])\n",
    "startdat_val = dates[-1]"
   ]
  },
  {
   "cell_type": "code",
   "execution_count": 4,
   "metadata": {},
   "outputs": [
    {
     "data": {
      "text/html": [
       "<div>\n",
       "<style scoped>\n",
       "    .dataframe tbody tr th:only-of-type {\n",
       "        vertical-align: middle;\n",
       "    }\n",
       "\n",
       "    .dataframe tbody tr th {\n",
       "        vertical-align: top;\n",
       "    }\n",
       "\n",
       "    .dataframe thead th {\n",
       "        text-align: right;\n",
       "    }\n",
       "</style>\n",
       "<table border=\"1\" class=\"dataframe\">\n",
       "  <thead>\n",
       "    <tr style=\"text-align: right;\">\n",
       "      <th></th>\n",
       "      <th>dates</th>\n",
       "      <th>tmed</th>\n",
       "      <th>mdnRnA</th>\n",
       "    </tr>\n",
       "  </thead>\n",
       "  <tbody>\n",
       "    <tr>\n",
       "      <th>0</th>\n",
       "      <td>2019-07-28</td>\n",
       "      <td>24.671429</td>\n",
       "      <td>102.0</td>\n",
       "    </tr>\n",
       "    <tr>\n",
       "      <th>1</th>\n",
       "      <td>2019-08-04</td>\n",
       "      <td>21.828571</td>\n",
       "      <td>94.0</td>\n",
       "    </tr>\n",
       "    <tr>\n",
       "      <th>2</th>\n",
       "      <td>2019-08-11</td>\n",
       "      <td>24.585714</td>\n",
       "      <td>103.0</td>\n",
       "    </tr>\n",
       "    <tr>\n",
       "      <th>3</th>\n",
       "      <td>2019-08-18</td>\n",
       "      <td>20.900000</td>\n",
       "      <td>113.5</td>\n",
       "    </tr>\n",
       "    <tr>\n",
       "      <th>4</th>\n",
       "      <td>2019-08-25</td>\n",
       "      <td>21.414286</td>\n",
       "      <td>73.0</td>\n",
       "    </tr>\n",
       "    <tr>\n",
       "      <th>5</th>\n",
       "      <td>2019-09-01</td>\n",
       "      <td>23.957143</td>\n",
       "      <td>81.0</td>\n",
       "    </tr>\n",
       "    <tr>\n",
       "      <th>6</th>\n",
       "      <td>2019-09-08</td>\n",
       "      <td>17.442857</td>\n",
       "      <td>109.0</td>\n",
       "    </tr>\n",
       "    <tr>\n",
       "      <th>7</th>\n",
       "      <td>2019-09-15</td>\n",
       "      <td>18.857143</td>\n",
       "      <td>109.0</td>\n",
       "    </tr>\n",
       "    <tr>\n",
       "      <th>8</th>\n",
       "      <td>2019-09-22</td>\n",
       "      <td>21.514286</td>\n",
       "      <td>90.0</td>\n",
       "    </tr>\n",
       "  </tbody>\n",
       "</table>\n",
       "</div>"
      ],
      "text/plain": [
       "        dates       tmed  mdnRnA\n",
       "0  2019-07-28  24.671429   102.0\n",
       "1  2019-08-04  21.828571    94.0\n",
       "2  2019-08-11  24.585714   103.0\n",
       "3  2019-08-18  20.900000   113.5\n",
       "4  2019-08-25  21.414286    73.0\n",
       "5  2019-09-01  23.957143    81.0\n",
       "6  2019-09-08  17.442857   109.0\n",
       "7  2019-09-15  18.857143   109.0\n",
       "8  2019-09-22  21.514286    90.0"
      ]
     },
     "execution_count": 4,
     "metadata": {},
     "output_type": "execute_result"
    }
   ],
   "source": [
    "DF = aemet\n",
    "DF['mdnRnA'] = mdnRnA_val\n",
    "DF"
   ]
  },
  {
   "cell_type": "code",
   "execution_count": 5,
   "metadata": {},
   "outputs": [],
   "source": [
    "sample_size = 4"
   ]
  },
  {
   "cell_type": "code",
   "execution_count": 6,
   "metadata": {},
   "outputs": [],
   "source": [
    "mdnRnA_val = np.loadtxt('../../mdnRnA_validation.txt')\n",
    "aemet = pd.read_csv('../Data/val_weekly.csv', skiprows=2, names=['dates', 'tmed'])\n",
    "DF_val = aemet\n",
    "DF_val['mdnRnA'] = mdnRnA_val\n",
    "scaled_val = MinMaxScaler().fit(DF_val[['tmed', 'mdnRnA']].values).transform(DF_val[['tmed', 'mdnRnA']].values)\n",
    "DF_scaled_val = pd.DataFrame(scaled_val, columns=['tmed', 'mdnRnA'])\n",
    "DF_scaled_val['dates'] = DF_val['dates']\n",
    "X = data_toCNN_format([DF_scaled_val], ['val'], ['mdnRnA', 'tmed'], 4)['val']"
   ]
  },
  {
   "cell_type": "code",
   "execution_count": 7,
   "metadata": {},
   "outputs": [
    {
     "name": "stdout",
     "output_type": "stream",
     "text": [
      "WARNING:tensorflow:From /usr/lib/python3.5/site-packages/tensorflow/python/util/deprecation.py:497: calling conv1d (from tensorflow.python.ops.nn_ops) with data_format=NHWC is deprecated and will be removed in a future version.\n",
      "Instructions for updating:\n",
      "`NHWC` for data_format is deprecated, use `NWC` instead\n"
     ]
    }
   ],
   "source": [
    "model = load_model('modelaemet.h5')"
   ]
  },
  {
   "cell_type": "code",
   "execution_count": 8,
   "metadata": {},
   "outputs": [],
   "source": [
    "pred_val = model.predict(X)\n",
    "startday_val = pd.datetime(2019, 7, 28)"
   ]
  },
  {
   "cell_type": "code",
   "execution_count": 9,
   "metadata": {},
   "outputs": [
    {
     "data": {
      "image/png": "[encoded data removed]",
      "text/plain": [
       "<Figure size 864x432 with 1 Axes>"
      ]
     },
     "metadata": {
      "needs_background": "light"
     },
     "output_type": "display_data"
    }
   ],
   "source": [
    "fig, ax = plt.subplots(nrows=1, ncols=1, figsize=(12, 6))\n",
    "xaxis = ax.get_xaxis()\n",
    "ax.xaxis.set_major_locator(mdates.YearLocator())\n",
    "ax.xaxis.set_minor_locator(mdates.MonthLocator())\n",
    "ax.xaxis.set_major_formatter(mdates.DateFormatter(\"%Y\"))\n",
    "ax.xaxis.set_minor_formatter(mdates.DateFormatter(\"%b\"))\n",
    "plt.plot(pd.date_range(startday_val, periods=len(mdnRnA_val), freq='W'), DF_val['mdnRnA'].values, 'k')\n",
    "#plt.plot(pred_val)\n",
    "plt.plot(pd.date_range(startday_val, periods=len(pred_val), freq='W'), pred_val, 'r')\n",
    "plt.legend(['Data', 'CNN'], fontsize=14)\n",
    "plt.xlabel('Dates', fontsize=16)\n",
    "plt.ylim([65, 125])\n",
    "plt.grid(alpha=0.3)"
   ]
  }
 ],
 "metadata": {
  "kernelspec": {
   "display_name": "Python 3",
   "language": "python",
   "name": "python3"
  },
  "language_info": {
   "codemirror_mode": {
    "name": "ipython",
    "version": 3
   },
   "file_extension": ".py",
   "mimetype": "text/x-python",
   "name": "python",
   "nbconvert_exporter": "python",
   "pygments_lexer": "ipython3",
   "version": "3.5.4"
  }
 },
 "nbformat": 4,
 "nbformat_minor": 2
}
