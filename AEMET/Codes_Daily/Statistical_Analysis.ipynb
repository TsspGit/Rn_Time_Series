{
 "cells": [
  {
   "cell_type": "code",
   "execution_count": 1,
   "metadata": {},
   "outputs": [],
   "source": [
    "import numpy as np\n",
    "import matplotlib.pyplot as plt\n",
    "import pandas as pd\n",
    "from scipy.stats.mstats import kruskalwallis\n",
    "from scipy.stats import wilcoxon\n",
    "plt.rc('text',usetex=True)\n",
    "plt.rc('font',family='serif')\n",
    "plt.rcParams['xtick.labelsize']=13\n",
    "plt.rcParams['ytick.labelsize']=13\n",
    "plt.rcParams['axes.labelsize']=16\n",
    "plt.rcParams['axes.titlesize']=16"
   ]
  },
  {
   "cell_type": "markdown",
   "metadata": {},
   "source": [
    "# $^{222}Rn$"
   ]
  },
  {
   "cell_type": "code",
   "execution_count": null,
   "metadata": {},
   "outputs": [],
   "source": [
    "EAM_Rn = [8.211480729123378, 9.208639915953292, 8.514089584350586, 8.322871674882604, 8.150424510874647, 8.526771139591299, 8.307480791781812, 8.621930791976604, 8.220381229481799, 8.403754741587537, 8.480089796350358, 8.563497624498732, 8.175465117109583, 8.29117425959161, 8.963435152743726, 8.061902472313415, 8.142905296163356, 8.604449779429334, 8.200639602985788, 8.299986981331035, 8.248483820164457, 8.127263779335834, 8.297681727307909, 8.25263940527084, 8.225357623810464]"
   ]
  },
  {
   "cell_type": "markdown",
   "metadata": {},
   "source": [
    "# $^{222}Rn + T$"
   ]
  },
  {
   "cell_type": "code",
   "execution_count": null,
   "metadata": {},
   "outputs": [],
   "source": [
    "EAM_RnT_BCN = [8.059945654361806, 8.03970312564931, 8.12277168923236, 8.053294607933532, 8.048365126264857, 8.165090114512342, 8.02081221722542, 8.061697614953873, 8.185345507682637, 8.413906503230967, 8.132826094931744, 8.1881618093937, 8.251170665659803, 8.117733082872755, 8.350974224983378, 7.956330563159699, 8.038048358673745, 8.065417675261802, 8.0369804463488, 8.129734850944356, 8.102025661062687, 8.101720079462579, 8.135596863766933, 8.027808940156977, 8.28533558135337]\n",
    "EAM_RnT_PMP = [8.048338423383997, 8.061835918020694, 8.010926185770238, 7.947391794082966, 8.436416666558449, 8.059653180710812, 8.212462526686648, 8.13142910409481, 8.318235965485268, 8.11553975369068, 8.016166605847948, 8.170698084729784, 8.160849753846513, 8.226865322031873, 8.555549986819004, 8.194006899569898, 8.282557548360622, 8.095395757796917, 8.102666895440285, 8.380331404665684, 8.062647920973758, 8.130499251345372, 8.203159900421792, 8.082500985328187, 8.104652485948927]\n",
    "EAM_RnT_ZGZ = [8.344254067603577, 8.07323772349256, 8.18323585834909, 8.246122157320062, 8.079329957353307, 8.133613464680124, 8.202599910979576, 8.189216451441988, 8.144079573610997, 8.356861033338182, 8.205509226372902, 8.233928761583693, 8.160559431035468, 8.25779160032881, 8.249153096625145, 8.072600141484687, 8.264818029200777, 8.10154943263277, 8.342795716955306, 8.31978436733814, 8.241368922781437, 8.261904817946414, 8.259412603175386, 8.172716952384786, 8.345493763051135]\n",
    "EAM_RnT_HSC = [8.281530583158453, 8.28206115073346, 8.177005159093978, 8.052565513773168, 8.24305834668748, 8.182604972352372, 8.053872169332301, 8.083223383477394, 8.251345898242707, 8.172950541719477, 8.06568088937313, 8.290624862021588, 8.129040657205785, 8.125324898577752, 7.993029979949302, 8.35301245019791, 8.3312279315705, 8.177043387230407, 7.969878988063082, 8.030435237478702, 8.054201572499377, 8.09184658781011, 8.273422038301508, 8.114550732551738, 8.039057264936732]"
   ]
  },
  {
   "cell_type": "code",
   "execution_count": null,
   "metadata": {},
   "outputs": [],
   "source": [
    "X = [EAM_Rn, EAM_RnT_BCN, EAM_RnT_PMP, EAM_RnT_ZGZ, EAM_RnT_HSC]\n",
    "lbl = ['Rn', 'Rn+T BCN', 'Rn+T PMP', 'Rn+T ZGZ', 'Rn+T HSC']"
   ]
  },
  {
   "cell_type": "code",
   "execution_count": null,
   "metadata": {},
   "outputs": [],
   "source": [
    "fig, ax = plt.subplots(nrows=1, ncols=1, figsize=(12, 6))\n",
    "bplot = ax.boxplot(X, sym='+', labels=lbl, patch_artist=True, notch=True, \n",
    "                   medianprops=dict(linestyle='-', linewidth=1.4, color='k'))\n",
    "plt.ylabel('$MAE\\ (Bq \\cdot m^{-3})$')\n",
    "colors = ['#1f77b4', 'yellow', '#2ca02c', 'red', 'darkviolet']\n",
    "for patch, color in zip(bplot['boxes'], colors):\n",
    "    patch.set_facecolor(color)\n",
    "#fig.savefig('../Figures/CNN/MAE_Boxplot.png', dpi=300)"
   ]
  },
  {
   "cell_type": "markdown",
   "metadata": {},
   "source": [
    "# Kruskal-Wallis\n",
    "En estadística, la prueba de Kruskal-Wallis (de William Kruskal y W. Allen Wallis) es un método no paramétrico para probar si un grupo de datos proviene de la misma población. Intuitivamente, es idéntico al ANOVA con los datos reemplazados por categorías. Es una extensión de la prueba de la U de Mann-Whitney para 3 o más grupos.\n",
    "\n",
    "Ya que es una prueba no paramétrica, la prueba de Kruskal-Wallis no asume normalidad en los datos, en oposición al tradicional ANOVA. Sí asume, bajo la hipótesis nula, que los datos vienen de la misma distribución. Una forma común en que se viola este supuesto es con datos heterocedásticos. "
   ]
  },
  {
   "cell_type": "code",
   "execution_count": null,
   "metadata": {},
   "outputs": [],
   "source": [
    "print('Kruskal Wallis between BCN and PMP :', kruskalwallis(X[1], X[2]))\n",
    "print('Kruskal Wallis between BCN and ZGZ :', kruskalwallis(X[1], X[3]))\n",
    "print('Kruskal Wallis between BCN and HSC :', kruskalwallis(X[1], X[4]))"
   ]
  },
  {
   "cell_type": "code",
   "execution_count": null,
   "metadata": {},
   "outputs": [],
   "source": [
    "print('Kruskal Wallis between PMP and ZGZ :', kruskalwallis(X[2], X[3]))\n",
    "print('Kruskal Wallis between PMP and HSC :', kruskalwallis(X[2], X[4]))"
   ]
  },
  {
   "cell_type": "code",
   "execution_count": null,
   "metadata": {},
   "outputs": [],
   "source": [
    "print('Kruskal Wallis between ZGZ and HSC :', kruskalwallis(X[3], X[4]))"
   ]
  },
  {
   "cell_type": "code",
   "execution_count": null,
   "metadata": {},
   "outputs": [],
   "source": [
    "print('Kruskal Wallis between the 4 cities :', kruskalwallis(X[:-1]))"
   ]
  },
  {
   "cell_type": "markdown",
   "metadata": {},
   "source": [
    "# V2"
   ]
  },
  {
   "cell_type": "code",
   "execution_count": null,
   "metadata": {},
   "outputs": [],
   "source": [
    "EAM_Rn = [7.957026462928922, 8.829230102838254, 8.82228993434532, 6.7291641609341495, 6.484147202734854, 5.728721543854358, 5.414373622221105, 7.374995474721871, 6.4537142959295535, 6.119189168892655, 6.428095163083544, 6.986444211473652, 6.054645800123028, 6.072771857766544, 6.662684571509268, 6.567270914713542, 5.728116802140778, 7.062237459070542, 5.830522238039503, 6.155300514370787, 5.328276391122856, 7.665476742912741, 5.856595768648035, 5.921784008250517, 5.988234950046913]"
   ]
  },
  {
   "cell_type": "code",
   "execution_count": null,
   "metadata": {},
   "outputs": [],
   "source": [
    "EAM_RnT_BCN = [6.640592799467199, 6.752361484602386, 6.566429212981579, 6.554271884993011, 6.9334148332184435, 6.43499542685116, 6.239002003389246, 6.307730356852214, 7.460333805458219, 6.3705578972311585, 7.211331049601237, 6.353525273940143, 7.63083719739727, 5.979975868673885, 7.167679132199755, 6.882324742335899, 6.720657124238856, 7.014494091856713, 6.546930761898265, 5.959228889614928, 7.437941644705978, 7.236246333402746, 8.616805506687538, 6.123318990071614, 6.908850838156307]\n",
    "EAM_RnT_PMP = [6.476646572935815, 7.264290716133866, 6.505566802679324, 6.383237389957204, 6.750935573203891, 7.284977520213408, 5.924745447495404, 6.889391469020469, 6.627223033531039, 6.254274480483112, 6.670552571614583, 7.322537553076651, 6.574525010352041, 6.420104419483858, 6.96022071090399, 7.448443244485294, 6.677722930908203, 7.0180017059924555, 6.923133401309743, 7.26979969997032, 6.111400604248047, 8.436556348613664, 6.069889106002509, 6.6524842954149435, 6.3160067539589075]\n",
    "EAM_RnT_ZGZ = [6.371614680570715, 7.137910768097522, 6.813130210427677, 7.286964154710956, 6.670178993075502, 6.076452816233916, 6.731590009203144, 6.451763377470129, 6.157823899213006, 7.731760286817364, 6.461606792375153, 6.544927073459999, 6.903651256187289, 6.4203742906159045, 8.103279861749387, 6.691247117285635, 7.099449008118873, 6.493941250969382, 5.922455581964231, 6.738455080518536, 6.706917183071959, 5.8234495649150775, 6.682252996108112, 6.471171696980794, 6.505207585353477]\n",
    "EAM_RnT_HSC = [8.51159106983858, 6.356553208594229, 6.953885396321614, 6.330532859353458, 6.585010042377546, 6.8170348148719935, 6.678549074659161, 6.478125852697036, 6.39091895608341, 8.424645255593692, 6.427627675673541, 6.0703196432076245, 6.470955343807445, 6.181999917123832, 7.187143587598614, 7.406943040735581, 6.428633521584904, 6.136665830425188, 7.082850400139304, 6.28369888604856, 6.237776326198204, 6.5261895422841985, 7.044385087256338, 5.876008763032801, 6.137154223872166]"
   ]
  },
  {
   "cell_type": "code",
   "execution_count": null,
   "metadata": {},
   "outputs": [],
   "source": [
    "X = [EAM_Rn, EAM_RnT_BCN, EAM_RnT_PMP, EAM_RnT_ZGZ, EAM_RnT_HSC]\n",
    "lbl = ['Rn', 'Rn+T BCN', 'Rn+T PMP', 'Rn+T ZGZ', 'Rn+T HSC']"
   ]
  },
  {
   "cell_type": "code",
   "execution_count": null,
   "metadata": {},
   "outputs": [],
   "source": [
    "fig, ax = plt.subplots(nrows=1, ncols=1, figsize=(12, 6))\n",
    "bplot = ax.boxplot(X, sym='+', labels=lbl, patch_artist=True, notch=True, \n",
    "                   medianprops=dict(linestyle='-', linewidth=1.4, color='k'))\n",
    "plt.ylabel('$MAE\\ (Bq \\cdot m^{-3})$')\n",
    "colors = ['#1f77b4', 'yellow', '#2ca02c', 'red', 'darkviolet']\n",
    "for patch, color in zip(bplot['boxes'], colors):\n",
    "    patch.set_facecolor(color)\n",
    "#fig.savefig('../Figures/CNN/MAE_Boxplot_v2.png', dpi=300)"
   ]
  },
  {
   "cell_type": "code",
   "execution_count": null,
   "metadata": {},
   "outputs": [],
   "source": [
    "print('Kruskal Wallis between BCN, PMP, HSC, ZGZ :', kruskalwallis(X[1], X[2], X[3], X[4]))"
   ]
  },
  {
   "cell_type": "code",
   "execution_count": null,
   "metadata": {},
   "outputs": [],
   "source": [
    "print('Wilcoxon between Rn and PMP', wilcoxon(X[0], X[2]))"
   ]
  },
  {
   "cell_type": "code",
   "execution_count": null,
   "metadata": {},
   "outputs": [],
   "source": [
    "DF = pd.DataFrame({'Rn': EAM_Rn,\n",
    "                  'BCN': EAM_RnT_BCN,\n",
    "                  'PMP': EAM_RnT_PMP,\n",
    "                  'ZGZ': EAM_RnT_ZGZ,\n",
    "                  'HSC': EAM_RnT_HSC})"
   ]
  },
  {
   "cell_type": "code",
   "execution_count": null,
   "metadata": {},
   "outputs": [],
   "source": [
    "DF.describe()"
   ]
  },
  {
   "cell_type": "markdown",
   "metadata": {},
   "source": [
    "# 3 Forward"
   ]
  },
  {
   "cell_type": "code",
   "execution_count": null,
   "metadata": {},
   "outputs": [],
   "source": [
    "EAMRn =  [6.455543160438538, 7.072296301523845, 5.512895782788594, 6.013731161753337, 5.69798743724823, 7.423967639605205, 6.364539464314778, 6.2372556527455645, 6.473839322725932, 5.8800021807352705, 5.93059766292572, 7.802989721298218, 6.162115295728047, 5.541943788528442, 7.414313832918803, 6.553581555684407, 5.6810409228007, 5.992370208104451, 5.542460680007935, 6.526913444201152, 5.636475443840027, 6.901504993438721, 9.021165450414022, 6.334753394126892, 6.274289449055989]\n",
    "EAM_BCN =  [6.16275954246521, 5.701338926951091, 5.853175123532613, 6.004204909006755, 5.4231016635894775, 6.746338407198588, 6.384002288182576, 5.861535906791687, 5.879589597384135, 5.776523272196452, 5.59281591574351, 6.045260588328044, 6.966628034909566, 6.346726099650065, 6.0387217203776045, 6.139764428138733, 5.813184499740601, 5.939867337544759, 5.598189036051433, 5.696633179982503, 5.33791979153951, 5.242201288541158, 5.7235389947891235, 6.566652894020081, 6.145748297373454]\n",
    "EAM_PMP =  [6.171736081441243, 6.032948096593221, 6.2267671426137285, 4.585991024971008, 6.069047768910726, 5.547447760899861, 5.408446550369263, 6.440662860870361, 5.938269257545471, 6.103848417599996, 5.331648786862691, 5.238194584846497, 6.373743335405986, 5.51784360408783, 6.392698725064595, 6.356711149215698, 5.545058290163676, 5.684237281481425, 5.954345782597859, 6.107104063034058, 5.698317170143127, 5.9570006132125854, 5.6505701541900635, 5.7907891273498535, 5.938798189163208]\n",
    "EAM_ZGZ =  [5.578525900840759, 5.761840144793193, 7.172967553138733, 6.152630845705668, 7.4824966589609785, 5.977097352345784, 5.487711985905965, 5.622631867726644, 5.825459241867065, 6.755466143290202, 6.267374952634175, 6.515908757845561, 5.8914981285731, 5.482475479443868, 7.341012318929036, 6.474547028541565, 6.371235688527425, 5.8407972653706866, 5.842097957928975, 5.589353879292806, 6.009651740392049, 6.356587092081706, 5.969763000806172, 6.107420245806376, 6.880016803741455]\n",
    "EAM_HSC =  [6.583736300468445, 6.8315335512161255, 5.941060423851013, 6.273655613263448, 5.631256262461345, 5.444688558578491, 6.097360412279765, 6.071695446968079, 6.005175630251567, 5.371678511301677, 6.4383284250895185, 6.076025525728862, 5.479027152061462, 6.510177731513977, 6.027319272359212, 6.199570616086324, 6.122778534889221, 5.7268762191136675, 5.845083475112915, 6.002572337786357, 6.0272230704625445, 5.770824631055196, 5.916007041931152, 5.7001872062683105, 6.175832788149516]\n",
    "# Boxplot:\n",
    "X = [EAMRn, EAM_BCN, EAM_PMP, EAM_ZGZ, EAM_HSC]\n",
    "lbl = ['Rn', 'Rn+T BCN', 'Rn+T PMP', 'Rn+T ZGZ', 'Rn+T HSC']\n",
    "fig, ax = plt.subplots(nrows=1, ncols=1, figsize=(12, 6))\n",
    "bplot = ax.boxplot(X, sym='+', labels=lbl, notch=True, patch_artist=True,\n",
    "                   medianprops=dict(linestyle='-', linewidth=1.4, color='k'))\n",
    "plt.grid()\n",
    "plt.ylabel('$MAE\\ (Bq \\cdot m^{-3})$')\n",
    "colors = ['dimgray']*5\n",
    "for patch, color in zip(bplot['boxes'], colors):\n",
    "    patch.set_facecolor(color)"
   ]
  },
  {
   "cell_type": "code",
   "execution_count": null,
   "metadata": {},
   "outputs": [],
   "source": [
    "print('Kruskal Wallis between Rn, BCN, PMP:', kruskalwallis(X[0], X[1], X[2]))"
   ]
  },
  {
   "cell_type": "code",
   "execution_count": null,
   "metadata": {},
   "outputs": [],
   "source": [
    "np.quantile(EAMRn, 0.25)"
   ]
  },
  {
   "cell_type": "code",
   "execution_count": null,
   "metadata": {},
   "outputs": [],
   "source": [
    "print('Wilcoxon between Rn and PMP', wilcoxon(X[0], X[2]))\n",
    "print('Wilcoxon between Rn and BCN', wilcoxon(X[0], X[1]))"
   ]
  },
  {
   "cell_type": "code",
   "execution_count": null,
   "metadata": {},
   "outputs": [],
   "source": [
    "DF = pd.DataFrame({'Rn': EAMRn,\n",
    "                  'BCN': EAM_BCN,\n",
    "                  'PMP': EAM_PMP,\n",
    "                  'ZGZ': EAM_ZGZ,\n",
    "                  'HSC': EAM_HSC})"
   ]
  },
  {
   "cell_type": "code",
   "execution_count": null,
   "metadata": {},
   "outputs": [],
   "source": [
    "DF.describe()"
   ]
  },
  {
   "cell_type": "markdown",
   "metadata": {},
   "source": [
    "# Statistical Test"
   ]
  },
  {
   "cell_type": "code",
   "execution_count": 2,
   "metadata": {},
   "outputs": [],
   "source": [
    "def toLatexformat(DF):\n",
    "    array = DF.describe().loc[['mean', 'std'], :].round(2).values\n",
    "    for i in range(array.shape[1]):\n",
    "        print('$' + str(array[0][i]) + ' \\pm ' + str(array[1][i]) + '$ &', end=' ')"
   ]
  },
  {
   "cell_type": "markdown",
   "metadata": {},
   "source": [
    "## ANN"
   ]
  },
  {
   "cell_type": "code",
   "execution_count": 3,
   "metadata": {},
   "outputs": [],
   "source": [
    "DF2_Fw = pd.read_csv('../logs/ErrorsANN2Fw.csv')\n",
    "DF4_Fw = pd.read_csv('../logs/ErrorsANN4Fw.csv')\n",
    "DF6_Fw = pd.read_csv('../logs/ErrorsANN6Fw.csv')\n",
    "DF8_Fw = pd.read_csv('../logs/ErrorsANN8Fw.csv')"
   ]
  },
  {
   "cell_type": "code",
   "execution_count": 14,
   "metadata": {},
   "outputs": [
    {
     "data": {
      "text/html": [
       "<div>\n",
       "<style scoped>\n",
       "    .dataframe tbody tr th:only-of-type {\n",
       "        vertical-align: middle;\n",
       "    }\n",
       "\n",
       "    .dataframe tbody tr th {\n",
       "        vertical-align: top;\n",
       "    }\n",
       "\n",
       "    .dataframe thead th {\n",
       "        text-align: right;\n",
       "    }\n",
       "</style>\n",
       "<table border=\"1\" class=\"dataframe\">\n",
       "  <thead>\n",
       "    <tr style=\"text-align: right;\">\n",
       "      <th></th>\n",
       "      <th>Rn</th>\n",
       "      <th>BCN</th>\n",
       "      <th>PMP</th>\n",
       "      <th>ZGZ</th>\n",
       "      <th>HSC</th>\n",
       "    </tr>\n",
       "  </thead>\n",
       "  <tbody>\n",
       "    <tr>\n",
       "      <th>count</th>\n",
       "      <td>25.000000</td>\n",
       "      <td>25.000000</td>\n",
       "      <td>25.000000</td>\n",
       "      <td>25.000000</td>\n",
       "      <td>25.000000</td>\n",
       "    </tr>\n",
       "    <tr>\n",
       "      <th>mean</th>\n",
       "      <td>5.924497</td>\n",
       "      <td>5.912232</td>\n",
       "      <td>5.625930</td>\n",
       "      <td>5.695711</td>\n",
       "      <td>5.897643</td>\n",
       "    </tr>\n",
       "    <tr>\n",
       "      <th>std</th>\n",
       "      <td>1.173969</td>\n",
       "      <td>1.358692</td>\n",
       "      <td>1.557090</td>\n",
       "      <td>1.085537</td>\n",
       "      <td>1.523839</td>\n",
       "    </tr>\n",
       "    <tr>\n",
       "      <th>min</th>\n",
       "      <td>4.338867</td>\n",
       "      <td>3.855956</td>\n",
       "      <td>3.954969</td>\n",
       "      <td>4.111015</td>\n",
       "      <td>3.535242</td>\n",
       "    </tr>\n",
       "    <tr>\n",
       "      <th>25%</th>\n",
       "      <td>5.206197</td>\n",
       "      <td>4.826363</td>\n",
       "      <td>4.534080</td>\n",
       "      <td>4.910469</td>\n",
       "      <td>4.883403</td>\n",
       "    </tr>\n",
       "    <tr>\n",
       "      <th>50%</th>\n",
       "      <td>5.730935</td>\n",
       "      <td>5.533277</td>\n",
       "      <td>5.325846</td>\n",
       "      <td>5.719985</td>\n",
       "      <td>5.736638</td>\n",
       "    </tr>\n",
       "    <tr>\n",
       "      <th>75%</th>\n",
       "      <td>6.264144</td>\n",
       "      <td>6.979057</td>\n",
       "      <td>6.424190</td>\n",
       "      <td>6.021098</td>\n",
       "      <td>7.242202</td>\n",
       "    </tr>\n",
       "    <tr>\n",
       "      <th>max</th>\n",
       "      <td>8.847129</td>\n",
       "      <td>8.431746</td>\n",
       "      <td>10.631177</td>\n",
       "      <td>8.145195</td>\n",
       "      <td>8.932835</td>\n",
       "    </tr>\n",
       "  </tbody>\n",
       "</table>\n",
       "</div>"
      ],
      "text/plain": [
       "              Rn        BCN        PMP        ZGZ        HSC\n",
       "count  25.000000  25.000000  25.000000  25.000000  25.000000\n",
       "mean    5.924497   5.912232   5.625930   5.695711   5.897643\n",
       "std     1.173969   1.358692   1.557090   1.085537   1.523839\n",
       "min     4.338867   3.855956   3.954969   4.111015   3.535242\n",
       "25%     5.206197   4.826363   4.534080   4.910469   4.883403\n",
       "50%     5.730935   5.533277   5.325846   5.719985   5.736638\n",
       "75%     6.264144   6.979057   6.424190   6.021098   7.242202\n",
       "max     8.847129   8.431746  10.631177   8.145195   8.932835"
      ]
     },
     "execution_count": 14,
     "metadata": {},
     "output_type": "execute_result"
    }
   ],
   "source": [
    "DF4_Fw.describe()"
   ]
  },
  {
   "cell_type": "code",
   "execution_count": 4,
   "metadata": {},
   "outputs": [
    {
     "name": "stdout",
     "output_type": "stream",
     "text": [
      "$6.52 \\pm 1.29$ & $5.87 \\pm 0.72$ & $6.23 \\pm 1.25$ & $5.79 \\pm 0.74$ & $5.93 \\pm 0.89$ & "
     ]
    }
   ],
   "source": [
    "DF2_Fw.describe().loc[['mean', 'std'], :]\n",
    "toLatexformat(DF2_Fw)"
   ]
  },
  {
   "cell_type": "code",
   "execution_count": 5,
   "metadata": {},
   "outputs": [
    {
     "name": "stdout",
     "output_type": "stream",
     "text": [
      "$5.92 \\pm 1.17$ & $5.91 \\pm 1.36$ & $5.63 \\pm 1.56$ & $5.7 \\pm 1.09$ & $5.9 \\pm 1.52$ & "
     ]
    }
   ],
   "source": [
    "DF4_Fw.describe().loc[['mean', 'std'], :]\n",
    "toLatexformat(DF4_Fw)"
   ]
  },
  {
   "cell_type": "code",
   "execution_count": 6,
   "metadata": {},
   "outputs": [
    {
     "name": "stdout",
     "output_type": "stream",
     "text": [
      "$5.85 \\pm 1.48$ & $5.98 \\pm 1.31$ & $6.6 \\pm 1.79$ & $6.12 \\pm 1.5$ & $6.12 \\pm 1.58$ & "
     ]
    }
   ],
   "source": [
    "DF6_Fw.describe().loc[['mean', 'std'], :]\n",
    "toLatexformat(DF6_Fw)"
   ]
  },
  {
   "cell_type": "code",
   "execution_count": 7,
   "metadata": {},
   "outputs": [
    {
     "name": "stdout",
     "output_type": "stream",
     "text": [
      "$6.56 \\pm 1.63$ & $6.72 \\pm 1.82$ & $6.52 \\pm 1.53$ & $6.6 \\pm 1.94$ & $6.88 \\pm 1.56$ & "
     ]
    }
   ],
   "source": [
    "DF8_Fw.describe().loc[['mean', 'std'], :]\n",
    "toLatexformat(DF8_Fw)"
   ]
  },
  {
   "cell_type": "code",
   "execution_count": 15,
   "metadata": {},
   "outputs": [
    {
     "data": {
      "text/plain": [
       "0.803062577328434"
      ]
     },
     "execution_count": 15,
     "metadata": {},
     "output_type": "execute_result"
    }
   ],
   "source": [
    "kruskalwallis(DF4_Fw['Rn'].values, DF4_Fw['BCN'].values, DF4_Fw['PMP'].values, DF4_Fw['ZGZ'].values, \n",
    "              DF4_Fw['HSC'].values)[1]"
   ]
  },
  {
   "cell_type": "code",
   "execution_count": 17,
   "metadata": {},
   "outputs": [
    {
     "data": {
      "text/plain": [
       "WilcoxonResult(statistic=126.0, pvalue=0.326049462728915)"
      ]
     },
     "execution_count": 17,
     "metadata": {},
     "output_type": "execute_result"
    }
   ],
   "source": [
    "wilcoxon(DF4_Fw['Rn'], DF4_Fw['PMP'])"
   ]
  },
  {
   "cell_type": "markdown",
   "metadata": {},
   "source": [
    "## CNN"
   ]
  },
  {
   "cell_type": "code",
   "execution_count": 3,
   "metadata": {},
   "outputs": [],
   "source": [
    "DF2_Fw = pd.read_csv('../logs/ErrorsCNN2Fw.csv')\n",
    "DF4_Fw = pd.read_csv('../logs/ErrorsCNN4Fw.csv')\n",
    "DF6_Fw = pd.read_csv('../logs/ErrorsCNN6Fw.csv')\n",
    "DF8_Fw = pd.read_csv('../logs/ErrorsCNN8Fw.csv')"
   ]
  },
  {
   "cell_type": "markdown",
   "metadata": {},
   "source": [
    "### Mins"
   ]
  },
  {
   "cell_type": "code",
   "execution_count": 12,
   "metadata": {},
   "outputs": [
    {
     "data": {
      "text/html": [
       "<div>\n",
       "<style scoped>\n",
       "    .dataframe tbody tr th:only-of-type {\n",
       "        vertical-align: middle;\n",
       "    }\n",
       "\n",
       "    .dataframe tbody tr th {\n",
       "        vertical-align: top;\n",
       "    }\n",
       "\n",
       "    .dataframe thead th {\n",
       "        text-align: right;\n",
       "    }\n",
       "</style>\n",
       "<table border=\"1\" class=\"dataframe\">\n",
       "  <thead>\n",
       "    <tr style=\"text-align: right;\">\n",
       "      <th></th>\n",
       "      <th>Rn</th>\n",
       "      <th>BCN</th>\n",
       "      <th>PMP</th>\n",
       "      <th>ZGZ</th>\n",
       "      <th>HSC</th>\n",
       "    </tr>\n",
       "  </thead>\n",
       "  <tbody>\n",
       "    <tr>\n",
       "      <th>min</th>\n",
       "      <td>6.674835</td>\n",
       "      <td>5.941878</td>\n",
       "      <td>5.975408</td>\n",
       "      <td>5.821635</td>\n",
       "      <td>5.561251</td>\n",
       "    </tr>\n",
       "  </tbody>\n",
       "</table>\n",
       "</div>"
      ],
      "text/plain": [
       "           Rn       BCN       PMP       ZGZ       HSC\n",
       "min  6.674835  5.941878  5.975408  5.821635  5.561251"
      ]
     },
     "execution_count": 12,
     "metadata": {},
     "output_type": "execute_result"
    }
   ],
   "source": [
    "DF2_Fw.describe().loc[['min']]"
   ]
  },
  {
   "cell_type": "code",
   "execution_count": 13,
   "metadata": {},
   "outputs": [
    {
     "data": {
      "text/html": [
       "<div>\n",
       "<style scoped>\n",
       "    .dataframe tbody tr th:only-of-type {\n",
       "        vertical-align: middle;\n",
       "    }\n",
       "\n",
       "    .dataframe tbody tr th {\n",
       "        vertical-align: top;\n",
       "    }\n",
       "\n",
       "    .dataframe thead th {\n",
       "        text-align: right;\n",
       "    }\n",
       "</style>\n",
       "<table border=\"1\" class=\"dataframe\">\n",
       "  <thead>\n",
       "    <tr style=\"text-align: right;\">\n",
       "      <th></th>\n",
       "      <th>Rn</th>\n",
       "      <th>BCN</th>\n",
       "      <th>PMP</th>\n",
       "      <th>ZGZ</th>\n",
       "      <th>HSC</th>\n",
       "    </tr>\n",
       "  </thead>\n",
       "  <tbody>\n",
       "    <tr>\n",
       "      <th>min</th>\n",
       "      <td>6.078725</td>\n",
       "      <td>5.608661</td>\n",
       "      <td>5.540655</td>\n",
       "      <td>5.50147</td>\n",
       "      <td>5.534487</td>\n",
       "    </tr>\n",
       "  </tbody>\n",
       "</table>\n",
       "</div>"
      ],
      "text/plain": [
       "           Rn       BCN       PMP      ZGZ       HSC\n",
       "min  6.078725  5.608661  5.540655  5.50147  5.534487"
      ]
     },
     "execution_count": 13,
     "metadata": {},
     "output_type": "execute_result"
    }
   ],
   "source": [
    "DF4_Fw.describe().loc[['min']]"
   ]
  },
  {
   "cell_type": "code",
   "execution_count": 14,
   "metadata": {},
   "outputs": [
    {
     "data": {
      "text/html": [
       "<div>\n",
       "<style scoped>\n",
       "    .dataframe tbody tr th:only-of-type {\n",
       "        vertical-align: middle;\n",
       "    }\n",
       "\n",
       "    .dataframe tbody tr th {\n",
       "        vertical-align: top;\n",
       "    }\n",
       "\n",
       "    .dataframe thead th {\n",
       "        text-align: right;\n",
       "    }\n",
       "</style>\n",
       "<table border=\"1\" class=\"dataframe\">\n",
       "  <thead>\n",
       "    <tr style=\"text-align: right;\">\n",
       "      <th></th>\n",
       "      <th>Rn</th>\n",
       "      <th>BCN</th>\n",
       "      <th>PMP</th>\n",
       "      <th>ZGZ</th>\n",
       "      <th>HSC</th>\n",
       "    </tr>\n",
       "  </thead>\n",
       "  <tbody>\n",
       "    <tr>\n",
       "      <th>min</th>\n",
       "      <td>5.54132</td>\n",
       "      <td>5.242864</td>\n",
       "      <td>5.677345</td>\n",
       "      <td>5.521731</td>\n",
       "      <td>5.624696</td>\n",
       "    </tr>\n",
       "  </tbody>\n",
       "</table>\n",
       "</div>"
      ],
      "text/plain": [
       "          Rn       BCN       PMP       ZGZ       HSC\n",
       "min  5.54132  5.242864  5.677345  5.521731  5.624696"
      ]
     },
     "execution_count": 14,
     "metadata": {},
     "output_type": "execute_result"
    }
   ],
   "source": [
    "DF6_Fw.describe().loc[['min']]"
   ]
  },
  {
   "cell_type": "code",
   "execution_count": 15,
   "metadata": {},
   "outputs": [
    {
     "data": {
      "text/html": [
       "<div>\n",
       "<style scoped>\n",
       "    .dataframe tbody tr th:only-of-type {\n",
       "        vertical-align: middle;\n",
       "    }\n",
       "\n",
       "    .dataframe tbody tr th {\n",
       "        vertical-align: top;\n",
       "    }\n",
       "\n",
       "    .dataframe thead th {\n",
       "        text-align: right;\n",
       "    }\n",
       "</style>\n",
       "<table border=\"1\" class=\"dataframe\">\n",
       "  <thead>\n",
       "    <tr style=\"text-align: right;\">\n",
       "      <th></th>\n",
       "      <th>Rn</th>\n",
       "      <th>BCN</th>\n",
       "      <th>PMP</th>\n",
       "      <th>ZGZ</th>\n",
       "      <th>HSC</th>\n",
       "    </tr>\n",
       "  </thead>\n",
       "  <tbody>\n",
       "    <tr>\n",
       "      <th>min</th>\n",
       "      <td>5.457878</td>\n",
       "      <td>5.358716</td>\n",
       "      <td>5.198308</td>\n",
       "      <td>5.342781</td>\n",
       "      <td>5.379549</td>\n",
       "    </tr>\n",
       "  </tbody>\n",
       "</table>\n",
       "</div>"
      ],
      "text/plain": [
       "           Rn       BCN       PMP       ZGZ       HSC\n",
       "min  5.457878  5.358716  5.198308  5.342781  5.379549"
      ]
     },
     "execution_count": 15,
     "metadata": {},
     "output_type": "execute_result"
    }
   ],
   "source": [
    "DF8_Fw.describe().loc[['min']]"
   ]
  },
  {
   "cell_type": "markdown",
   "metadata": {},
   "source": [
    "### Latex table"
   ]
  },
  {
   "cell_type": "code",
   "execution_count": 4,
   "metadata": {},
   "outputs": [
    {
     "name": "stdout",
     "output_type": "stream",
     "text": [
      "$7.6 \\pm 0.59$ & $6.45 \\pm 0.36$ & $6.66 \\pm 0.99$ & $6.63 \\pm 0.52$ & $6.87 \\pm 0.83$ & "
     ]
    }
   ],
   "source": [
    "toLatexformat(DF2_Fw)"
   ]
  },
  {
   "cell_type": "code",
   "execution_count": 5,
   "metadata": {},
   "outputs": [
    {
     "name": "stdout",
     "output_type": "stream",
     "text": [
      "$6.6 \\pm 0.41$ & $6.22 \\pm 0.39$ & $6.19 \\pm 0.28$ & $6.28 \\pm 0.48$ & $6.31 \\pm 0.54$ & "
     ]
    }
   ],
   "source": [
    "toLatexformat(DF4_Fw)"
   ]
  },
  {
   "cell_type": "code",
   "execution_count": 6,
   "metadata": {},
   "outputs": [
    {
     "name": "stdout",
     "output_type": "stream",
     "text": [
      "$6.51 \\pm 0.47$ & $6.09 \\pm 0.51$ & $6.13 \\pm 0.39$ & $6.0 \\pm 0.4$ & $6.23 \\pm 0.46$ & "
     ]
    }
   ],
   "source": [
    "toLatexformat(DF6_Fw)"
   ]
  },
  {
   "cell_type": "code",
   "execution_count": 7,
   "metadata": {},
   "outputs": [
    {
     "name": "stdout",
     "output_type": "stream",
     "text": [
      "$6.35 \\pm 0.52$ & $6.06 \\pm 0.51$ & $6.15 \\pm 0.53$ & $6.03 \\pm 0.42$ & $5.93 \\pm 0.3$ & "
     ]
    }
   ],
   "source": [
    "toLatexformat(DF8_Fw)"
   ]
  },
  {
   "cell_type": "code",
   "execution_count": 16,
   "metadata": {},
   "outputs": [
    {
     "data": {
      "text/plain": [
       "KruskalResult(statistic=9.672899047619126, pvalue=0.04631326443223933)"
      ]
     },
     "execution_count": 16,
     "metadata": {},
     "output_type": "execute_result"
    }
   ],
   "source": [
    "kruskalwallis(DF8_Fw['Rn'].values, DF8_Fw['BCN'].values, DF8_Fw['PMP'].values, DF8_Fw['ZGZ'].values, \n",
    "              DF8_Fw['HSC'].values)"
   ]
  },
  {
   "cell_type": "code",
   "execution_count": 17,
   "metadata": {},
   "outputs": [
    {
     "data": {
      "text/plain": [
       "WilcoxonResult(statistic=34.0, pvalue=0.0005451350295901154)"
      ]
     },
     "execution_count": 17,
     "metadata": {},
     "output_type": "execute_result"
    }
   ],
   "source": [
    "wilcoxon(DF8_Fw['Rn'], DF8_Fw['HSC'])"
   ]
  },
  {
   "cell_type": "markdown",
   "metadata": {},
   "source": [
    "The correction of Bonferroni says that the maximal pvalue might be 0.05/4 = 0.0125 < 0.0148, so this case also pass the test"
   ]
  },
  {
   "cell_type": "markdown",
   "metadata": {},
   "source": [
    "## LSTM"
   ]
  },
  {
   "cell_type": "code",
   "execution_count": 2,
   "metadata": {},
   "outputs": [],
   "source": [
    "DF2_Fw = pd.read_csv('../logs/ErrorsLSTM2Fw.csv')\n",
    "DF4_Fw = pd.read_csv('../logs/ErrorsLSTM4Fw.csv')\n",
    "DF6_Fw = pd.read_csv('../logs/ErrorsLSTM6Fw.csv')\n",
    "DF8_Fw = pd.read_csv('../logs/ErrorsLSTM8Fw.csv')"
   ]
  },
  {
   "cell_type": "code",
   "execution_count": 19,
   "metadata": {},
   "outputs": [
    {
     "data": {
      "text/html": [
       "<div>\n",
       "<style scoped>\n",
       "    .dataframe tbody tr th:only-of-type {\n",
       "        vertical-align: middle;\n",
       "    }\n",
       "\n",
       "    .dataframe tbody tr th {\n",
       "        vertical-align: top;\n",
       "    }\n",
       "\n",
       "    .dataframe thead th {\n",
       "        text-align: right;\n",
       "    }\n",
       "</style>\n",
       "<table border=\"1\" class=\"dataframe\">\n",
       "  <thead>\n",
       "    <tr style=\"text-align: right;\">\n",
       "      <th></th>\n",
       "      <th>Rn</th>\n",
       "      <th>BCN</th>\n",
       "      <th>PMP</th>\n",
       "      <th>ZGZ</th>\n",
       "      <th>HSC</th>\n",
       "    </tr>\n",
       "  </thead>\n",
       "  <tbody>\n",
       "    <tr>\n",
       "      <th>mean</th>\n",
       "      <td>4.57</td>\n",
       "      <td>5.56</td>\n",
       "      <td>5.80</td>\n",
       "      <td>5.75</td>\n",
       "      <td>5.63</td>\n",
       "    </tr>\n",
       "    <tr>\n",
       "      <th>std</th>\n",
       "      <td>0.44</td>\n",
       "      <td>0.41</td>\n",
       "      <td>0.63</td>\n",
       "      <td>0.54</td>\n",
       "      <td>0.42</td>\n",
       "    </tr>\n",
       "  </tbody>\n",
       "</table>\n",
       "</div>"
      ],
      "text/plain": [
       "        Rn   BCN   PMP   ZGZ   HSC\n",
       "mean  4.57  5.56  5.80  5.75  5.63\n",
       "std   0.44  0.41  0.63  0.54  0.42"
      ]
     },
     "execution_count": 19,
     "metadata": {},
     "output_type": "execute_result"
    }
   ],
   "source": [
    "DF2_Fw.describe().loc[['mean', 'std'], :].round(2)"
   ]
  },
  {
   "cell_type": "code",
   "execution_count": 20,
   "metadata": {},
   "outputs": [
    {
     "data": {
      "text/html": [
       "<div>\n",
       "<style scoped>\n",
       "    .dataframe tbody tr th:only-of-type {\n",
       "        vertical-align: middle;\n",
       "    }\n",
       "\n",
       "    .dataframe tbody tr th {\n",
       "        vertical-align: top;\n",
       "    }\n",
       "\n",
       "    .dataframe thead th {\n",
       "        text-align: right;\n",
       "    }\n",
       "</style>\n",
       "<table border=\"1\" class=\"dataframe\">\n",
       "  <thead>\n",
       "    <tr style=\"text-align: right;\">\n",
       "      <th></th>\n",
       "      <th>Rn</th>\n",
       "      <th>BCN</th>\n",
       "      <th>PMP</th>\n",
       "      <th>ZGZ</th>\n",
       "      <th>HSC</th>\n",
       "    </tr>\n",
       "  </thead>\n",
       "  <tbody>\n",
       "    <tr>\n",
       "      <th>mean</th>\n",
       "      <td>4.00</td>\n",
       "      <td>4.50</td>\n",
       "      <td>4.48</td>\n",
       "      <td>4.51</td>\n",
       "      <td>4.54</td>\n",
       "    </tr>\n",
       "    <tr>\n",
       "      <th>std</th>\n",
       "      <td>0.33</td>\n",
       "      <td>0.22</td>\n",
       "      <td>0.28</td>\n",
       "      <td>0.25</td>\n",
       "      <td>0.24</td>\n",
       "    </tr>\n",
       "  </tbody>\n",
       "</table>\n",
       "</div>"
      ],
      "text/plain": [
       "        Rn   BCN   PMP   ZGZ   HSC\n",
       "mean  4.00  4.50  4.48  4.51  4.54\n",
       "std   0.33  0.22  0.28  0.25  0.24"
      ]
     },
     "execution_count": 20,
     "metadata": {},
     "output_type": "execute_result"
    }
   ],
   "source": [
    "DF4_Fw.describe().loc[['mean', 'std'], :].round(2)"
   ]
  },
  {
   "cell_type": "code",
   "execution_count": 21,
   "metadata": {},
   "outputs": [
    {
     "data": {
      "text/html": [
       "<div>\n",
       "<style scoped>\n",
       "    .dataframe tbody tr th:only-of-type {\n",
       "        vertical-align: middle;\n",
       "    }\n",
       "\n",
       "    .dataframe tbody tr th {\n",
       "        vertical-align: top;\n",
       "    }\n",
       "\n",
       "    .dataframe thead th {\n",
       "        text-align: right;\n",
       "    }\n",
       "</style>\n",
       "<table border=\"1\" class=\"dataframe\">\n",
       "  <thead>\n",
       "    <tr style=\"text-align: right;\">\n",
       "      <th></th>\n",
       "      <th>Rn</th>\n",
       "      <th>BCN</th>\n",
       "      <th>PMP</th>\n",
       "      <th>ZGZ</th>\n",
       "      <th>HSC</th>\n",
       "    </tr>\n",
       "  </thead>\n",
       "  <tbody>\n",
       "    <tr>\n",
       "      <th>mean</th>\n",
       "      <td>4.12</td>\n",
       "      <td>4.28</td>\n",
       "      <td>4.35</td>\n",
       "      <td>4.39</td>\n",
       "      <td>4.33</td>\n",
       "    </tr>\n",
       "    <tr>\n",
       "      <th>std</th>\n",
       "      <td>0.24</td>\n",
       "      <td>0.26</td>\n",
       "      <td>0.22</td>\n",
       "      <td>0.24</td>\n",
       "      <td>0.25</td>\n",
       "    </tr>\n",
       "  </tbody>\n",
       "</table>\n",
       "</div>"
      ],
      "text/plain": [
       "        Rn   BCN   PMP   ZGZ   HSC\n",
       "mean  4.12  4.28  4.35  4.39  4.33\n",
       "std   0.24  0.26  0.22  0.24  0.25"
      ]
     },
     "execution_count": 21,
     "metadata": {},
     "output_type": "execute_result"
    }
   ],
   "source": [
    "DF6_Fw.describe().loc[['mean', 'std'], :].round(2)"
   ]
  },
  {
   "cell_type": "code",
   "execution_count": 22,
   "metadata": {},
   "outputs": [
    {
     "data": {
      "text/html": [
       "<div>\n",
       "<style scoped>\n",
       "    .dataframe tbody tr th:only-of-type {\n",
       "        vertical-align: middle;\n",
       "    }\n",
       "\n",
       "    .dataframe tbody tr th {\n",
       "        vertical-align: top;\n",
       "    }\n",
       "\n",
       "    .dataframe thead th {\n",
       "        text-align: right;\n",
       "    }\n",
       "</style>\n",
       "<table border=\"1\" class=\"dataframe\">\n",
       "  <thead>\n",
       "    <tr style=\"text-align: right;\">\n",
       "      <th></th>\n",
       "      <th>Rn</th>\n",
       "      <th>BCN</th>\n",
       "      <th>PMP</th>\n",
       "      <th>ZGZ</th>\n",
       "      <th>HSC</th>\n",
       "    </tr>\n",
       "  </thead>\n",
       "  <tbody>\n",
       "    <tr>\n",
       "      <th>mean</th>\n",
       "      <td>4.42</td>\n",
       "      <td>4.42</td>\n",
       "      <td>4.40</td>\n",
       "      <td>4.37</td>\n",
       "      <td>4.44</td>\n",
       "    </tr>\n",
       "    <tr>\n",
       "      <th>std</th>\n",
       "      <td>0.28</td>\n",
       "      <td>0.23</td>\n",
       "      <td>0.18</td>\n",
       "      <td>0.21</td>\n",
       "      <td>0.27</td>\n",
       "    </tr>\n",
       "  </tbody>\n",
       "</table>\n",
       "</div>"
      ],
      "text/plain": [
       "        Rn   BCN   PMP   ZGZ   HSC\n",
       "mean  4.42  4.42  4.40  4.37  4.44\n",
       "std   0.28  0.23  0.18  0.21  0.27"
      ]
     },
     "execution_count": 22,
     "metadata": {},
     "output_type": "execute_result"
    }
   ],
   "source": [
    "DF8_Fw.describe().loc[['mean', 'std'], :].round(2)"
   ]
  },
  {
   "cell_type": "code",
   "execution_count": 23,
   "metadata": {},
   "outputs": [
    {
     "data": {
      "text/plain": [
       "KruskalResult(statistic=0.364678095238105, pvalue=0.9852653064286825)"
      ]
     },
     "execution_count": 23,
     "metadata": {},
     "output_type": "execute_result"
    }
   ],
   "source": [
    "kruskalwallis(DF8_Fw['Rn'].values, DF8_Fw['BCN'].values, DF8_Fw['PMP'].values, DF8_Fw['ZGZ'].values, \n",
    "              DF8_Fw['HSC'].values)"
   ]
  },
  {
   "cell_type": "code",
   "execution_count": 24,
   "metadata": {},
   "outputs": [
    {
     "name": "stdout",
     "output_type": "stream",
     "text": [
      "$4.42 \\pm 0.28$ & $4.42 \\pm 0.23$ & $4.4 \\pm 0.18$ & $4.37 \\pm 0.21$ & $4.44 \\pm 0.27$ & "
     ]
    }
   ],
   "source": [
    "toLatexformat(DF8_Fw)"
   ]
  },
  {
   "cell_type": "code",
   "execution_count": 3,
   "metadata": {},
   "outputs": [
    {
     "data": {
      "text/html": [
       "<div>\n",
       "<style scoped>\n",
       "    .dataframe tbody tr th:only-of-type {\n",
       "        vertical-align: middle;\n",
       "    }\n",
       "\n",
       "    .dataframe tbody tr th {\n",
       "        vertical-align: top;\n",
       "    }\n",
       "\n",
       "    .dataframe thead th {\n",
       "        text-align: right;\n",
       "    }\n",
       "</style>\n",
       "<table border=\"1\" class=\"dataframe\">\n",
       "  <thead>\n",
       "    <tr style=\"text-align: right;\">\n",
       "      <th></th>\n",
       "      <th>Rn</th>\n",
       "      <th>BCN</th>\n",
       "      <th>PMP</th>\n",
       "      <th>ZGZ</th>\n",
       "      <th>HSC</th>\n",
       "    </tr>\n",
       "  </thead>\n",
       "  <tbody>\n",
       "    <tr>\n",
       "      <th>count</th>\n",
       "      <td>25.000000</td>\n",
       "      <td>25.000000</td>\n",
       "      <td>25.000000</td>\n",
       "      <td>25.000000</td>\n",
       "      <td>25.000000</td>\n",
       "    </tr>\n",
       "    <tr>\n",
       "      <th>mean</th>\n",
       "      <td>4.421891</td>\n",
       "      <td>4.415500</td>\n",
       "      <td>4.401474</td>\n",
       "      <td>4.370254</td>\n",
       "      <td>4.439796</td>\n",
       "    </tr>\n",
       "    <tr>\n",
       "      <th>std</th>\n",
       "      <td>0.278765</td>\n",
       "      <td>0.232758</td>\n",
       "      <td>0.184885</td>\n",
       "      <td>0.211842</td>\n",
       "      <td>0.265035</td>\n",
       "    </tr>\n",
       "    <tr>\n",
       "      <th>min</th>\n",
       "      <td>3.908837</td>\n",
       "      <td>4.020022</td>\n",
       "      <td>4.131776</td>\n",
       "      <td>3.943104</td>\n",
       "      <td>4.030207</td>\n",
       "    </tr>\n",
       "    <tr>\n",
       "      <th>25%</th>\n",
       "      <td>4.219673</td>\n",
       "      <td>4.240716</td>\n",
       "      <td>4.281146</td>\n",
       "      <td>4.283391</td>\n",
       "      <td>4.285637</td>\n",
       "    </tr>\n",
       "    <tr>\n",
       "      <th>50%</th>\n",
       "      <td>4.424353</td>\n",
       "      <td>4.442658</td>\n",
       "      <td>4.316791</td>\n",
       "      <td>4.400962</td>\n",
       "      <td>4.418380</td>\n",
       "    </tr>\n",
       "    <tr>\n",
       "      <th>75%</th>\n",
       "      <td>4.669866</td>\n",
       "      <td>4.588327</td>\n",
       "      <td>4.543359</td>\n",
       "      <td>4.487304</td>\n",
       "      <td>4.525857</td>\n",
       "    </tr>\n",
       "    <tr>\n",
       "      <th>max</th>\n",
       "      <td>4.952022</td>\n",
       "      <td>4.938399</td>\n",
       "      <td>4.845216</td>\n",
       "      <td>4.798356</td>\n",
       "      <td>5.274200</td>\n",
       "    </tr>\n",
       "  </tbody>\n",
       "</table>\n",
       "</div>"
      ],
      "text/plain": [
       "              Rn        BCN        PMP        ZGZ        HSC\n",
       "count  25.000000  25.000000  25.000000  25.000000  25.000000\n",
       "mean    4.421891   4.415500   4.401474   4.370254   4.439796\n",
       "std     0.278765   0.232758   0.184885   0.211842   0.265035\n",
       "min     3.908837   4.020022   4.131776   3.943104   4.030207\n",
       "25%     4.219673   4.240716   4.281146   4.283391   4.285637\n",
       "50%     4.424353   4.442658   4.316791   4.400962   4.418380\n",
       "75%     4.669866   4.588327   4.543359   4.487304   4.525857\n",
       "max     4.952022   4.938399   4.845216   4.798356   5.274200"
      ]
     },
     "execution_count": 3,
     "metadata": {},
     "output_type": "execute_result"
    }
   ],
   "source": [
    "DF8_Fw.describe()"
   ]
  },
  {
   "cell_type": "code",
   "execution_count": 4,
   "metadata": {},
   "outputs": [
    {
     "data": {
      "text/plain": [
       "WilcoxonResult(statistic=132.0, pvalue=0.41183950024590854)"
      ]
     },
     "execution_count": 4,
     "metadata": {},
     "output_type": "execute_result"
    }
   ],
   "source": [
    "wilcoxon(DF8_Fw['Rn'].values, DF8_Fw['ZGZ'].values)"
   ]
  },
  {
   "cell_type": "markdown",
   "metadata": {},
   "source": [
    "# RNN"
   ]
  },
  {
   "cell_type": "code",
   "execution_count": 32,
   "metadata": {},
   "outputs": [],
   "source": [
    "DF2_Fw = pd.read_csv('../logs/ErrorsRNN2Fw.csv')\n",
    "DF4_Fw = pd.read_csv('../logs/ErrorsRNN4Fw.csv')\n",
    "DF6_Fw = pd.read_csv('../logs/ErrorsRNN6Fw.csv')\n",
    "DF8_Fw = pd.read_csv('../logs/ErrorsRNN8Fw.csv')"
   ]
  },
  {
   "cell_type": "code",
   "execution_count": 27,
   "metadata": {},
   "outputs": [
    {
     "data": {
      "text/html": [
       "<div>\n",
       "<style scoped>\n",
       "    .dataframe tbody tr th:only-of-type {\n",
       "        vertical-align: middle;\n",
       "    }\n",
       "\n",
       "    .dataframe tbody tr th {\n",
       "        vertical-align: top;\n",
       "    }\n",
       "\n",
       "    .dataframe thead th {\n",
       "        text-align: right;\n",
       "    }\n",
       "</style>\n",
       "<table border=\"1\" class=\"dataframe\">\n",
       "  <thead>\n",
       "    <tr style=\"text-align: right;\">\n",
       "      <th></th>\n",
       "      <th>Rn</th>\n",
       "      <th>BCN</th>\n",
       "      <th>PMP</th>\n",
       "      <th>ZGZ</th>\n",
       "      <th>HSC</th>\n",
       "    </tr>\n",
       "  </thead>\n",
       "  <tbody>\n",
       "    <tr>\n",
       "      <th>mean</th>\n",
       "      <td>7.205673</td>\n",
       "      <td>7.206593</td>\n",
       "      <td>7.174230</td>\n",
       "      <td>7.188967</td>\n",
       "      <td>7.317235</td>\n",
       "    </tr>\n",
       "    <tr>\n",
       "      <th>min</th>\n",
       "      <td>6.468613</td>\n",
       "      <td>6.551785</td>\n",
       "      <td>6.450265</td>\n",
       "      <td>6.400514</td>\n",
       "      <td>6.508013</td>\n",
       "    </tr>\n",
       "  </tbody>\n",
       "</table>\n",
       "</div>"
      ],
      "text/plain": [
       "            Rn       BCN       PMP       ZGZ       HSC\n",
       "mean  7.205673  7.206593  7.174230  7.188967  7.317235\n",
       "min   6.468613  6.551785  6.450265  6.400514  6.508013"
      ]
     },
     "execution_count": 27,
     "metadata": {},
     "output_type": "execute_result"
    }
   ],
   "source": [
    "DF2_Fw.describe().loc[['mean', 'min']]"
   ]
  },
  {
   "cell_type": "code",
   "execution_count": 9,
   "metadata": {},
   "outputs": [
    {
     "name": "stdout",
     "output_type": "stream",
     "text": [
      "$7.21 \\pm 0.44$ & $7.21 \\pm 0.27$ & $7.17 \\pm 0.41$ & $7.19 \\pm 0.43$ & $7.32 \\pm 0.51$ & "
     ]
    }
   ],
   "source": [
    "toLatexformat(DF2_Fw)"
   ]
  },
  {
   "cell_type": "code",
   "execution_count": 10,
   "metadata": {},
   "outputs": [
    {
     "name": "stdout",
     "output_type": "stream",
     "text": [
      "$5.83 \\pm 0.31$ & $5.91 \\pm 0.29$ & $5.81 \\pm 0.32$ & $5.81 \\pm 0.28$ & $5.88 \\pm 0.28$ & "
     ]
    }
   ],
   "source": [
    "toLatexformat(DF4_Fw)"
   ]
  },
  {
   "cell_type": "code",
   "execution_count": 11,
   "metadata": {},
   "outputs": [
    {
     "name": "stdout",
     "output_type": "stream",
     "text": [
      "$5.58 \\pm 0.27$ & $5.55 \\pm 0.2$ & $5.54 \\pm 0.25$ & $5.55 \\pm 0.24$ & $5.57 \\pm 0.19$ & "
     ]
    }
   ],
   "source": [
    "toLatexformat(DF6_Fw)"
   ]
  },
  {
   "cell_type": "code",
   "execution_count": 12,
   "metadata": {},
   "outputs": [
    {
     "name": "stdout",
     "output_type": "stream",
     "text": [
      "$5.55 \\pm 0.25$ & $5.5 \\pm 0.21$ & $5.48 \\pm 0.24$ & $5.52 \\pm 0.2$ & $5.52 \\pm 0.2$ & "
     ]
    }
   ],
   "source": [
    "toLatexformat(DF8_Fw)"
   ]
  },
  {
   "cell_type": "code",
   "execution_count": 33,
   "metadata": {},
   "outputs": [
    {
     "data": {
      "text/plain": [
       "KruskalResult(statistic=2.2246399999999653, pvalue=0.6945208258017714)"
      ]
     },
     "execution_count": 33,
     "metadata": {},
     "output_type": "execute_result"
    }
   ],
   "source": [
    "kruskalwallis(DF8_Fw['Rn'].values, DF8_Fw['BCN'].values, DF8_Fw['PMP'].values, DF8_Fw['ZGZ'].values, \n",
    "              DF8_Fw['HSC'].values)"
   ]
  },
  {
   "cell_type": "code",
   "execution_count": 14,
   "metadata": {},
   "outputs": [
    {
     "data": {
      "text/plain": [
       "WilcoxonResult(statistic=127.0, pvalue=0.33947890807294845)"
      ]
     },
     "execution_count": 14,
     "metadata": {},
     "output_type": "execute_result"
    }
   ],
   "source": [
    "wilcoxon(DF8_Fw['Rn'].values, DF8_Fw['PMP'].values)"
   ]
  },
  {
   "cell_type": "code",
   "execution_count": 35,
   "metadata": {},
   "outputs": [
    {
     "data": {
      "text/plain": [
       "count    25.000000\n",
       "mean      5.484575\n",
       "std       0.236480\n",
       "min       5.139616\n",
       "25%       5.325222\n",
       "50%       5.416601\n",
       "75%       5.686419\n",
       "max       6.030306\n",
       "Name: PMP, dtype: float64"
      ]
     },
     "execution_count": 35,
     "metadata": {},
     "output_type": "execute_result"
    }
   ],
   "source": [
    "DF8_Fw['PMP'].describe()"
   ]
  },
  {
   "cell_type": "code",
   "execution_count": null,
   "metadata": {},
   "outputs": [],
   "source": []
  }
 ],
 "metadata": {
  "kernelspec": {
   "display_name": "Python 3",
   "language": "python",
   "name": "python3"
  },
  "language_info": {
   "codemirror_mode": {
    "name": "ipython",
    "version": 3
   },
   "file_extension": ".py",
   "mimetype": "text/x-python",
   "name": "python",
   "nbconvert_exporter": "python",
   "pygments_lexer": "ipython3",
   "version": "3.7.5"
  }
 },
 "nbformat": 4,
 "nbformat_minor": 2
}
