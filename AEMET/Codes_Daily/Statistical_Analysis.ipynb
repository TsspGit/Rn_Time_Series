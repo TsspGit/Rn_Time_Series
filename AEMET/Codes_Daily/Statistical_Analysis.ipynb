{
 "cells": [
  {
   "cell_type": "code",
   "execution_count": 215,
   "metadata": {},
   "outputs": [],
   "source": [
    "import numpy as np\n",
    "import matplotlib.pyplot as plt\n",
    "import pandas as pd\n",
    "from scipy.stats.mstats import kruskalwallis\n",
    "from scipy.stats import wilcoxon\n",
    "plt.rc('text',usetex=True)\n",
    "plt.rc('font',family='serif')\n",
    "plt.rcParams['xtick.labelsize']=13\n",
    "plt.rcParams['ytick.labelsize']=13\n",
    "plt.rcParams['axes.labelsize']=16\n",
    "plt.rcParams['axes.titlesize']=16"
   ]
  },
  {
   "cell_type": "markdown",
   "metadata": {},
   "source": [
    "# Statistical Test"
   ]
  },
  {
   "cell_type": "code",
   "execution_count": 216,
   "metadata": {},
   "outputs": [],
   "source": [
    "def toLatexformat(DF):\n",
    "    array = DF.describe().loc[['mean', 'std'], :].round(2).values\n",
    "    for i in range(array.shape[1]):\n",
    "        print('${:.2f} \\pm {:.2f} $ &'.format(round(array[0][i], 2), round(array[1][i], 2)), end=' ')"
   ]
  },
  {
   "cell_type": "markdown",
   "metadata": {},
   "source": [
    "## ANN"
   ]
  },
  {
   "cell_type": "code",
   "execution_count": 217,
   "metadata": {},
   "outputs": [],
   "source": [
    "DF2_Fw = pd.read_csv('../logs/ErrorsANN2Fw.csv')\n",
    "DF4_Fw = pd.read_csv('../logs/ErrorsANN4Fw.csv')\n",
    "DF6_Fw = pd.read_csv('../logs/ErrorsANN6Fw.csv')\n",
    "DF8_Fw = pd.read_csv('../logs/ErrorsANN8Fw.csv')"
   ]
  },
  {
   "cell_type": "markdown",
   "metadata": {},
   "source": [
    "### Mins"
   ]
  },
  {
   "cell_type": "code",
   "execution_count": 218,
   "metadata": {},
   "outputs": [
    {
     "data": {
      "text/html": [
       "<div>\n",
       "<style scoped>\n",
       "    .dataframe tbody tr th:only-of-type {\n",
       "        vertical-align: middle;\n",
       "    }\n",
       "\n",
       "    .dataframe tbody tr th {\n",
       "        vertical-align: top;\n",
       "    }\n",
       "\n",
       "    .dataframe thead th {\n",
       "        text-align: right;\n",
       "    }\n",
       "</style>\n",
       "<table border=\"1\" class=\"dataframe\">\n",
       "  <thead>\n",
       "    <tr style=\"text-align: right;\">\n",
       "      <th></th>\n",
       "      <th>Rn</th>\n",
       "      <th>BCN</th>\n",
       "      <th>PMP</th>\n",
       "      <th>ZGZ</th>\n",
       "      <th>HSC</th>\n",
       "    </tr>\n",
       "  </thead>\n",
       "  <tbody>\n",
       "    <tr>\n",
       "      <th>mean</th>\n",
       "      <td>6.520013</td>\n",
       "      <td>5.867432</td>\n",
       "      <td>6.232210</td>\n",
       "      <td>5.787662</td>\n",
       "      <td>5.929926</td>\n",
       "    </tr>\n",
       "    <tr>\n",
       "      <th>min</th>\n",
       "      <td>5.330593</td>\n",
       "      <td>5.074271</td>\n",
       "      <td>4.686177</td>\n",
       "      <td>4.808072</td>\n",
       "      <td>5.037971</td>\n",
       "    </tr>\n",
       "  </tbody>\n",
       "</table>\n",
       "</div>"
      ],
      "text/plain": [
       "            Rn       BCN       PMP       ZGZ       HSC\n",
       "mean  6.520013  5.867432  6.232210  5.787662  5.929926\n",
       "min   5.330593  5.074271  4.686177  4.808072  5.037971"
      ]
     },
     "execution_count": 218,
     "metadata": {},
     "output_type": "execute_result"
    }
   ],
   "source": [
    "DF2_Fw.describe().loc[['mean', 'min']]"
   ]
  },
  {
   "cell_type": "code",
   "execution_count": 219,
   "metadata": {},
   "outputs": [
    {
     "data": {
      "text/html": [
       "<div>\n",
       "<style scoped>\n",
       "    .dataframe tbody tr th:only-of-type {\n",
       "        vertical-align: middle;\n",
       "    }\n",
       "\n",
       "    .dataframe tbody tr th {\n",
       "        vertical-align: top;\n",
       "    }\n",
       "\n",
       "    .dataframe thead th {\n",
       "        text-align: right;\n",
       "    }\n",
       "</style>\n",
       "<table border=\"1\" class=\"dataframe\">\n",
       "  <thead>\n",
       "    <tr style=\"text-align: right;\">\n",
       "      <th></th>\n",
       "      <th>Rn</th>\n",
       "      <th>BCN</th>\n",
       "      <th>PMP</th>\n",
       "      <th>ZGZ</th>\n",
       "      <th>HSC</th>\n",
       "    </tr>\n",
       "  </thead>\n",
       "  <tbody>\n",
       "    <tr>\n",
       "      <th>mean</th>\n",
       "      <td>5.924497</td>\n",
       "      <td>5.912232</td>\n",
       "      <td>5.625930</td>\n",
       "      <td>5.695711</td>\n",
       "      <td>5.897643</td>\n",
       "    </tr>\n",
       "    <tr>\n",
       "      <th>min</th>\n",
       "      <td>4.338867</td>\n",
       "      <td>3.855956</td>\n",
       "      <td>3.954969</td>\n",
       "      <td>4.111015</td>\n",
       "      <td>3.535242</td>\n",
       "    </tr>\n",
       "  </tbody>\n",
       "</table>\n",
       "</div>"
      ],
      "text/plain": [
       "            Rn       BCN       PMP       ZGZ       HSC\n",
       "mean  5.924497  5.912232  5.625930  5.695711  5.897643\n",
       "min   4.338867  3.855956  3.954969  4.111015  3.535242"
      ]
     },
     "execution_count": 219,
     "metadata": {},
     "output_type": "execute_result"
    }
   ],
   "source": [
    "DF4_Fw.describe().loc[['mean', 'min']]"
   ]
  },
  {
   "cell_type": "code",
   "execution_count": 220,
   "metadata": {},
   "outputs": [
    {
     "data": {
      "text/html": [
       "<div>\n",
       "<style scoped>\n",
       "    .dataframe tbody tr th:only-of-type {\n",
       "        vertical-align: middle;\n",
       "    }\n",
       "\n",
       "    .dataframe tbody tr th {\n",
       "        vertical-align: top;\n",
       "    }\n",
       "\n",
       "    .dataframe thead th {\n",
       "        text-align: right;\n",
       "    }\n",
       "</style>\n",
       "<table border=\"1\" class=\"dataframe\">\n",
       "  <thead>\n",
       "    <tr style=\"text-align: right;\">\n",
       "      <th></th>\n",
       "      <th>Rn</th>\n",
       "      <th>BCN</th>\n",
       "      <th>PMP</th>\n",
       "      <th>ZGZ</th>\n",
       "      <th>HSC</th>\n",
       "    </tr>\n",
       "  </thead>\n",
       "  <tbody>\n",
       "    <tr>\n",
       "      <th>mean</th>\n",
       "      <td>5.851405</td>\n",
       "      <td>5.975562</td>\n",
       "      <td>6.595313</td>\n",
       "      <td>6.117845</td>\n",
       "      <td>6.120302</td>\n",
       "    </tr>\n",
       "    <tr>\n",
       "      <th>min</th>\n",
       "      <td>3.916265</td>\n",
       "      <td>3.844266</td>\n",
       "      <td>4.440330</td>\n",
       "      <td>4.073508</td>\n",
       "      <td>3.388694</td>\n",
       "    </tr>\n",
       "  </tbody>\n",
       "</table>\n",
       "</div>"
      ],
      "text/plain": [
       "            Rn       BCN       PMP       ZGZ       HSC\n",
       "mean  5.851405  5.975562  6.595313  6.117845  6.120302\n",
       "min   3.916265  3.844266  4.440330  4.073508  3.388694"
      ]
     },
     "execution_count": 220,
     "metadata": {},
     "output_type": "execute_result"
    }
   ],
   "source": [
    "DF6_Fw.describe().loc[['mean', 'min']]"
   ]
  },
  {
   "cell_type": "code",
   "execution_count": 221,
   "metadata": {},
   "outputs": [
    {
     "data": {
      "text/html": [
       "<div>\n",
       "<style scoped>\n",
       "    .dataframe tbody tr th:only-of-type {\n",
       "        vertical-align: middle;\n",
       "    }\n",
       "\n",
       "    .dataframe tbody tr th {\n",
       "        vertical-align: top;\n",
       "    }\n",
       "\n",
       "    .dataframe thead th {\n",
       "        text-align: right;\n",
       "    }\n",
       "</style>\n",
       "<table border=\"1\" class=\"dataframe\">\n",
       "  <thead>\n",
       "    <tr style=\"text-align: right;\">\n",
       "      <th></th>\n",
       "      <th>Rn</th>\n",
       "      <th>BCN</th>\n",
       "      <th>PMP</th>\n",
       "      <th>ZGZ</th>\n",
       "      <th>HSC</th>\n",
       "    </tr>\n",
       "  </thead>\n",
       "  <tbody>\n",
       "    <tr>\n",
       "      <th>mean</th>\n",
       "      <td>6.556782</td>\n",
       "      <td>6.724600</td>\n",
       "      <td>6.518925</td>\n",
       "      <td>6.600968</td>\n",
       "      <td>6.884781</td>\n",
       "    </tr>\n",
       "    <tr>\n",
       "      <th>min</th>\n",
       "      <td>3.875296</td>\n",
       "      <td>4.278944</td>\n",
       "      <td>3.558393</td>\n",
       "      <td>4.092646</td>\n",
       "      <td>4.850584</td>\n",
       "    </tr>\n",
       "  </tbody>\n",
       "</table>\n",
       "</div>"
      ],
      "text/plain": [
       "            Rn       BCN       PMP       ZGZ       HSC\n",
       "mean  6.556782  6.724600  6.518925  6.600968  6.884781\n",
       "min   3.875296  4.278944  3.558393  4.092646  4.850584"
      ]
     },
     "execution_count": 221,
     "metadata": {},
     "output_type": "execute_result"
    }
   ],
   "source": [
    "DF8_Fw.describe().loc[['mean', 'min']]"
   ]
  },
  {
   "cell_type": "markdown",
   "metadata": {},
   "source": [
    "### Latex"
   ]
  },
  {
   "cell_type": "code",
   "execution_count": 222,
   "metadata": {},
   "outputs": [
    {
     "name": "stdout",
     "output_type": "stream",
     "text": [
      "$6.52 \\pm 1.29 $ & $5.87 \\pm 0.72 $ & $6.23 \\pm 1.25 $ & $5.79 \\pm 0.74 $ & $5.93 \\pm 0.89 $ & "
     ]
    }
   ],
   "source": [
    "DF2_Fw.describe().loc[['mean', 'std'], :]\n",
    "toLatexformat(DF2_Fw)"
   ]
  },
  {
   "cell_type": "code",
   "execution_count": 223,
   "metadata": {},
   "outputs": [
    {
     "name": "stdout",
     "output_type": "stream",
     "text": [
      "$5.92 \\pm 1.17 $ & $5.91 \\pm 1.36 $ & $5.63 \\pm 1.56 $ & $5.70 \\pm 1.09 $ & $5.90 \\pm 1.52 $ & "
     ]
    }
   ],
   "source": [
    "DF4_Fw.describe().loc[['mean', 'std'], :]\n",
    "toLatexformat(DF4_Fw)"
   ]
  },
  {
   "cell_type": "code",
   "execution_count": 224,
   "metadata": {},
   "outputs": [
    {
     "name": "stdout",
     "output_type": "stream",
     "text": [
      "$5.85 \\pm 1.48 $ & $5.98 \\pm 1.31 $ & $6.60 \\pm 1.79 $ & $6.12 \\pm 1.50 $ & $6.12 \\pm 1.58 $ & "
     ]
    }
   ],
   "source": [
    "DF6_Fw.describe().loc[['mean', 'std'], :]\n",
    "toLatexformat(DF6_Fw)"
   ]
  },
  {
   "cell_type": "code",
   "execution_count": 225,
   "metadata": {},
   "outputs": [
    {
     "name": "stdout",
     "output_type": "stream",
     "text": [
      "$6.56 \\pm 1.63 $ & $6.72 \\pm 1.82 $ & $6.52 \\pm 1.53 $ & $6.60 \\pm 1.94 $ & $6.88 \\pm 1.56 $ & "
     ]
    }
   ],
   "source": [
    "DF8_Fw.describe().loc[['mean', 'std'], :]\n",
    "toLatexformat(DF8_Fw)"
   ]
  },
  {
   "cell_type": "code",
   "execution_count": 226,
   "metadata": {},
   "outputs": [
    {
     "data": {
      "text/plain": [
       "0.803062577328434"
      ]
     },
     "execution_count": 226,
     "metadata": {},
     "output_type": "execute_result"
    }
   ],
   "source": [
    "kruskalwallis(DF4_Fw['Rn'].values, DF4_Fw['BCN'].values, DF4_Fw['PMP'].values, DF4_Fw['ZGZ'].values, \n",
    "              DF4_Fw['HSC'].values)[1]"
   ]
  },
  {
   "cell_type": "code",
   "execution_count": 227,
   "metadata": {},
   "outputs": [
    {
     "data": {
      "text/plain": [
       "0.326049462728915"
      ]
     },
     "execution_count": 227,
     "metadata": {},
     "output_type": "execute_result"
    }
   ],
   "source": [
    "wilcoxon(DF4_Fw['Rn'], DF4_Fw['PMP'])[1]"
   ]
  },
  {
   "cell_type": "markdown",
   "metadata": {},
   "source": [
    "## CNN"
   ]
  },
  {
   "cell_type": "code",
   "execution_count": 228,
   "metadata": {},
   "outputs": [],
   "source": [
    "DF2_Fw = pd.read_csv('../logs/ErrorsCNN2Fw.csv')\n",
    "DF4_Fw = pd.read_csv('../logs/ErrorsCNN4Fw.csv')\n",
    "DF6_Fw = pd.read_csv('../logs/ErrorsCNN6Fw.csv')\n",
    "DF8_Fw = pd.read_csv('../logs/ErrorsCNN8Fw.csv')"
   ]
  },
  {
   "cell_type": "markdown",
   "metadata": {},
   "source": [
    "### Mins"
   ]
  },
  {
   "cell_type": "code",
   "execution_count": 229,
   "metadata": {},
   "outputs": [
    {
     "data": {
      "text/html": [
       "<div>\n",
       "<style scoped>\n",
       "    .dataframe tbody tr th:only-of-type {\n",
       "        vertical-align: middle;\n",
       "    }\n",
       "\n",
       "    .dataframe tbody tr th {\n",
       "        vertical-align: top;\n",
       "    }\n",
       "\n",
       "    .dataframe thead th {\n",
       "        text-align: right;\n",
       "    }\n",
       "</style>\n",
       "<table border=\"1\" class=\"dataframe\">\n",
       "  <thead>\n",
       "    <tr style=\"text-align: right;\">\n",
       "      <th></th>\n",
       "      <th>Rn</th>\n",
       "      <th>BCN</th>\n",
       "      <th>PMP</th>\n",
       "      <th>ZGZ</th>\n",
       "      <th>HSC</th>\n",
       "    </tr>\n",
       "  </thead>\n",
       "  <tbody>\n",
       "    <tr>\n",
       "      <th>mean</th>\n",
       "      <td>7.598880</td>\n",
       "      <td>6.451909</td>\n",
       "      <td>6.660206</td>\n",
       "      <td>6.626693</td>\n",
       "      <td>6.869242</td>\n",
       "    </tr>\n",
       "    <tr>\n",
       "      <th>min</th>\n",
       "      <td>6.674835</td>\n",
       "      <td>5.941878</td>\n",
       "      <td>5.975408</td>\n",
       "      <td>5.821635</td>\n",
       "      <td>5.561251</td>\n",
       "    </tr>\n",
       "  </tbody>\n",
       "</table>\n",
       "</div>"
      ],
      "text/plain": [
       "            Rn       BCN       PMP       ZGZ       HSC\n",
       "mean  7.598880  6.451909  6.660206  6.626693  6.869242\n",
       "min   6.674835  5.941878  5.975408  5.821635  5.561251"
      ]
     },
     "execution_count": 229,
     "metadata": {},
     "output_type": "execute_result"
    }
   ],
   "source": [
    "DF2_Fw.describe().loc[['mean', 'min']]"
   ]
  },
  {
   "cell_type": "code",
   "execution_count": 230,
   "metadata": {},
   "outputs": [
    {
     "data": {
      "text/html": [
       "<div>\n",
       "<style scoped>\n",
       "    .dataframe tbody tr th:only-of-type {\n",
       "        vertical-align: middle;\n",
       "    }\n",
       "\n",
       "    .dataframe tbody tr th {\n",
       "        vertical-align: top;\n",
       "    }\n",
       "\n",
       "    .dataframe thead th {\n",
       "        text-align: right;\n",
       "    }\n",
       "</style>\n",
       "<table border=\"1\" class=\"dataframe\">\n",
       "  <thead>\n",
       "    <tr style=\"text-align: right;\">\n",
       "      <th></th>\n",
       "      <th>Rn</th>\n",
       "      <th>BCN</th>\n",
       "      <th>PMP</th>\n",
       "      <th>ZGZ</th>\n",
       "      <th>HSC</th>\n",
       "    </tr>\n",
       "  </thead>\n",
       "  <tbody>\n",
       "    <tr>\n",
       "      <th>mean</th>\n",
       "      <td>6.600680</td>\n",
       "      <td>6.218914</td>\n",
       "      <td>6.193351</td>\n",
       "      <td>6.282369</td>\n",
       "      <td>6.313212</td>\n",
       "    </tr>\n",
       "    <tr>\n",
       "      <th>min</th>\n",
       "      <td>6.078725</td>\n",
       "      <td>5.608661</td>\n",
       "      <td>5.540655</td>\n",
       "      <td>5.501470</td>\n",
       "      <td>5.534487</td>\n",
       "    </tr>\n",
       "  </tbody>\n",
       "</table>\n",
       "</div>"
      ],
      "text/plain": [
       "            Rn       BCN       PMP       ZGZ       HSC\n",
       "mean  6.600680  6.218914  6.193351  6.282369  6.313212\n",
       "min   6.078725  5.608661  5.540655  5.501470  5.534487"
      ]
     },
     "execution_count": 230,
     "metadata": {},
     "output_type": "execute_result"
    }
   ],
   "source": [
    "DF4_Fw.describe().loc[['mean', 'min']]"
   ]
  },
  {
   "cell_type": "code",
   "execution_count": 231,
   "metadata": {},
   "outputs": [
    {
     "data": {
      "text/html": [
       "<div>\n",
       "<style scoped>\n",
       "    .dataframe tbody tr th:only-of-type {\n",
       "        vertical-align: middle;\n",
       "    }\n",
       "\n",
       "    .dataframe tbody tr th {\n",
       "        vertical-align: top;\n",
       "    }\n",
       "\n",
       "    .dataframe thead th {\n",
       "        text-align: right;\n",
       "    }\n",
       "</style>\n",
       "<table border=\"1\" class=\"dataframe\">\n",
       "  <thead>\n",
       "    <tr style=\"text-align: right;\">\n",
       "      <th></th>\n",
       "      <th>Rn</th>\n",
       "      <th>BCN</th>\n",
       "      <th>PMP</th>\n",
       "      <th>ZGZ</th>\n",
       "      <th>HSC</th>\n",
       "    </tr>\n",
       "  </thead>\n",
       "  <tbody>\n",
       "    <tr>\n",
       "      <th>mean</th>\n",
       "      <td>6.510889</td>\n",
       "      <td>6.087122</td>\n",
       "      <td>6.127800</td>\n",
       "      <td>6.003474</td>\n",
       "      <td>6.230648</td>\n",
       "    </tr>\n",
       "    <tr>\n",
       "      <th>min</th>\n",
       "      <td>5.541320</td>\n",
       "      <td>5.242864</td>\n",
       "      <td>5.677345</td>\n",
       "      <td>5.521731</td>\n",
       "      <td>5.624696</td>\n",
       "    </tr>\n",
       "  </tbody>\n",
       "</table>\n",
       "</div>"
      ],
      "text/plain": [
       "            Rn       BCN       PMP       ZGZ       HSC\n",
       "mean  6.510889  6.087122  6.127800  6.003474  6.230648\n",
       "min   5.541320  5.242864  5.677345  5.521731  5.624696"
      ]
     },
     "execution_count": 231,
     "metadata": {},
     "output_type": "execute_result"
    }
   ],
   "source": [
    "DF6_Fw.describe().loc[['mean', 'min']]"
   ]
  },
  {
   "cell_type": "code",
   "execution_count": 232,
   "metadata": {},
   "outputs": [
    {
     "data": {
      "text/html": [
       "<div>\n",
       "<style scoped>\n",
       "    .dataframe tbody tr th:only-of-type {\n",
       "        vertical-align: middle;\n",
       "    }\n",
       "\n",
       "    .dataframe tbody tr th {\n",
       "        vertical-align: top;\n",
       "    }\n",
       "\n",
       "    .dataframe thead th {\n",
       "        text-align: right;\n",
       "    }\n",
       "</style>\n",
       "<table border=\"1\" class=\"dataframe\">\n",
       "  <thead>\n",
       "    <tr style=\"text-align: right;\">\n",
       "      <th></th>\n",
       "      <th>Rn</th>\n",
       "      <th>BCN</th>\n",
       "      <th>PMP</th>\n",
       "      <th>ZGZ</th>\n",
       "      <th>HSC</th>\n",
       "    </tr>\n",
       "  </thead>\n",
       "  <tbody>\n",
       "    <tr>\n",
       "      <th>mean</th>\n",
       "      <td>6.350361</td>\n",
       "      <td>6.056492</td>\n",
       "      <td>6.151338</td>\n",
       "      <td>6.029704</td>\n",
       "      <td>5.931328</td>\n",
       "    </tr>\n",
       "    <tr>\n",
       "      <th>min</th>\n",
       "      <td>5.457878</td>\n",
       "      <td>5.358716</td>\n",
       "      <td>5.198308</td>\n",
       "      <td>5.342781</td>\n",
       "      <td>5.379549</td>\n",
       "    </tr>\n",
       "  </tbody>\n",
       "</table>\n",
       "</div>"
      ],
      "text/plain": [
       "            Rn       BCN       PMP       ZGZ       HSC\n",
       "mean  6.350361  6.056492  6.151338  6.029704  5.931328\n",
       "min   5.457878  5.358716  5.198308  5.342781  5.379549"
      ]
     },
     "execution_count": 232,
     "metadata": {},
     "output_type": "execute_result"
    }
   ],
   "source": [
    "DF8_Fw.describe().loc[['mean', 'min']]"
   ]
  },
  {
   "cell_type": "markdown",
   "metadata": {},
   "source": [
    "### Latex table"
   ]
  },
  {
   "cell_type": "code",
   "execution_count": 233,
   "metadata": {},
   "outputs": [
    {
     "name": "stdout",
     "output_type": "stream",
     "text": [
      "$7.60 \\pm 0.59 $ & $6.45 \\pm 0.36 $ & $6.66 \\pm 0.99 $ & $6.63 \\pm 0.52 $ & $6.87 \\pm 0.83 $ & "
     ]
    }
   ],
   "source": [
    "toLatexformat(DF2_Fw)"
   ]
  },
  {
   "cell_type": "code",
   "execution_count": 234,
   "metadata": {},
   "outputs": [
    {
     "name": "stdout",
     "output_type": "stream",
     "text": [
      "$6.60 \\pm 0.41 $ & $6.22 \\pm 0.39 $ & $6.19 \\pm 0.28 $ & $6.28 \\pm 0.48 $ & $6.31 \\pm 0.54 $ & "
     ]
    }
   ],
   "source": [
    "toLatexformat(DF4_Fw)"
   ]
  },
  {
   "cell_type": "code",
   "execution_count": 235,
   "metadata": {},
   "outputs": [
    {
     "name": "stdout",
     "output_type": "stream",
     "text": [
      "$6.51 \\pm 0.47 $ & $6.09 \\pm 0.51 $ & $6.13 \\pm 0.39 $ & $6.00 \\pm 0.40 $ & $6.23 \\pm 0.46 $ & "
     ]
    }
   ],
   "source": [
    "toLatexformat(DF6_Fw)"
   ]
  },
  {
   "cell_type": "code",
   "execution_count": 236,
   "metadata": {},
   "outputs": [
    {
     "name": "stdout",
     "output_type": "stream",
     "text": [
      "$6.35 \\pm 0.52 $ & $6.06 \\pm 0.51 $ & $6.15 \\pm 0.53 $ & $6.03 \\pm 0.42 $ & $5.93 \\pm 0.30 $ & "
     ]
    }
   ],
   "source": [
    "toLatexformat(DF8_Fw)"
   ]
  },
  {
   "cell_type": "code",
   "execution_count": 237,
   "metadata": {},
   "outputs": [
    {
     "data": {
      "text/plain": [
       "0.04631326443223933"
      ]
     },
     "execution_count": 237,
     "metadata": {},
     "output_type": "execute_result"
    }
   ],
   "source": [
    "kruskalwallis(DF8_Fw['Rn'].values, DF8_Fw['BCN'].values, DF8_Fw['PMP'].values, DF8_Fw['ZGZ'].values, \n",
    "              DF8_Fw['HSC'].values)[1]"
   ]
  },
  {
   "cell_type": "code",
   "execution_count": 238,
   "metadata": {},
   "outputs": [
    {
     "data": {
      "text/plain": [
       "0.0005451350295901154"
      ]
     },
     "execution_count": 238,
     "metadata": {},
     "output_type": "execute_result"
    }
   ],
   "source": [
    "wilcoxon(DF8_Fw['Rn'], DF8_Fw['HSC'])[1]"
   ]
  },
  {
   "cell_type": "markdown",
   "metadata": {},
   "source": [
    "The correction of Bonferroni says that the maximal pvalue might be 0.05/4 = 0.0125 < 0.0148, so this case also pass the test"
   ]
  },
  {
   "cell_type": "markdown",
   "metadata": {},
   "source": [
    "# RNN"
   ]
  },
  {
   "cell_type": "code",
   "execution_count": 239,
   "metadata": {},
   "outputs": [],
   "source": [
    "DF2_Fw = pd.read_csv('../logs/ErrorsRNN2Fw.csv')\n",
    "DF4_Fw = pd.read_csv('../logs/ErrorsRNN4Fw.csv')\n",
    "DF6_Fw = pd.read_csv('../logs/ErrorsRNN6Fw.csv')\n",
    "DF8_Fw = pd.read_csv('../logs/ErrorsRNN8Fw.csv')"
   ]
  },
  {
   "cell_type": "markdown",
   "metadata": {},
   "source": [
    "### Mins"
   ]
  },
  {
   "cell_type": "code",
   "execution_count": 240,
   "metadata": {},
   "outputs": [
    {
     "data": {
      "text/html": [
       "<div>\n",
       "<style scoped>\n",
       "    .dataframe tbody tr th:only-of-type {\n",
       "        vertical-align: middle;\n",
       "    }\n",
       "\n",
       "    .dataframe tbody tr th {\n",
       "        vertical-align: top;\n",
       "    }\n",
       "\n",
       "    .dataframe thead th {\n",
       "        text-align: right;\n",
       "    }\n",
       "</style>\n",
       "<table border=\"1\" class=\"dataframe\">\n",
       "  <thead>\n",
       "    <tr style=\"text-align: right;\">\n",
       "      <th></th>\n",
       "      <th>Rn</th>\n",
       "      <th>BCN</th>\n",
       "      <th>PMP</th>\n",
       "      <th>ZGZ</th>\n",
       "      <th>HSC</th>\n",
       "    </tr>\n",
       "  </thead>\n",
       "  <tbody>\n",
       "    <tr>\n",
       "      <th>mean</th>\n",
       "      <td>7.891158</td>\n",
       "      <td>8.963531</td>\n",
       "      <td>9.030446</td>\n",
       "      <td>9.178566</td>\n",
       "      <td>8.990251</td>\n",
       "    </tr>\n",
       "    <tr>\n",
       "      <th>min</th>\n",
       "      <td>7.287480</td>\n",
       "      <td>8.015501</td>\n",
       "      <td>8.346439</td>\n",
       "      <td>8.621454</td>\n",
       "      <td>8.022470</td>\n",
       "    </tr>\n",
       "  </tbody>\n",
       "</table>\n",
       "</div>"
      ],
      "text/plain": [
       "            Rn       BCN       PMP       ZGZ       HSC\n",
       "mean  7.891158  8.963531  9.030446  9.178566  8.990251\n",
       "min   7.287480  8.015501  8.346439  8.621454  8.022470"
      ]
     },
     "execution_count": 240,
     "metadata": {},
     "output_type": "execute_result"
    }
   ],
   "source": [
    "DF2_Fw.describe().loc[['mean', 'min']]"
   ]
  },
  {
   "cell_type": "code",
   "execution_count": 242,
   "metadata": {},
   "outputs": [
    {
     "data": {
      "text/html": [
       "<div>\n",
       "<style scoped>\n",
       "    .dataframe tbody tr th:only-of-type {\n",
       "        vertical-align: middle;\n",
       "    }\n",
       "\n",
       "    .dataframe tbody tr th {\n",
       "        vertical-align: top;\n",
       "    }\n",
       "\n",
       "    .dataframe thead th {\n",
       "        text-align: right;\n",
       "    }\n",
       "</style>\n",
       "<table border=\"1\" class=\"dataframe\">\n",
       "  <thead>\n",
       "    <tr style=\"text-align: right;\">\n",
       "      <th></th>\n",
       "      <th>Rn</th>\n",
       "      <th>BCN</th>\n",
       "      <th>PMP</th>\n",
       "      <th>ZGZ</th>\n",
       "      <th>HSC</th>\n",
       "    </tr>\n",
       "  </thead>\n",
       "  <tbody>\n",
       "    <tr>\n",
       "      <th>mean</th>\n",
       "      <td>6.810905</td>\n",
       "      <td>7.789104</td>\n",
       "      <td>7.834114</td>\n",
       "      <td>7.682515</td>\n",
       "      <td>7.750010</td>\n",
       "    </tr>\n",
       "    <tr>\n",
       "      <th>min</th>\n",
       "      <td>6.299880</td>\n",
       "      <td>7.142755</td>\n",
       "      <td>7.148082</td>\n",
       "      <td>6.955371</td>\n",
       "      <td>7.221534</td>\n",
       "    </tr>\n",
       "  </tbody>\n",
       "</table>\n",
       "</div>"
      ],
      "text/plain": [
       "            Rn       BCN       PMP       ZGZ       HSC\n",
       "mean  6.810905  7.789104  7.834114  7.682515  7.750010\n",
       "min   6.299880  7.142755  7.148082  6.955371  7.221534"
      ]
     },
     "execution_count": 242,
     "metadata": {},
     "output_type": "execute_result"
    }
   ],
   "source": [
    "DF4_Fw.describe().loc[['mean', 'min']]"
   ]
  },
  {
   "cell_type": "code",
   "execution_count": 243,
   "metadata": {},
   "outputs": [
    {
     "data": {
      "text/html": [
       "<div>\n",
       "<style scoped>\n",
       "    .dataframe tbody tr th:only-of-type {\n",
       "        vertical-align: middle;\n",
       "    }\n",
       "\n",
       "    .dataframe tbody tr th {\n",
       "        vertical-align: top;\n",
       "    }\n",
       "\n",
       "    .dataframe thead th {\n",
       "        text-align: right;\n",
       "    }\n",
       "</style>\n",
       "<table border=\"1\" class=\"dataframe\">\n",
       "  <thead>\n",
       "    <tr style=\"text-align: right;\">\n",
       "      <th></th>\n",
       "      <th>Rn</th>\n",
       "      <th>BCN</th>\n",
       "      <th>PMP</th>\n",
       "      <th>ZGZ</th>\n",
       "      <th>HSC</th>\n",
       "    </tr>\n",
       "  </thead>\n",
       "  <tbody>\n",
       "    <tr>\n",
       "      <th>mean</th>\n",
       "      <td>6.484067</td>\n",
       "      <td>7.434661</td>\n",
       "      <td>7.370408</td>\n",
       "      <td>7.473459</td>\n",
       "      <td>7.463028</td>\n",
       "    </tr>\n",
       "    <tr>\n",
       "      <th>min</th>\n",
       "      <td>6.025488</td>\n",
       "      <td>6.751123</td>\n",
       "      <td>6.761493</td>\n",
       "      <td>6.895880</td>\n",
       "      <td>6.807003</td>\n",
       "    </tr>\n",
       "  </tbody>\n",
       "</table>\n",
       "</div>"
      ],
      "text/plain": [
       "            Rn       BCN       PMP       ZGZ       HSC\n",
       "mean  6.484067  7.434661  7.370408  7.473459  7.463028\n",
       "min   6.025488  6.751123  6.761493  6.895880  6.807003"
      ]
     },
     "execution_count": 243,
     "metadata": {},
     "output_type": "execute_result"
    }
   ],
   "source": [
    "DF6_Fw.describe().loc[['mean', 'min']]"
   ]
  },
  {
   "cell_type": "code",
   "execution_count": 244,
   "metadata": {},
   "outputs": [
    {
     "data": {
      "text/html": [
       "<div>\n",
       "<style scoped>\n",
       "    .dataframe tbody tr th:only-of-type {\n",
       "        vertical-align: middle;\n",
       "    }\n",
       "\n",
       "    .dataframe tbody tr th {\n",
       "        vertical-align: top;\n",
       "    }\n",
       "\n",
       "    .dataframe thead th {\n",
       "        text-align: right;\n",
       "    }\n",
       "</style>\n",
       "<table border=\"1\" class=\"dataframe\">\n",
       "  <thead>\n",
       "    <tr style=\"text-align: right;\">\n",
       "      <th></th>\n",
       "      <th>Rn</th>\n",
       "      <th>BCN</th>\n",
       "      <th>PMP</th>\n",
       "      <th>ZGZ</th>\n",
       "      <th>HSC</th>\n",
       "    </tr>\n",
       "  </thead>\n",
       "  <tbody>\n",
       "    <tr>\n",
       "      <th>mean</th>\n",
       "      <td>6.481366</td>\n",
       "      <td>7.307257</td>\n",
       "      <td>7.197739</td>\n",
       "      <td>7.331811</td>\n",
       "      <td>7.246726</td>\n",
       "    </tr>\n",
       "    <tr>\n",
       "      <th>min</th>\n",
       "      <td>6.047612</td>\n",
       "      <td>6.762498</td>\n",
       "      <td>6.757382</td>\n",
       "      <td>6.604375</td>\n",
       "      <td>6.823160</td>\n",
       "    </tr>\n",
       "  </tbody>\n",
       "</table>\n",
       "</div>"
      ],
      "text/plain": [
       "            Rn       BCN       PMP       ZGZ       HSC\n",
       "mean  6.481366  7.307257  7.197739  7.331811  7.246726\n",
       "min   6.047612  6.762498  6.757382  6.604375  6.823160"
      ]
     },
     "execution_count": 244,
     "metadata": {},
     "output_type": "execute_result"
    }
   ],
   "source": [
    "DF8_Fw.describe().loc[['mean', 'min']]"
   ]
  },
  {
   "cell_type": "code",
   "execution_count": 245,
   "metadata": {},
   "outputs": [
    {
     "name": "stdout",
     "output_type": "stream",
     "text": [
      "$7.89 \\pm 0.27 $ & $8.96 \\pm 0.47 $ & $9.03 \\pm 0.34 $ & $9.18 \\pm 0.41 $ & $8.99 \\pm 0.44 $ & "
     ]
    }
   ],
   "source": [
    "toLatexformat(DF2_Fw)"
   ]
  },
  {
   "cell_type": "code",
   "execution_count": 246,
   "metadata": {},
   "outputs": [
    {
     "name": "stdout",
     "output_type": "stream",
     "text": [
      "$6.81 \\pm 0.28 $ & $7.79 \\pm 0.34 $ & $7.83 \\pm 0.43 $ & $7.68 \\pm 0.25 $ & $7.75 \\pm 0.36 $ & "
     ]
    }
   ],
   "source": [
    "toLatexformat(DF4_Fw)"
   ]
  },
  {
   "cell_type": "code",
   "execution_count": 247,
   "metadata": {},
   "outputs": [
    {
     "name": "stdout",
     "output_type": "stream",
     "text": [
      "$6.48 \\pm 0.30 $ & $7.43 \\pm 0.30 $ & $7.37 \\pm 0.27 $ & $7.47 \\pm 0.25 $ & $7.46 \\pm 0.39 $ & "
     ]
    }
   ],
   "source": [
    "toLatexformat(DF6_Fw)"
   ]
  },
  {
   "cell_type": "code",
   "execution_count": 248,
   "metadata": {},
   "outputs": [
    {
     "name": "stdout",
     "output_type": "stream",
     "text": [
      "$6.48 \\pm 0.23 $ & $7.31 \\pm 0.28 $ & $7.20 \\pm 0.21 $ & $7.33 \\pm 0.25 $ & $7.25 \\pm 0.25 $ & "
     ]
    }
   ],
   "source": [
    "toLatexformat(DF8_Fw)"
   ]
  },
  {
   "cell_type": "code",
   "execution_count": 252,
   "metadata": {},
   "outputs": [
    {
     "data": {
      "text/plain": [
       "2.237002782950598e-12"
      ]
     },
     "execution_count": 252,
     "metadata": {},
     "output_type": "execute_result"
    }
   ],
   "source": [
    "kruskalwallis(DF8_Fw['Rn'].values, DF8_Fw['BCN'].values, DF8_Fw['PMP'].values, DF8_Fw['ZGZ'].values, \n",
    "              DF8_Fw['HSC'].values)[1]"
   ]
  },
  {
   "cell_type": "code",
   "execution_count": 251,
   "metadata": {},
   "outputs": [
    {
     "data": {
      "text/plain": [
       "1.2290322210248409e-05"
      ]
     },
     "execution_count": 251,
     "metadata": {},
     "output_type": "execute_result"
    }
   ],
   "source": [
    "wilcoxon(DF8_Fw['Rn'].values, DF8_Fw['PMP'].values)[1]"
   ]
  }
 ],
 "metadata": {
  "kernelspec": {
   "display_name": "Python 3",
   "language": "python",
   "name": "python3"
  },
  "language_info": {
   "codemirror_mode": {
    "name": "ipython",
    "version": 3
   },
   "file_extension": ".py",
   "mimetype": "text/x-python",
   "name": "python",
   "nbconvert_exporter": "python",
   "pygments_lexer": "ipython3",
   "version": "3.7.5"
  }
 },
 "nbformat": 4,
 "nbformat_minor": 2
}
