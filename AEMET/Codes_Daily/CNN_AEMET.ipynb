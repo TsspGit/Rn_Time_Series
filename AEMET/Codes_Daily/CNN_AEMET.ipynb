{
 "cells": [
  {
   "cell_type": "code",
   "execution_count": 1,
   "metadata": {},
   "outputs": [
    {
     "name": "stderr",
     "output_type": "stream",
     "text": [
      "Using TensorFlow backend.\n"
     ]
    }
   ],
   "source": [
    "import numpy as np\n",
    "import matplotlib.pyplot as plt\n",
    "from keras.models import Sequential\n",
    "from keras.layers import Dense, Dropout, Activation, Flatten, BatchNormalization\n",
    "from keras.layers.convolutional import Conv1D, MaxPooling1D\n",
    "import pandas as pd  \n",
    "from sklearn.preprocessing import MinMaxScaler\n",
    "from sklearn.metrics import mean_squared_error, mean_absolute_error\n",
    "from scipy.stats.stats import pearsonr\n",
    "from matplotlib.ticker import MultipleLocator, FormatStrFormatter\n",
    "import matplotlib.dates as mdates"
   ]
  },
  {
   "cell_type": "code",
   "execution_count": 2,
   "metadata": {},
   "outputs": [
    {
     "data": {
      "text/plain": [
       "Timestamp('2019-07-21 00:00:00', freq='W-SUN')"
      ]
     },
     "execution_count": 2,
     "metadata": {},
     "output_type": "execute_result"
    }
   ],
   "source": [
    "# Radon\n",
    "mdnRnA = np.loadtxt('../../mdnRnA.txt', delimiter=',')\n",
    "startday = pd.datetime(2013, 7, 1)\n",
    "dates = pd.date_range(startday, periods=len(mdnRnA), freq='W')\n",
    "dates[-1]"
   ]
  },
  {
   "cell_type": "code",
   "execution_count": 3,
   "metadata": {},
   "outputs": [
    {
     "data": {
      "text/html": [
       "<div>\n",
       "<style scoped>\n",
       "    .dataframe tbody tr th:only-of-type {\n",
       "        vertical-align: middle;\n",
       "    }\n",
       "\n",
       "    .dataframe tbody tr th {\n",
       "        vertical-align: top;\n",
       "    }\n",
       "\n",
       "    .dataframe thead th {\n",
       "        text-align: right;\n",
       "    }\n",
       "</style>\n",
       "<table border=\"1\" class=\"dataframe\">\n",
       "  <thead>\n",
       "    <tr style=\"text-align: right;\">\n",
       "      <th></th>\n",
       "      <th>tmed</th>\n",
       "      <th>velmedia</th>\n",
       "      <th>presmed</th>\n",
       "    </tr>\n",
       "  </thead>\n",
       "  <tbody>\n",
       "    <tr>\n",
       "      <th>count</th>\n",
       "      <td>316.000000</td>\n",
       "      <td>316.000000</td>\n",
       "      <td>316.000000</td>\n",
       "    </tr>\n",
       "    <tr>\n",
       "      <th>mean</th>\n",
       "      <td>17.587430</td>\n",
       "      <td>4.503505</td>\n",
       "      <td>1016.763222</td>\n",
       "    </tr>\n",
       "    <tr>\n",
       "      <th>std</th>\n",
       "      <td>5.790832</td>\n",
       "      <td>0.691445</td>\n",
       "      <td>5.295843</td>\n",
       "    </tr>\n",
       "    <tr>\n",
       "      <th>min</th>\n",
       "      <td>6.542857</td>\n",
       "      <td>2.414286</td>\n",
       "      <td>1000.528571</td>\n",
       "    </tr>\n",
       "    <tr>\n",
       "      <th>25%</th>\n",
       "      <td>12.575000</td>\n",
       "      <td>4.071429</td>\n",
       "      <td>1013.675000</td>\n",
       "    </tr>\n",
       "    <tr>\n",
       "      <th>50%</th>\n",
       "      <td>17.007143</td>\n",
       "      <td>4.442857</td>\n",
       "      <td>1016.432143</td>\n",
       "    </tr>\n",
       "    <tr>\n",
       "      <th>75%</th>\n",
       "      <td>22.834364</td>\n",
       "      <td>4.885714</td>\n",
       "      <td>1019.176786</td>\n",
       "    </tr>\n",
       "    <tr>\n",
       "      <th>max</th>\n",
       "      <td>29.900000</td>\n",
       "      <td>8.200000</td>\n",
       "      <td>1031.835714</td>\n",
       "    </tr>\n",
       "  </tbody>\n",
       "</table>\n",
       "</div>"
      ],
      "text/plain": [
       "             tmed    velmedia      presmed\n",
       "count  316.000000  316.000000   316.000000\n",
       "mean    17.587430    4.503505  1016.763222\n",
       "std      5.790832    0.691445     5.295843\n",
       "min      6.542857    2.414286  1000.528571\n",
       "25%     12.575000    4.071429  1013.675000\n",
       "50%     17.007143    4.442857  1016.432143\n",
       "75%     22.834364    4.885714  1019.176786\n",
       "max     29.900000    8.200000  1031.835714"
      ]
     },
     "execution_count": 3,
     "metadata": {},
     "output_type": "execute_result"
    }
   ],
   "source": [
    "# Weather\n",
    "BCN = pd.read_csv('../Data/Daily/BCN/BCN_arima_weekly.csv', usecols=['fecha', 'tmed', 'presmed', 'velmedia'])\n",
    "BCN['fecha'] = pd.to_datetime(BCN['fecha'])\n",
    "BCN.describe()"
   ]
  },
  {
   "cell_type": "code",
   "execution_count": 4,
   "metadata": {
    "scrolled": true
   },
   "outputs": [
    {
     "name": "stdout",
     "output_type": "stream",
     "text": [
      "Correlation(Temperature, Rn):  0.5261748878387968\n",
      "Correlation(Preasure, Rn):  -0.20845729390189935\n",
      "Correlation(Wind Velocity, Rn):  0.058403649719426104\n"
     ]
    }
   ],
   "source": [
    "print(\"Correlation(Temperature, Rn): \", pearsonr(mdnRnA, BCN['tmed'])[0])\n",
    "print(\"Correlation(Preasure, Rn): \", pearsonr(mdnRnA, BCN['presmed'])[0])\n",
    "print(\"Correlation(Wind Velocity, Rn): \", pearsonr(mdnRnA, BCN['velmedia'])[0])"
   ]
  },
  {
   "cell_type": "markdown",
   "metadata": {},
   "source": [
    "### We only use temperature as input"
   ]
  },
  {
   "cell_type": "code",
   "execution_count": 71,
   "metadata": {},
   "outputs": [
    {
     "data": {
      "text/html": [
       "<div>\n",
       "<style scoped>\n",
       "    .dataframe tbody tr th:only-of-type {\n",
       "        vertical-align: middle;\n",
       "    }\n",
       "\n",
       "    .dataframe tbody tr th {\n",
       "        vertical-align: top;\n",
       "    }\n",
       "\n",
       "    .dataframe thead th {\n",
       "        text-align: right;\n",
       "    }\n",
       "</style>\n",
       "<table border=\"1\" class=\"dataframe\">\n",
       "  <thead>\n",
       "    <tr style=\"text-align: right;\">\n",
       "      <th></th>\n",
       "      <th>T</th>\n",
       "      <th>dates</th>\n",
       "      <th>mdnRnA</th>\n",
       "    </tr>\n",
       "  </thead>\n",
       "  <tbody>\n",
       "    <tr>\n",
       "      <th>0</th>\n",
       "      <td>25.800000</td>\n",
       "      <td>2013-07-07</td>\n",
       "      <td>90.0</td>\n",
       "    </tr>\n",
       "    <tr>\n",
       "      <th>1</th>\n",
       "      <td>25.642857</td>\n",
       "      <td>2013-07-14</td>\n",
       "      <td>79.0</td>\n",
       "    </tr>\n",
       "    <tr>\n",
       "      <th>2</th>\n",
       "      <td>26.028571</td>\n",
       "      <td>2013-07-21</td>\n",
       "      <td>99.0</td>\n",
       "    </tr>\n",
       "    <tr>\n",
       "      <th>3</th>\n",
       "      <td>27.214286</td>\n",
       "      <td>2013-07-28</td>\n",
       "      <td>117.0</td>\n",
       "    </tr>\n",
       "    <tr>\n",
       "      <th>4</th>\n",
       "      <td>25.785714</td>\n",
       "      <td>2013-08-04</td>\n",
       "      <td>99.0</td>\n",
       "    </tr>\n",
       "  </tbody>\n",
       "</table>\n",
       "</div>"
      ],
      "text/plain": [
       "           T      dates  mdnRnA\n",
       "0  25.800000 2013-07-07    90.0\n",
       "1  25.642857 2013-07-14    79.0\n",
       "2  26.028571 2013-07-21    99.0\n",
       "3  27.214286 2013-07-28   117.0\n",
       "4  25.785714 2013-08-04    99.0"
      ]
     },
     "execution_count": 71,
     "metadata": {},
     "output_type": "execute_result"
    }
   ],
   "source": [
    "sample_size = 10\n",
    "DF = pd.DataFrame({'dates': dates,'mdnRnA': mdnRnA, 'T': BCN['tmed'].values})\n",
    "DF.head()"
   ]
  },
  {
   "cell_type": "code",
   "execution_count": 72,
   "metadata": {},
   "outputs": [
    {
     "data": {
      "text/html": [
       "<div>\n",
       "<style scoped>\n",
       "    .dataframe tbody tr th:only-of-type {\n",
       "        vertical-align: middle;\n",
       "    }\n",
       "\n",
       "    .dataframe tbody tr th {\n",
       "        vertical-align: top;\n",
       "    }\n",
       "\n",
       "    .dataframe thead th {\n",
       "        text-align: right;\n",
       "    }\n",
       "</style>\n",
       "<table border=\"1\" class=\"dataframe\">\n",
       "  <thead>\n",
       "    <tr style=\"text-align: right;\">\n",
       "      <th></th>\n",
       "      <th>T</th>\n",
       "      <th>mdnRnA</th>\n",
       "      <th>dates</th>\n",
       "    </tr>\n",
       "  </thead>\n",
       "  <tbody>\n",
       "    <tr>\n",
       "      <th>0</th>\n",
       "      <td>0.824465</td>\n",
       "      <td>0.573333</td>\n",
       "      <td>2013-07-07</td>\n",
       "    </tr>\n",
       "    <tr>\n",
       "      <th>1</th>\n",
       "      <td>0.817737</td>\n",
       "      <td>0.426667</td>\n",
       "      <td>2013-07-14</td>\n",
       "    </tr>\n",
       "    <tr>\n",
       "      <th>2</th>\n",
       "      <td>0.834251</td>\n",
       "      <td>0.693333</td>\n",
       "      <td>2013-07-21</td>\n",
       "    </tr>\n",
       "    <tr>\n",
       "      <th>3</th>\n",
       "      <td>0.885015</td>\n",
       "      <td>0.933333</td>\n",
       "      <td>2013-07-28</td>\n",
       "    </tr>\n",
       "    <tr>\n",
       "      <th>4</th>\n",
       "      <td>0.823853</td>\n",
       "      <td>0.693333</td>\n",
       "      <td>2013-08-04</td>\n",
       "    </tr>\n",
       "  </tbody>\n",
       "</table>\n",
       "</div>"
      ],
      "text/plain": [
       "          T    mdnRnA      dates\n",
       "0  0.824465  0.573333 2013-07-07\n",
       "1  0.817737  0.426667 2013-07-14\n",
       "2  0.834251  0.693333 2013-07-21\n",
       "3  0.885015  0.933333 2013-07-28\n",
       "4  0.823853  0.693333 2013-08-04"
      ]
     },
     "execution_count": 72,
     "metadata": {},
     "output_type": "execute_result"
    }
   ],
   "source": [
    "def scaler(DF, field):\n",
    "    scaled = MinMaxScaler().fit(DF[[field[0], field[1]]].values).transform(DF[[field[0], field[1]]].values)\n",
    "    output = pd.DataFrame(scaled, columns=['T', 'mdnRnA'])\n",
    "    output['dates'] = DF['dates']\n",
    "    return output\n",
    "DF_scaled = scaler(DF, ['T', 'mdnRnA'])\n",
    "DF_scaled.head()"
   ]
  },
  {
   "cell_type": "code",
   "execution_count": 73,
   "metadata": {},
   "outputs": [
    {
     "data": {
      "text/plain": [
       "(306, 10, 2)"
      ]
     },
     "execution_count": 73,
     "metadata": {},
     "output_type": "execute_result"
    }
   ],
   "source": [
    "DF_to3d = DF_scaled[['T', 'mdnRnA']].values\n",
    "X = np.array([DF_to3d[start:start+sample_size] for start in range(0, DF_to3d.shape[0]-sample_size)])\n",
    "X.shape"
   ]
  },
  {
   "cell_type": "code",
   "execution_count": 74,
   "metadata": {},
   "outputs": [],
   "source": [
    "Y = mdnRnA[sample_size:]"
   ]
  },
  {
   "cell_type": "code",
   "execution_count": 75,
   "metadata": {},
   "outputs": [
    {
     "data": {
      "text/html": [
       "<div>\n",
       "<style scoped>\n",
       "    .dataframe tbody tr th:only-of-type {\n",
       "        vertical-align: middle;\n",
       "    }\n",
       "\n",
       "    .dataframe tbody tr th {\n",
       "        vertical-align: top;\n",
       "    }\n",
       "\n",
       "    .dataframe thead th {\n",
       "        text-align: right;\n",
       "    }\n",
       "</style>\n",
       "<table border=\"1\" class=\"dataframe\">\n",
       "  <thead>\n",
       "    <tr style=\"text-align: right;\">\n",
       "      <th></th>\n",
       "      <th>T</th>\n",
       "      <th>mdnRnA</th>\n",
       "      <th>dates</th>\n",
       "    </tr>\n",
       "  </thead>\n",
       "  <tbody>\n",
       "    <tr>\n",
       "      <th>261</th>\n",
       "      <td>0.827523</td>\n",
       "      <td>0.693333</td>\n",
       "      <td>2018-07-08</td>\n",
       "    </tr>\n",
       "  </tbody>\n",
       "</table>\n",
       "</div>"
      ],
      "text/plain": [
       "            T    mdnRnA      dates\n",
       "261  0.827523  0.693333 2018-07-08"
      ]
     },
     "execution_count": 75,
     "metadata": {},
     "output_type": "execute_result"
    }
   ],
   "source": [
    "# Training set first 5 years, Test set last year\n",
    "DF_scaled[DF_scaled['dates'] == '2018-07-08']"
   ]
  },
  {
   "cell_type": "code",
   "execution_count": 76,
   "metadata": {},
   "outputs": [],
   "source": [
    "test_size = int(0.3*len(mdnRnA))\n",
    "X_train, X_test = X[:-test_size], X[-test_size:]\n",
    "Y_train, Y_test = Y[:-test_size], Y[-test_size:]"
   ]
  },
  {
   "cell_type": "code",
   "execution_count": 77,
   "metadata": {},
   "outputs": [
    {
     "name": "stdout",
     "output_type": "stream",
     "text": [
      "X_train.shape =  (212, 10, 2) \n",
      "Y_train.shape =  (212,)\n"
     ]
    }
   ],
   "source": [
    "print(\"X_train.shape = \", X_train.shape, \"\\nY_train.shape = \", Y_train.shape)"
   ]
  },
  {
   "cell_type": "markdown",
   "metadata": {},
   "source": [
    "# Neural Network"
   ]
  },
  {
   "cell_type": "code",
   "execution_count": 80,
   "metadata": {},
   "outputs": [],
   "source": [
    "def NN(neurons, nep, v=0, btch_size=10):\n",
    "    model = Sequential()\n",
    "    model.add(Conv1D(filters=neurons[0], kernel_size=3, activation='relu', input_shape=(10, 2)))\n",
    "    model.add(MaxPooling1D(pool_size=2))\n",
    "    model.add(Flatten())\n",
    "    model.add(Dense(neurons[0], activation='relu'))\n",
    "    model.add(Dense(neurons[1], activation='relu'))\n",
    "    model.add(Dense(1))\n",
    "    model.compile(loss=\"mse\", optimizer=\"adam\", metrics=[\"acc\"])\n",
    "    history = model.fit(X_train, Y_train, epochs=nep, batch_size=btch_size, verbose=v, validation_data=(X_test, Y_test))\n",
    "    pred = model.predict(X_test)\n",
    "    acc_train = np.average(history.history[\"acc\"])\n",
    "    acc_test = np.average(history.history[\"val_acc\"])\n",
    "    #print(\"Train Accuracy: \", acc_train, \"\\nTest Accuracy:  \", acc_test)\n",
    "    return history, pred, acc_train, acc_test"
   ]
  },
  {
   "cell_type": "code",
   "execution_count": 81,
   "metadata": {},
   "outputs": [
    {
     "name": "stdout",
     "output_type": "stream",
     "text": [
      "ECM: 134.8730\n",
      "EAM: 9.2513\n"
     ]
    },
    {
     "data": {
      "text/plain": [
       "<matplotlib.legend.Legend at 0x7f4e2301a8d0>"
      ]
     },
     "execution_count": 81,
     "metadata": {},
     "output_type": "execute_result"
    },
    {
     "data": {
      "image/png": "[encoded data removed]",
      "text/plain": [
       "<Figure size 576x432 with 1 Axes>"
      ]
     },
     "metadata": {
      "needs_background": "light"
     },
     "output_type": "display_data"
    }
   ],
   "source": [
    "history, pred, acc_train, acc_test = NN([64, 32], nep=35)\n",
    "# Errors\n",
    "testScoreECM = mean_squared_error(Y_test, pred)\n",
    "print('ECM: %.4f' % (testScoreECM))\n",
    "testScoreEAM = mean_absolute_error(Y_test, pred)\n",
    "print('EAM: %.4f' % (testScoreEAM))\n",
    "fig,ax = plt.subplots(nrows=1,ncols=1,figsize=(8,6))# 6,6\n",
    "plt.plot(history.history['loss'])\n",
    "plt.plot(history.history['val_loss'])\n",
    "#ax.set_yscale(\"log\")\n",
    "#plt.title('model loss')\n",
    "plt.ylabel('loss', fontsize=14)\n",
    "plt.xlabel('epoch', fontsize=14)\n",
    "plt.legend(['train', 'test'], loc='upper right')"
   ]
  },
  {
   "cell_type": "code",
   "execution_count": 69,
   "metadata": {
    "scrolled": true
   },
   "outputs": [
    {
     "name": "stdout",
     "output_type": "stream",
     "text": [
      "Iteration  0\n",
      "Iteration  1\n",
      "Iteration  2\n",
      "Iteration  3\n",
      "Iteration  4\n",
      "Iteration  5\n",
      "Iteration  6\n",
      "Iteration  7\n",
      "Iteration  8\n",
      "Iteration  9\n",
      "Iteration  10\n",
      "Iteration  11\n",
      "Iteration  12\n",
      "Iteration  13\n",
      "Iteration  14\n",
      "Iteration  15\n",
      "Iteration  16\n",
      "Iteration  17\n",
      "Iteration  18\n",
      "Iteration  19\n",
      "Iteration  20\n",
      "Iteration  21\n",
      "Iteration  22\n",
      "Iteration  23\n",
      "Iteration  24\n",
      ":ECM: 116.3143\n",
      ":EAM: 8.6692\n"
     ]
    }
   ],
   "source": [
    "ECM = []\n",
    "EAM = []\n",
    "for it in range(25):\n",
    "    print('Iteration ', it)\n",
    "    history, pred, acc_train, acc_test = NN([64, 32], nep=35)\n",
    "    ECM.append(mean_squared_error(Y_test, pred))\n",
    "    EAM.append(mean_absolute_error(Y_test, pred))\n",
    "print(':ECM: %.4f' % (np.mean(ECM)))\n",
    "print(':EAM: %.4f' % (np.mean(EAM)))"
   ]
  },
  {
   "cell_type": "markdown",
   "metadata": {},
   "source": [
    "# Plots"
   ]
  },
  {
   "cell_type": "code",
   "execution_count": 25,
   "metadata": {},
   "outputs": [],
   "source": [
    "startdaypred = pd.datetime(2013, 7, 1) + 7*pd.Timedelta( len(mdnRnA)-len(pred), unit='D')"
   ]
  },
  {
   "cell_type": "code",
   "execution_count": 82,
   "metadata": {},
   "outputs": [
    {
     "data": {
      "text/plain": [
       "Text(0.5,0.98,'Weekly Fitting at LSC - Hall A')"
      ]
     },
     "execution_count": 82,
     "metadata": {},
     "output_type": "execute_result"
    },
    {
     "data": {
      "image/png": "[encoded data removed]",
      "text/plain": [
       "<Figure size 720x288 with 2 Axes>"
      ]
     },
     "metadata": {
      "needs_background": "light"
     },
     "output_type": "display_data"
    }
   ],
   "source": [
    "fig,ax = plt.subplots(nrows=1,ncols=1,figsize=(10,4))\n",
    "plt.figure(1)\n",
    "xaxis = ax.get_xaxis()\n",
    "#ax.xaxis.grid(b=True, which='minor', color='0.90', linewidth=0.6)\n",
    "ax.xaxis.set_major_locator(mdates.YearLocator())\n",
    "ax.xaxis.set_minor_locator(mdates.MonthLocator())\n",
    "ax.xaxis.set_major_formatter(mdates.DateFormatter(\"%Y\"))\n",
    "#ax.xaxis.set_minor_formatter(mdates.DateFormatter(\"%b\"))\n",
    "\n",
    "ax.plot(pd.date_range(startday, periods=len(mdnRnA), freq='W'), mdnRnA, linewidth=2, color='k', linestyle=':') \n",
    "ax.plot(pd.date_range(startdaypred, periods=len(pred), freq='W'), pred, linewidth=2, linestyle='-',color='crimson')\n",
    "plt.xlabel('Time')\n",
    "ax.legend(['Data', 'CNN'], loc='upper left')\n",
    "plt.ylim([30, 140])\n",
    "\n",
    "from mpl_toolkits.axes_grid1.inset_locator import zoomed_inset_axes, mark_inset\n",
    "axins = zoomed_inset_axes(ax, 1.7, loc='lower left', bbox_to_anchor=(640,140))\n",
    "axins.plot(pd.date_range(startday, periods=len(mdnRnA), freq='W'), mdnRnA, linewidth=2, color='k', linestyle=':') \n",
    "axins.plot(pd.date_range(startdaypred, periods=len(pred), freq='W'), pred, linewidth=2, linestyle='-',color='crimson')\n",
    "axins.set_xlim('2017-10-05', '2019-07-21')\n",
    "axins.set_ylim(50, 110)\n",
    "\n",
    "plt.xticks(visible=False)\n",
    "plt.yticks(visible=False)\n",
    "\n",
    "mark_inset(ax, axins, loc1=2, loc2=4, fc=\"none\", ec=\"0.5\")\n",
    "\n",
    "plt.suptitle('Weekly Fitting at LSC - Hall A')"
   ]
  },
  {
   "cell_type": "code",
   "execution_count": null,
   "metadata": {},
   "outputs": [],
   "source": []
  }
 ],
 "metadata": {
  "kernelspec": {
   "display_name": "Python 3",
   "language": "python",
   "name": "python3"
  },
  "language_info": {
   "codemirror_mode": {
    "name": "ipython",
    "version": 3
   },
   "file_extension": ".py",
   "mimetype": "text/x-python",
   "name": "python",
   "nbconvert_exporter": "python",
   "pygments_lexer": "ipython3",
   "version": "3.6.8"
  }
 },
 "nbformat": 4,
 "nbformat_minor": 2
}
