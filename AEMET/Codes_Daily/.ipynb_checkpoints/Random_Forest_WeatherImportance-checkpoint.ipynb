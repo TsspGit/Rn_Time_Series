{
 "cells": [
  {
   "cell_type": "code",
   "execution_count": 126,
   "metadata": {},
   "outputs": [],
   "source": [
    "import numpy as np\n",
    "import matplotlib.pyplot as plt\n",
    "import pandas as pd  \n",
    "from sklearn.preprocessing import MinMaxScaler\n",
    "from sklearn.metrics import mean_squared_error, mean_absolute_error\n",
    "from scipy.stats.stats import pearsonr\n",
    "from matplotlib.ticker import MultipleLocator, FormatStrFormatter\n",
    "import matplotlib.dates as mdates\n",
    "from matplotlib.ticker import MultipleLocator, FormatStrFormatter\n",
    "import matplotlib.dates as mdates\n",
    "from sklearn.ensemble import RandomForestRegressor\n",
    "from utils.NNutils import *\n",
    "plt.rcParams['xtick.labelsize']=13\n",
    "plt.rcParams['ytick.labelsize']=13\n",
    "plt.rcParams['font.size']=16"
   ]
  },
  {
   "cell_type": "code",
   "execution_count": 127,
   "metadata": {},
   "outputs": [],
   "source": [
    "# Load:\n",
    "## 222Rn\n",
    "mdnRnA = np.loadtxt('../../mdnRnA.txt', delimiter=',')\n",
    "startday = pd.datetime(2013, 7, 1)\n",
    "dates = pd.date_range(startday, periods=len(mdnRnA), freq='W')\n",
    "## Weather:\n",
    "list_cities = ['BCN', 'NVR', 'HSC', 'ZGZ']\n",
    "weekly = loadallDF(list_cities, mdnRnA)\n",
    "BCN_arima = weekly['BCN_arima']\n",
    "NVR_arima = weekly['NVR_arima']\n",
    "HSC_arima = weekly['HSC_arima']\n",
    "ZGZ_arima = weekly['ZGZ_arima']\n",
    "DF_list = [BCN_arima, NVR_arima, ZGZ_arima, HSC_arima]\n",
    "arr_str = ['BCN', 'PMP', 'ZGZ', 'HSC']"
   ]
  },
  {
   "cell_type": "code",
   "execution_count": 159,
   "metadata": {},
   "outputs": [
    {
     "name": "stdout",
     "output_type": "stream",
     "text": [
      "        tmed  velmedia      presmed  mdnRnA\n",
      "0  25.800000  2.800000  1020.600000    90.0\n",
      "1  25.642857  3.914286  1016.357143    79.0\n",
      "2  26.028571  4.285714  1017.578571    99.0\n",
      "3  27.214286  4.900000  1013.457143   117.0\n",
      "4  25.785714  4.528571  1018.435714    99.0\n",
      "0.9808657223710054\n"
     ]
    },
    {
     "data": {
      "text/plain": [
       "Text(0,0.5,'Relative Importance')"
      ]
     },
     "execution_count": 159,
     "metadata": {},
     "output_type": "execute_result"
    },
    {
     "data": {
      "image/png": "[encoded data removed]",
      "text/plain": [
       "<Figure size 864x576 with 1 Axes>"
      ]
     },
     "metadata": {
      "needs_background": "light"
     },
     "output_type": "display_data"
    }
   ],
   "source": [
    "X = BCN_arima[['tmed', 'velmedia', 'presmed', 'mdnRnA']]\n",
    "Y = mdnRnA\n",
    "print(X.head())\n",
    "\n",
    "test_size=int(0.3 * len(mdnRnA))\n",
    "Xtrain, Xtest = X[:-test_size], X[-test_size:]\n",
    "Ytrain, Ytest = Y[:-test_size], Y[-test_size:]\n",
    "\n",
    "clf = RandomForestRegressor(n_estimators=10, n_jobs=2, max_features='sqrt', random_state=42)\n",
    "clf.fit(Xtrain, Ytrain)\n",
    "pred = clf.predict(Xtest)\n",
    "print(clf.score(Xtest, Ytest))\n",
    "\n",
    "importances = clf.feature_importances_\n",
    "std = np.std([tree.feature_importances_ for tree in clf.estimators_],\n",
    "             axis=0)\n",
    "plt.figure(figsize=(12, 8))\n",
    "plt.bar(range(X.shape[1]), importances, color=\"dimgray\", edgecolor='k', lw=3, align=\"center\")\n",
    "plt.xticks(range(X.shape[1]), X.columns.tolist())\n",
    "plt.xlim([-1, X.shape[1]])\n",
    "plt.ylim([0, 1])\n",
    "plt.xlabel('Features')\n",
    "plt.ylabel('Relative Importance')"
   ]
  },
  {
   "cell_type": "code",
   "execution_count": null,
   "metadata": {},
   "outputs": [],
   "source": []
  }
 ],
 "metadata": {
  "kernelspec": {
   "display_name": "Python 3",
   "language": "python",
   "name": "python3"
  },
  "language_info": {
   "codemirror_mode": {
    "name": "ipython",
    "version": 3
   },
   "file_extension": ".py",
   "mimetype": "text/x-python",
   "name": "python",
   "nbconvert_exporter": "python",
   "pygments_lexer": "ipython3",
   "version": "3.6.8"
  }
 },
 "nbformat": 4,
 "nbformat_minor": 2
}
