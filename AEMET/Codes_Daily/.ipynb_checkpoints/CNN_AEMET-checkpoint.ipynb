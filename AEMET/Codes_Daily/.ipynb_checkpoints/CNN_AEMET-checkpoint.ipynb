{
<<<<<<< HEAD
 "cells": [
  {
   "cell_type": "code",
   "execution_count": 28,
   "metadata": {},
   "outputs": [],
   "source": [
    "''' RNN Bidireccional en Keras '''\n",
    "\n",
    "import numpy as np\n",
    "import matplotlib.pyplot as plt\n",
    "from keras.models import Sequential\n",
    "from keras.layers import Dense, Dropout, Activation, Flatten, BatchNormalization\n",
    "from keras.layers.convolutional import Conv1D, MaxPooling1D\n",
    "import pandas as pd  \n",
    "from sklearn.preprocessing import MinMaxScaler\n",
    "from sklearn.metrics import mean_squared_error, mean_absolute_error\n",
    "from scipy.stats.stats import pearsonr\n",
    "from matplotlib.ticker import MultipleLocator, FormatStrFormatter\n",
    "import matplotlib.dates as mdates\n",
    "from utils.NNutils import *"
   ]
  },
  {
   "cell_type": "code",
   "execution_count": 29,
   "metadata": {},
   "outputs": [
    {
     "data": {
      "text/plain": [
       "Timestamp('2019-07-21 00:00:00', freq='W-SUN')"
      ]
     },
     "execution_count": 29,
     "metadata": {},
     "output_type": "execute_result"
    }
   ],
   "source": [
    "# Radon\n",
    "mdnRnA = np.loadtxt('../../mdnRnA.txt', delimiter=',')\n",
    "startday = pd.datetime(2013, 7, 1)\n",
    "dates = pd.date_range(startday, periods=len(mdnRnA), freq='W')\n",
    "dates[-1]"
   ]
  },
  {
   "cell_type": "code",
   "execution_count": 30,
   "metadata": {},
   "outputs": [
    {
     "data": {
      "text/html": [
       "<div>\n",
       "<style scoped>\n",
       "    .dataframe tbody tr th:only-of-type {\n",
       "        vertical-align: middle;\n",
       "    }\n",
       "\n",
       "    .dataframe tbody tr th {\n",
       "        vertical-align: top;\n",
       "    }\n",
       "\n",
       "    .dataframe thead th {\n",
       "        text-align: right;\n",
       "    }\n",
       "</style>\n",
       "<table border=\"1\" class=\"dataframe\">\n",
       "  <thead>\n",
       "    <tr style=\"text-align: right;\">\n",
       "      <th></th>\n",
       "      <th>tmed</th>\n",
       "      <th>velmedia</th>\n",
       "      <th>presmed</th>\n",
       "    </tr>\n",
       "  </thead>\n",
       "  <tbody>\n",
       "    <tr>\n",
       "      <th>count</th>\n",
       "      <td>316.000000</td>\n",
       "      <td>316.000000</td>\n",
       "      <td>316.000000</td>\n",
       "    </tr>\n",
       "    <tr>\n",
       "      <th>mean</th>\n",
       "      <td>17.587430</td>\n",
       "      <td>4.503505</td>\n",
       "      <td>1016.763222</td>\n",
       "    </tr>\n",
       "    <tr>\n",
       "      <th>std</th>\n",
       "      <td>5.790832</td>\n",
       "      <td>0.691445</td>\n",
       "      <td>5.295843</td>\n",
       "    </tr>\n",
       "    <tr>\n",
       "      <th>min</th>\n",
       "      <td>6.542857</td>\n",
       "      <td>2.414286</td>\n",
       "      <td>1000.528571</td>\n",
       "    </tr>\n",
       "    <tr>\n",
       "      <th>25%</th>\n",
       "      <td>12.575000</td>\n",
       "      <td>4.071429</td>\n",
       "      <td>1013.675000</td>\n",
       "    </tr>\n",
       "    <tr>\n",
       "      <th>50%</th>\n",
       "      <td>17.007143</td>\n",
       "      <td>4.442857</td>\n",
       "      <td>1016.432143</td>\n",
       "    </tr>\n",
       "    <tr>\n",
       "      <th>75%</th>\n",
       "      <td>22.834364</td>\n",
       "      <td>4.885714</td>\n",
       "      <td>1019.176786</td>\n",
       "    </tr>\n",
       "    <tr>\n",
       "      <th>max</th>\n",
       "      <td>29.900000</td>\n",
       "      <td>8.200000</td>\n",
       "      <td>1031.835714</td>\n",
       "    </tr>\n",
       "  </tbody>\n",
       "</table>\n",
       "</div>"
      ],
      "text/plain": [
       "             tmed    velmedia      presmed\n",
       "count  316.000000  316.000000   316.000000\n",
       "mean    17.587430    4.503505  1016.763222\n",
       "std      5.790832    0.691445     5.295843\n",
       "min      6.542857    2.414286  1000.528571\n",
       "25%     12.575000    4.071429  1013.675000\n",
       "50%     17.007143    4.442857  1016.432143\n",
       "75%     22.834364    4.885714  1019.176786\n",
       "max     29.900000    8.200000  1031.835714"
      ]
     },
     "execution_count": 30,
     "metadata": {},
     "output_type": "execute_result"
    }
   ],
   "source": [
    "# Weather\n",
    "BCN = pd.read_csv('../Data/Daily/BCN/BCN_arima_weekly.csv', usecols=['fecha', 'tmed', 'presmed', 'velmedia'])\n",
    "BCN['fecha'] = pd.to_datetime(BCN['fecha'])\n",
    "BCN.describe()"
   ]
  },
  {
   "cell_type": "code",
   "execution_count": 31,
   "metadata": {},
   "outputs": [
    {
     "name": "stdout",
     "output_type": "stream",
     "text": [
      "Correlation(Temperature, Rn):  0.5261748878387968\n",
      "Correlation(Preasure, Rn):  -0.20845729390189935\n",
      "Correlation(Wind Velocity, Rn):  0.058403649719426104\n"
     ]
    }
   ],
   "source": [
    "print(\"Correlation(Temperature, Rn): \", pearsonr(mdnRnA, BCN['tmed'])[0])\n",
    "print(\"Correlation(Preasure, Rn): \", pearsonr(mdnRnA, BCN['presmed'])[0])\n",
    "print(\"Correlation(Wind Velocity, Rn): \", pearsonr(mdnRnA, BCN['velmedia'])[0])"
   ]
  },
  {
   "cell_type": "markdown",
   "metadata": {},
   "source": [
    "### We only use temperature as input"
   ]
  },
  {
   "cell_type": "code",
   "execution_count": 45,
   "metadata": {},
   "outputs": [
    {
     "data": {
      "text/html": [
       "<div>\n",
       "<style scoped>\n",
       "    .dataframe tbody tr th:only-of-type {\n",
       "        vertical-align: middle;\n",
       "    }\n",
       "\n",
       "    .dataframe tbody tr th {\n",
       "        vertical-align: top;\n",
       "    }\n",
       "\n",
       "    .dataframe thead th {\n",
       "        text-align: right;\n",
       "    }\n",
       "</style>\n",
       "<table border=\"1\" class=\"dataframe\">\n",
       "  <thead>\n",
       "    <tr style=\"text-align: right;\">\n",
       "      <th></th>\n",
       "      <th>T</th>\n",
       "      <th>dates</th>\n",
       "      <th>mdnRnA</th>\n",
       "    </tr>\n",
       "  </thead>\n",
       "  <tbody>\n",
       "    <tr>\n",
       "      <th>0</th>\n",
       "      <td>25.800000</td>\n",
       "      <td>2013-07-07</td>\n",
       "      <td>90.0</td>\n",
       "    </tr>\n",
       "    <tr>\n",
       "      <th>1</th>\n",
       "      <td>25.642857</td>\n",
       "      <td>2013-07-14</td>\n",
       "      <td>79.0</td>\n",
       "    </tr>\n",
       "    <tr>\n",
       "      <th>2</th>\n",
       "      <td>26.028571</td>\n",
       "      <td>2013-07-21</td>\n",
       "      <td>99.0</td>\n",
       "    </tr>\n",
       "    <tr>\n",
       "      <th>3</th>\n",
       "      <td>27.214286</td>\n",
       "      <td>2013-07-28</td>\n",
       "      <td>117.0</td>\n",
       "    </tr>\n",
       "    <tr>\n",
       "      <th>4</th>\n",
       "      <td>25.785714</td>\n",
       "      <td>2013-08-04</td>\n",
       "      <td>99.0</td>\n",
       "    </tr>\n",
       "  </tbody>\n",
       "</table>\n",
       "</div>"
      ],
      "text/plain": [
       "           T      dates  mdnRnA\n",
       "0  25.800000 2013-07-07    90.0\n",
       "1  25.642857 2013-07-14    79.0\n",
       "2  26.028571 2013-07-21    99.0\n",
       "3  27.214286 2013-07-28   117.0\n",
       "4  25.785714 2013-08-04    99.0"
      ]
     },
     "execution_count": 45,
     "metadata": {},
     "output_type": "execute_result"
    }
   ],
   "source": [
    "sample_size = 4\n",
    "DF = pd.DataFrame({'dates': dates,'mdnRnA': mdnRnA, 'T': BCN['tmed'].values})\n",
    "DF.head()"
   ]
  },
  {
   "cell_type": "code",
   "execution_count": 46,
   "metadata": {},
   "outputs": [
    {
     "data": {
      "text/html": [
       "<div>\n",
       "<style scoped>\n",
       "    .dataframe tbody tr th:only-of-type {\n",
       "        vertical-align: middle;\n",
       "    }\n",
       "\n",
       "    .dataframe tbody tr th {\n",
       "        vertical-align: top;\n",
       "    }\n",
       "\n",
       "    .dataframe thead th {\n",
       "        text-align: right;\n",
       "    }\n",
       "</style>\n",
       "<table border=\"1\" class=\"dataframe\">\n",
       "  <thead>\n",
       "    <tr style=\"text-align: right;\">\n",
       "      <th></th>\n",
       "      <th>T</th>\n",
       "      <th>mdnRnA</th>\n",
       "      <th>dates</th>\n",
       "    </tr>\n",
       "  </thead>\n",
       "  <tbody>\n",
       "    <tr>\n",
       "      <th>0</th>\n",
       "      <td>0.824465</td>\n",
       "      <td>0.573333</td>\n",
       "      <td>2013-07-07</td>\n",
       "    </tr>\n",
       "    <tr>\n",
       "      <th>1</th>\n",
       "      <td>0.817737</td>\n",
       "      <td>0.426667</td>\n",
       "      <td>2013-07-14</td>\n",
       "    </tr>\n",
       "    <tr>\n",
       "      <th>2</th>\n",
       "      <td>0.834251</td>\n",
       "      <td>0.693333</td>\n",
       "      <td>2013-07-21</td>\n",
       "    </tr>\n",
       "    <tr>\n",
       "      <th>3</th>\n",
       "      <td>0.885015</td>\n",
       "      <td>0.933333</td>\n",
       "      <td>2013-07-28</td>\n",
       "    </tr>\n",
       "    <tr>\n",
       "      <th>4</th>\n",
       "      <td>0.823853</td>\n",
       "      <td>0.693333</td>\n",
       "      <td>2013-08-04</td>\n",
       "    </tr>\n",
       "  </tbody>\n",
       "</table>\n",
       "</div>"
      ],
      "text/plain": [
       "          T    mdnRnA      dates\n",
       "0  0.824465  0.573333 2013-07-07\n",
       "1  0.817737  0.426667 2013-07-14\n",
       "2  0.834251  0.693333 2013-07-21\n",
       "3  0.885015  0.933333 2013-07-28\n",
       "4  0.823853  0.693333 2013-08-04"
      ]
     },
     "execution_count": 46,
     "metadata": {},
     "output_type": "execute_result"
    }
   ],
   "source": [
    "def scaler(DF, field):\n",
    "    scaled = MinMaxScaler().fit(DF[[field[0], field[1]]].values).transform(DF[[field[0], field[1]]].values)\n",
    "    output = pd.DataFrame(scaled, columns=['T', 'mdnRnA'])\n",
    "    output['dates'] = DF['dates']\n",
    "    return output\n",
    "DF_scaled = scaler(DF, ['T', 'mdnRnA'])\n",
    "DF_scaled.head()"
   ]
  },
  {
   "cell_type": "code",
   "execution_count": 47,
   "metadata": {},
   "outputs": [
    {
     "data": {
      "text/plain": [
       "(312, 4, 2)"
      ]
     },
     "execution_count": 47,
     "metadata": {},
     "output_type": "execute_result"
    }
   ],
   "source": [
    "DF_to3d = DF_scaled[['T', 'mdnRnA']].values\n",
    "X = np.array([DF_to3d[start:start+sample_size] for start in range(0, DF_to3d.shape[0]-sample_size)])\n",
    "X.shape"
   ]
  },
  {
   "cell_type": "code",
   "execution_count": 48,
   "metadata": {},
   "outputs": [],
   "source": [
    "Y = mdnRnA[sample_size:]"
   ]
  },
  {
   "cell_type": "code",
   "execution_count": 49,
   "metadata": {},
   "outputs": [
    {
     "data": {
      "text/html": [
       "<div>\n",
       "<style scoped>\n",
       "    .dataframe tbody tr th:only-of-type {\n",
       "        vertical-align: middle;\n",
       "    }\n",
       "\n",
       "    .dataframe tbody tr th {\n",
       "        vertical-align: top;\n",
       "    }\n",
       "\n",
       "    .dataframe thead th {\n",
       "        text-align: right;\n",
       "    }\n",
       "</style>\n",
       "<table border=\"1\" class=\"dataframe\">\n",
       "  <thead>\n",
       "    <tr style=\"text-align: right;\">\n",
       "      <th></th>\n",
       "      <th>T</th>\n",
       "      <th>mdnRnA</th>\n",
       "      <th>dates</th>\n",
       "    </tr>\n",
       "  </thead>\n",
       "  <tbody>\n",
       "    <tr>\n",
       "      <th>261</th>\n",
       "      <td>0.827523</td>\n",
       "      <td>0.693333</td>\n",
       "      <td>2018-07-08</td>\n",
       "    </tr>\n",
       "  </tbody>\n",
       "</table>\n",
       "</div>"
      ],
      "text/plain": [
       "            T    mdnRnA      dates\n",
       "261  0.827523  0.693333 2018-07-08"
      ]
     },
     "execution_count": 49,
     "metadata": {},
     "output_type": "execute_result"
    }
   ],
   "source": [
    "# Training set first 5 years, Test set last year\n",
    "DF_scaled[DF_scaled['dates'] == '2018-07-08']"
   ]
  },
  {
   "cell_type": "code",
   "execution_count": 50,
   "metadata": {},
   "outputs": [],
   "source": [
    "test_size = int(0.3*len(mdnRnA))\n",
    "X_train, X_test = X[:-test_size], X[-test_size:]\n",
    "Y_train, Y_test = Y[:-test_size], Y[-test_size:]"
   ]
  },
  {
   "cell_type": "code",
   "execution_count": 51,
   "metadata": {},
   "outputs": [
    {
     "name": "stdout",
     "output_type": "stream",
     "text": [
      "X_train.shape =  (218, 4, 2) \n",
      "Y_train.shape =  (218,)\n"
     ]
    }
   ],
   "source": [
    "print(\"X_train.shape = \", X_train.shape, \"\\nY_train.shape = \", Y_train.shape)"
   ]
  },
  {
   "cell_type": "markdown",
   "metadata": {},
   "source": [
    "# Neural Network"
   ]
  },
  {
   "cell_type": "code",
   "execution_count": 52,
   "metadata": {},
   "outputs": [],
   "source": [
    "def NN(neurons, nep, v=0, btch_size=10):\n",
    "    model = Sequential()\n",
    "    model.add(Conv1D(filters=neurons[0], kernel_size=3, activation='relu', input_shape=(sample_size, 2)))\n",
    "    #model.add(MaxPooling1D(pool_size=2))\n",
    "    model.add(Flatten())\n",
    "    model.add(Dense(neurons[0], activation='relu'))\n",
    "    model.add(Dense(neurons[1], activation='relu'))\n",
    "    model.add(Dense(1))\n",
    "    model.compile(loss=\"mse\", optimizer=\"adam\", metrics=[\"acc\"])\n",
    "    history = model.fit(X_train, Y_train, epochs=nep, batch_size=btch_size, verbose=v, validation_data=(X_test, Y_test))\n",
    "    pred = model.predict(X_test)\n",
    "    acc_train = np.average(history.history[\"acc\"])\n",
    "    acc_test = np.average(history.history[\"val_acc\"])\n",
    "    print(model.summary())\n",
    "    return history, pred, acc_train, acc_test, model"
   ]
  },
  {
   "cell_type": "code",
   "execution_count": 53,
   "metadata": {},
   "outputs": [
    {
     "name": "stdout",
     "output_type": "stream",
     "text": [
      "_________________________________________________________________\n",
      "Layer (type)                 Output Shape              Param #   \n",
      "=================================================================\n",
      "conv1d_4 (Conv1D)            (None, 2, 64)             448       \n",
      "_________________________________________________________________\n",
      "flatten_4 (Flatten)          (None, 128)               0         \n",
      "_________________________________________________________________\n",
      "dense_10 (Dense)             (None, 64)                8256      \n",
      "_________________________________________________________________\n",
      "dense_11 (Dense)             (None, 32)                2080      \n",
      "_________________________________________________________________\n",
      "dense_12 (Dense)             (None, 1)                 33        \n",
      "=================================================================\n",
      "Total params: 10,817\n",
      "Trainable params: 10,817\n",
      "Non-trainable params: 0\n",
      "_________________________________________________________________\n",
      "None\n",
      "ECM: 113.5103\n",
      "EAM: 8.2780\n"
     ]
    },
    {
     "data": {
      "text/plain": [
       "<matplotlib.legend.Legend at 0x7fb16b1d8fd0>"
      ]
     },
     "execution_count": 53,
     "metadata": {},
     "output_type": "execute_result"
    },
    {
     "data": {
      "image/png": "iVBORw0KGgoAAAANSUhEUgAAAgIAAAF7CAYAAACggONYAAAABHNCSVQICAgIfAhkiAAAAAlwSFlzAAALEgAACxIB0t1+/AAAADl0RVh0U29mdHdhcmUAbWF0cGxvdGxpYiB2ZXJzaW9uIDIuMi4yLCBodHRwOi8vbWF0cGxvdGxpYi5vcmcvhp/UCwAAIABJREFUeJzt3XmcXHWd7//Xp7aurt67s3W6sylBwmICBASXURJZHQU3rjpo5l7vRa84l7k6KM5Dh1FHZRY3fr8RReE3MC7IgF5wRCUEELzKEvYtkLAlnbWzdNJL7fX9/XFOdypJd1d1p7qqq+v9fDzqUae+59Tpb9Wjod/5nu/3c8w5h4iIiNSmQKU7ICIiIpWjICAiIlLDFARERERqmIKAiIhIDVMQEBERqWEKAiIiIjVMQUBERKSGKQiIiIjUMAUBERGRGqYgICIiUsNCle5AOcyaNcstXry40t0QEREpm0cffXS3c252oeNqIggsXryY9evXV7obIiIiZWNmrxVznC4NiIiI1DAFARERkRqmICAiIlLDamKOgIiI1JZ0Ok1PTw+JRKLSXZly0WiU7u5uwuHwpN6vICAiIjNOT08PTU1NLF68GDOrdHemjHOOPXv20NPTw5IlSyZ1Dl0aEBGRGSeRSNDR0TGjQwCAmdHR0XFUIx8KAiIiMiPN9BAw7Gg/p4KAiIjIFOjr6+N73/vehN93wQUX0NfXNwU9Gp2CgIiIyBQYKwhkMplx33fnnXfS2to6Vd06giYLioiITIErr7ySl156iRUrVhAOh4lGo7S1tbFhwwZefPFFLrroIrZs2UIikeDyyy/n0ksvBQ5Wwx0YGOD888/nrW99K3/84x/p6uri9ttvp76+vqT9VBAQEZEZ7cu/epbnth0o6TmPn9/MVe8+Ydxjrr76ap555hmeeOIJ7rvvPt71rnfxzDPPjMzuv+GGG2hvbycej3Paaafx/ve/n46OjkPOsXHjRn72s5/xwx/+kIsvvpjbbruNSy65pKSfRZcGJuE/n9pGKpOrdDdERKSKnH766Ycs8bvmmmtYvnw5Z5xxBlu2bGHjxo1HvGfJkiWsWLECgFNPPZVXX3215P3SiMAEPd2zn0//9HHetnQW37/kVBrq9BWKiExnhf7lXi4NDQ0j2/fddx933303f/rTn4jFYrzjHe8YdQlgXV3dyHYwGCQej5e8XxoRmKCTulv4p/e/kf+7aTcf+eGD7BlIVrpLIiIyDTU1NdHf3z/qvv3799PW1kYsFmPDhg08+OCDZe7dQQoCk3DxaQv4wUdXsmFHPx/8/p/o2TdU6S6JiMg009HRwVve8hZOPPFErrjiikP2nXfeeWQyGZYtW8aVV17JGWecUaFegjnnKvbDy2XlypVu/fr1JT/vw6/s5b/f+Aj1kSA3/bc38YZ5TSX/GSIiMnHPP/88y5Ytq3Q3yma0z2tmjzrnVhZ6r0YEjsLpS9q55ZNnAvDB7/+RR17dW+EeiYiITIyCwFE6bl4zt37yzcxqrOOSHz3E3c/trHSXREREiqYgUAIL2mP8xyfP5A3zmvjEjx/llvVbKt0lERGRoigIlEhHYx0//R9n8ObXd/C5W5/i+79/iVqYfyEiItVNQaCEGutCXL/mNN69fD5X/2YDX/v18+RyCgMiIjJ9lTUImFmrmd1qZhvM7HkzO9PM2s1srZlt9J/b/GPNzK4xs01m9pSZnZJ3njX+8RvNbE05P0MhkVCA7/6XFfzlmxfzoz+8wmf/40nSWVUhFBGR6ancIwLfBX7rnDsOWA48D1wJrHPOLQXW+a8BzgeW+o9LgWsBzKwduAp4E3A6cNVweJguAgHjqncfz9+ccyy/fHwr//3G9Qylxr/blIiIzCyTvQ0xwHe+8x2GhspTo6ZsQcDMWoA/A64HcM6lnHN9wIXAjf5hNwIX+dsXAjc5z4NAq5l1AucCa51ze51z+4C1wHnl+hzFMjM+vWop33jfSTywsZeP/PAh9g2mKt0tEREpk2oJAuUslL8E6AX+PzNbDjwKXA7Mdc5t94/ZAcz1t7uA/On3PX7bWO3T0odPX0h7Q4S/+tnjfOD7f+TnnziTWY11hd8oIiJVLf82xGeffTZz5szhlltuIZlM8t73vpcvf/nLDA4OcvHFF9PT00M2m+VLX/oSO3fuZNu2bZx11lnMmjWLe++9d0r7Wc4gEAJOAf7KOfeQmX2Xg5cBAHDOOTMryew6M7sU75ICCxcuLMUpJ+3cE+Zx0387nQ9d9yA3P7yZT69aWtH+iIjUlN9cCTueLu05550E51897iH5tyG+6667uPXWW3n44YdxzvGe97yH+++/n97eXubPn8+vf/1rwLsHQUtLC9/61re49957mTVrVmn7PYpyzhHoAXqccw/5r2/FCwY7/SF//Odd/v6twIK893f7bWO1H8I5d51zbqVzbuXs2bNL+kEm44zXdbC8u4V1G3YVPlhERGaUu+66i7vuuouTTz6ZU045hQ0bNrBx40ZOOukk1q5dy+c//3keeOABWlpayt63so0IOOd2mNkWM3uDc+4FYDXwnP9YA1ztP9/uv+UO4NNmdjPexMD9zrntZvY74Ot5EwTPAb5Qrs9xNFYdN5fvrHuR3QNJXR4QESmXAv9yLwfnHF/4whf4xCc+ccS+xx57jDvvvJMvfvGLrF69mr/7u78ra9/KvWrgr4CfmNlTwArg63gB4Gwz2wi8038NcCfwMrAJ+CHwKQDn3F7gq8Aj/uMrftu0t3rZHJyD+17orXRXRERkiuXfhvjcc8/lhhtuYGBgAICtW7eya9cutm3bRiwW45JLLuGKK67gscceO+K9U62ccwRwzj0BjHYnpNWjHOuAy8Y4zw3ADaXt3dQ7YX4zc5vrWPf8Tj5waneluyMiIlMo/zbE559/Ph/5yEc480zvRnWNjY38+Mc/ZtOmTVxxxRUEAgHC4TDXXnstAJdeeinnnXce8+fPn/LJgroNcZl94RdPc8cTW3n8784hElJhRxGRqaDbEOs2xNPW6uPmMJjK8vArVXE1Q0REZjgFgTJ7yzGzqAsFuPt53a5YREQqT0GgzOojQd5yzCzWbdipuxOKiEjFKQhUwKrj5rBlb5yXegcq3RURkRmrVv6xdbSfU0GgAlYdNweAdc+ruJCIyFSIRqPs2bNnxocB5xx79uwhGo1O+hxlXT4onvmt9Rzf2cy653fxibe/vtLdERGZcbq7u+np6aG3d+bXbYlGo3R3T35JuoLAZGx/EuaeCIHgpE+xetkc/vXeTfQNpWiNRUrYORERCYfDLFmypNLdqAq6NDBR256AH7wdHr7uqE6z6rg55Bz8/sWZn1ZFRGT6UhCYqM7lcMw7Yd1XoW/zpE+zvLuVWY0R7tY8ARERqSAFgYkygz//lrf968/CJCeiBALGWW+Yw+9f2EU6mythB0VERIqnIDAZrQth1Rdh413w7C8mfZrVy+ZwIJHh0df2lbBzIiIixVMQmKw3fQLmnwy/+TwMTa5c8FuXziYSDHDPBl0eEBGRylAQmKxAEN59jRcC1k7u3tGNdSHe9Lp2lRsWEZGKURA4Gp1vhDd/Gh7/d3jlgUmdYvVxc3i5d5BXdg+WuHMiIiKFKQgcrbdfCW2L4VeXQzox4bevXjYXQJcHRESkIhQEjlYkBn/+Hdj7Etz/zxN++4L2GMfObeSeDbo8ICIi5acgUAqvPwuWfxj+73dg57MTfvuq4+by0Mt7OZBIT0HnRERExqYgUCrnfA2iLXDH/4JcdkJvXb1sDpmc44EXd09R50REREanIFAqDR1w7jdg63p45PoJvfWUhW20xsKs0+UBEREpMwWBUnrjxfD61bDuy7C/p+i3Bf0qg/e90Es2N7NvmSkiItOLgkApDZcfzmXhzismVH541XFz2DuY4oktqjIoIiLloyBQam2L4ay/hRfuhOduL/ptf3bsbEIBY51uQiQiImWkIDAVzvgUzHsj/OZzEO8r6i0t9WFOW9yuegIiIlJWCgJTIRiC91wDg71w91VFv231sjls2NFPz76hKeyciIjIQQoCU2X+yd7IwKP/Bq/9sai3rDpuDqAqgyIiUj4KAlPprL/1bln8q8shkyx4+OtmN/K6WQ2aJyAiImWjIDCVIg3w59+G3S/CA98s6i2rjpvDn17aw2AyM8WdExERURCYese8E066GB74FuzaUPDwVcvmkMrm+MMmVRkUEZGppyBQDud+Heoa4Vf/C3K5cQ89bXE7TdEQ9+jygIiIlIGCQDk0zvbCwJaH4IVfj3toOBjg7cfO5p4XdpFTlUEREZliCgLlctIHIRiBLQ8XPHT1sjn09id5euv+MnRMRERqmYJAuQTDMPcE2P5kwUPfcewcAgbrtIxQRESmmIJAOXUu94JAgXsQtDVEOHVRG/foboQiIjLFFATKqXM5JPqgb3PBQ1cdN5dnth5gx/5EGTomIiK1SkGgnDpXeM9FXB5YvUxVBkVEZOopCJTTnOMhECoqCCyd08iC9npdHhARkSmlIFBO4SjMXlZUEDAzVh83lz9s2k0inS1D50REpBYpCJRb53LY/kTBCYPglRtOpHP88SVVGRQRkamhIFBuncu92xP37yh46Jte105DJKibEImIyJQpaxAws1fN7Gkze8LM1vtt7Wa21sw2+s9tfruZ2TVmtsnMnjKzU/LOs8Y/fqOZrSnnZzhqncu95yIuD9SFgrxt6Wzu2bALV8QIgoiIyERVYkTgLOfcCufcSv/1lcA659xSYJ3/GuB8YKn/uBS4FrzgAFwFvAk4HbhqODxUhXknAuZdHijCqmVz2L4/wXPbD0xtv0REpCZNh0sDFwI3+ts3Ahfltd/kPA8CrWbWCZwLrHXO7XXO7QPWAueVu9OTFmmAWccWNSIA8ObXdwDwxJa+qeyViIjUqHIHAQfcZWaPmtmlfttc59x2f3sHMNff7gK25L23x28bq/0QZnapma03s/W9vb2l/AxHb7jCYDGHttQTChhb98WnuFMiIlKLyh0E3uqcOwVv2P8yM/uz/J3OuxBekovhzrnrnHMrnXMrZ8+eXYpTlk7ncjiwFQYKB5RgwJjfWk+PgoCIiEyBsgYB59xW/3kX8Eu8a/w7/SF//OfhKfJbgQV5b+/228Zqrx7DEwZ3FDcq0NVaT8++oSnskIiI1KqyBQEzazCzpuFt4BzgGeAOYHjm/xrgdn/7DuBj/uqBM4D9/iWE3wHnmFmbP0nwHL+tesw7yXsu8vJAd1s9W/s0IiAiIqUXKuPPmgv80syGf+5PnXO/NbNHgFvM7OPAa8DF/vF3AhcAm4Ah4L8COOf2mtlXgUf8477inNtbvo9RAvWt0LZkAkEgxs4DSZKZLHWh4BR3TkREaknZgoBz7mVg+Sjte4DVo7Q74LIxznUDcEOp+1hWwxUGi9DdVg/Atr4ES2Y1TGWvRESkxkyH5YO1af4K2PcqxPcVPLTLDwKaJyAiIqWmIFApIxMGny546PCIgJYQiohIqSkIVMq84ksNz2uOEgyYlhCKiEjJKQhUSkMHtCwoKgiEggE6W6K6NCAiIiWnIFBJE6gw2KWiQiIiMgUUBCqpczns3gjJgYKHdrfFVEtARERKTkGgkjqXA67oCYM7DiRIZXJT3y8REakZCgKV1Fn8hMHutnqcg+37NSogIiKloyBQSU3zoHFuUUHgYC0BBQERESkdBYFKK3LC4IK2GKBaAiIiUloKApXWuRx6N0B6/D/w81qiBEzVBUVEpLQUBCqtczm4LOx8btzDwsEAnS1aQigiIqWlIFBpIxMGC9+ASLUERESk1BQEKq1lAdS3Fb1yQLUERESklBQEKs0MOlcUHQS274+TzqqWgIiIlIaCwHTQuRx2PQeZ1LiHdbfFyDnYsT9Rpo6JiMhMpyAwHXQuh2zKWz0wjuFaAlu0ckBEREpEQWA6KLLCYLcfBFRLQERESkVBYDpoWwJ1zQWDQGdLPWaqLigiIqWjIDAdBAIw740Fg0AkFGBec1RBQERESkZBYLroXO7dhTCbGfew7rZ6VRcUEZGSURCYLjqXQyYOezaOe1hXq2oJiIhI6SgITBdFTxiMsX1/goxqCYiISAkoCEwXs5ZCqL6olQPZnGPHAdUSEBGRo6cgMF0EgjDvpKJGBEArB0REpDQUBKaTzuWw/SnIjT3s36VaAiIiUkIKAtNJ53JI9cO+V8Y8ZH5rFNCIgIiIlIaCwHQyf4X3PM4tietCQeY212kJoYiIlISCwHQy+zgIRoqaJ6ARARERKQUFgekkGIa5JxQMAqolICIipaIgMN10LveCgHNjHtLdVs+2vjjZ3NjHiIiIFENBYLrpXA7xfbB/y5iHdLfFyOQcO1VLQEREjpKCwHRTRIXB4dsRa56AiIgcLQWB6WbOCWDBcYPASC2BPq0cEBGRo6MgMN2EozBnGWwbewlhV6s/IrBXIwIiInJ0FASmo87lXi2BMSYMRsNBZjfV6dKAiIgcNQWB6ahzOQz2Qv+OMQ/pbqunR5cGRETkKCkITEdFTBjsaq3X/QZEROSoKQhMR3NPBKzAyoEYW/vi5FRLQEREjkLZg4CZBc3scTP7T//1EjN7yMw2mdnPzSzit9f5rzf5+xfnneMLfvsLZnZuuT/DlKtrhFlLCy4hTGcdu/qTZeyYiIjMNJUYEbgceD7v9T8C33bOHQPsAz7ut38c2Oe3f9s/DjM7HvgQcAJwHvA9MwuWqe/lM1xhcAwHawlonoCIiExeWYOAmXUD7wJ+5L82YBVwq3/IjcBF/vaF/mv8/av94y8EbnbOJZ1zrwCbgNPL8wnKqHMFHOiBwd2j7u4eqSWgeQIiIjJ55R4R+A7wOSDnv+4A+pxzGf91D9Dlb3cBWwD8/fv940faR3nPzFFgwmBXawxQdUERETk6ZQsCZvbnwC7n3KNl+nmXmtl6M1vf29tbjh9ZWvNO8p7HCAL1kSCzGiO6NCAiIkelnCMCbwHeY2avAjfjXRL4LtBqZiH/mG5gq7+9FVgA4O9vAfbkt4/ynhHOueuccyudcytnz55d+k8z1epboW1JgVLDMY0IiIjIUSlbEHDOfcE51+2cW4w32e8e59xfAPcCH/APWwPc7m/f4b/G33+Pc8757R/yVxUsAZYCD5fpY5RXoQmDqiUgIiJHaTrUEfg88Bkz24Q3B+B6v/16oMNv/wxwJYBz7lngFuA54LfAZc65bNl7XQ6dy2HfKxDvG3W3V11QtQRERGTyQoUPKT3n3H3Aff72y4wy6985lwA+OMb7vwZ8bep6OE0MTxjc8TQsedsRu7vb6kllcuweSDKnOVrmzomIyEwwHUYEZCwFVg50t3krB7bo8oCIiEySgsB01jALmru9OxGOoku1BERE5CgpCEx340wY7GpVdUERETk6CgLTXedy2L0RkgNH7GqoC9HeENESQhERmTQFgemuczngYOczo+7ubqtXEBARkUlTEJju5h7vPfe+MOrurtZ6XRoQEZFJUxCY7po6AYMD20bd3d3mFRXyai2JiIhMjILAdBcMQ9M8706Eo+hui5HM5Ng9kCpzx0REZCZQEKgGzfPHHREArRwQEZHJURCoBs1dsP+I+yoBB2sJaMKgiIhMhoJANWjuGnNEYLiWgIoKiYjIZCgIVIOWLkj1Q2L/EbuaomFaY2FdGhARkUlREKgGzfO953HmCejSgIiITIaCQDVo7vKeD4wxT6BVQUBERCZHQaAaDAeBMSYMdrfFVEtAREQmRUGgGjTNo1BRoXg6y95B1RIQEZGJURCoBkUUFQItIRQRkYlTEKgW4xQVOng7YgUBERGZGAWBalFEUaGtfVpCKCIiE6MgUC3GKSrUUh+mORrSiICIiEyYgkC1GKeoEHjzBBQERERkohQEqkWBokJdbfWqLigiIhOmIFAtCtYSqFctARERmbAJBQEzm21ms/Nen2Rm/2BmHy591+QQBaoLdrfFGExl6RtKl7FTIiJS7SY6InAL8G4AM5sF3A+8F/i+mX22xH2TfEUUFQItIRQRkYmZaBB4I/Cgv/0BYJNz7gTgY8AnStkxOUyBokIHawlonoCIiBRvokGgHhjwt98J3OFvPwYsKFWnZAzjFBVa4FcX3NqnEQERESneRIPARuB9ZrYAOAe4y2+fC/SVsmMyinGKCjXXh2iqUy0BERGZmIkGgS8D/wi8CjzonHvIbz8XeLyE/ZLRjFNUyMy0hFBERCYsNJGDnXO/MLOFwHzgybxddwO3lbJjMor8okLRliN2d7fVa0RAREQmZMJ1BJxzO51zjzvncgBmdgzwpHNuQ8l7J4cqUFSouy2mWgIiIjIhE60j8HUzW+Nvm5mtBV4EtpvZm6aig5KniKJC/ckMB+KZMnZKRESq2URHBP4CeMHfPh9YAZwB3ARcXcJ+yWgKFhXylhBu0TwBEREp0kSDwFxgeCH7BcAtzrmHgf8HOLmUHZNRjBQVGuN2xK3eEkLNExARkWJNNAjsARb52+cA6/ztEGCl6pSMYaSo0PgjAqolICIixZrQqgG8lQE/NbMXgXbgd377CmBTKTsmYxinqFBrLExDJKglhCIiUrSJBoHPAK8BC4HPOecG/fZO4NpSdkzG0NwFvS+MusvM6G6L6dKAiIgUbaJ1BDLAN0dp/3bJeiTja+6Cl+4dc3eXagmIiMgETHREADObC1wGHA844DngX51zu0rcNxlNEUWF1r+6twIdExGRajTROgJvwZsL8BEgDiTwlhRuMrMzC7w3amYPm9mTZvasmX3Zb19iZg+Z2SYz+7mZRfz2Ov/1Jn//4rxzfcFvf8HMzp3IZ6h6BYsK1XMgkWF/PF3GTomISLWa6KqBfwF+BhzrnPuoc+6jwLHAzYxyyeAwSWCVc2453uTC88zsDLx7F3zbOXcMsA/4uH/8x4F9fvu3/eMws+OBDwEnAOcB3zOz4AQ/R/UqWFTIvwuhLg+IiEgRJhoEVgDfHC4vDOBvf4sCdQScZ/gWxmH/4YBVwK1++43ARf72hf5r/P2rzcz89pudc0nn3Ct4IxSnT/BzVK8CRYW6Wr0lhFo5ICIixZhoENgPLBmlfQlF3IbYzIJm9gSwC1gLvAT0+ZMQwStW5P+lowvYAiOTFPcDHfnto7xn5itQVEi1BEREZCImGgRuBq43s7/wr+0vMbNLgB/hXTIYl3Mu65xbAXTj/Sv+uAn3uEhmdqmZrTez9b29vVP1Y8qvQFGh9oYI9eGgVg6IiEhRJrpq4HN4FQRv4GA1wRReDYEriz2Jc67PzO4FzgRazSzk/6u/Gxj+C7cVWAD0mFkIaMGrbDjcPiz/Pfk/4zrgOoCVK1fOrNvxjVNUyKslUK9LAyIiUpQJjQg451LOucuBNrz5AsuBdufc/3bOpcZ7r5nNNrNWf7seOBt4HrgX+IB/2Brgdn/7Dv81/v57nHd/3TuAD/mrCpYAS4GHJ/I5ql5z15iTBUG1BEREpHgFRwTM7I4ijgHAOfeecQ7rBG70Z/gH8G5Y9J9m9hxws5n9A/A4cL1//PXAv5vZJmAv3koBnHPPmtktePULMsBlzrlsoT7OKAWKCnW31fPEloJTNkRERIq6NLCnFD/IOfcUo6wscM69zCiz/p1zCeCDY5zra8DXStGvqlSwqFCMvqE0/Yk0TdFwBTooIiLVomAQcM7913J0RCYgv6jQGNUFwVs5cNw8BQERERnbRFcNyHRQoKjQSC2BvZonICIi41MQqEYFigqNVBdULQERESlAQaAaFSgqNKsxQl0ooCWEIiJSkIJANSpQVOhgLQGNCIiIyPgUBKpV8/wCtQRiCgIiIlKQgkC1au4as7ogeCsHNEdAREQKURCoVkUEgb2DKQaTmTGPERERURCoVvlFhUahlQMiIlIMBYFqlV9UaBQjtQS0ckBERMahIFCtChQVWtDuBYHNexQERERkbAoC1apAUaHZjXXEIkFe26sgICIiY1MQqFYFigqZGQvbY2xREBARkXEoCFSrAkWFABa2x3hNlwZERGQcCgLVrEBRoYXtMTbvHSKXc2XslIiIVBMFgWpWoJbAoo4YyUyOXf3JMnZKRESqiYJANWvu8i4NuNH/xb+wowGA1/YMlrNXIiJSRRQEqllLF6QGIHlg1N2L2r2iQps1YVBERMagIFDNChUVaqsnGDAFARERGZOCQDUrUFQoHAwwvzWqlQMiIjImBYFqVqCoEPhLCDUiICIiY1AQqGYFigoBLGxvYLMmC4qIyBgUBKpZEUWFFnXE2DeU5kAiXcaOiYhItVAQqHYFigqNrBzQPAERERmFgkC1K1BUaGGHlhCKiMjYFASqXaGiQv6IgFYOiIjIaBQEql2BokJN0TDtDRE279WEQREROZKCQLUbLipU4OZDGhEQEZHRKAhUu5FaAuPffEhBQERERqMgUO2KKCq0qD3G9v1xUplcmTolIiLVQkGg2hVTVKijgZyDrX3x8vVLRESqgoJAtSuyqBDodsQiInIkBYGZoEBRoYW6HbGIiIxBQWAmKFBUaE5THdFwQBMGRUTkCAoCM0GBokJmpiWEIiIyKgWBmaBAUSHw7kK4RZcGRETkMAoCM0ERRYUWdcTYvHcIN8aogYiI1CYFgZmgyKJC8XSW3v5kmTolIiLVQEFgJiiiqNCC4ZsP6fKAiIjkKVsQMLMFZnavmT1nZs+a2eV+e7uZrTWzjf5zm99uZnaNmW0ys6fM7JS8c63xj99oZmvK9RmmrSKKCi3SXQhFRGQU5RwRyACfdc4dD5wBXGZmxwNXAuucc0uBdf5rgPOBpf7jUuBa8IIDcBXwJuB04Krh8FCziigq1N0WI2CwWUWFREQkT9mCgHNuu3PuMX+7H3ge6AIuBG70D7sRuMjfvhC4yXkeBFrNrBM4F1jrnNvrnNsHrAXOK9fnmLYKFBWKhAJ0ttSrqJCIiByiInMEzGwxcDLwEDDXObfd37UDmOtvdwFb8t7W47eN1V7bChQVAv8uhAoCIiKSp+xBwMwagduAv3bOHbLw3Xlr20qyvs3MLjWz9Wa2vre3txSnnN4KFBUCr9TwZs0REBGRPGUNAmYWxgsBP3HO/cJv3ukP+eM/7/LbtwIL8t7e7beN1X4I59x1zrmVzrmVs2fPLu0HmY6KKSrUEWNORVGyAAAZS0lEQVTPYIqBZKaMHRMRkemsnKsGDLgeeN459628XXcAwzP/1wC357V/zF89cAaw37+E8DvgHDNr8ycJnuO31bZiigq1NwC6C6GIiBxUzhGBtwAfBVaZ2RP+4wLgauBsM9sIvNN/DXAn8DKwCfgh8CkA59xe4KvAI/7jK35bbSuyqBCgywMiIjIiVK4f5Jz7A2Bj7F49yvEOuGyMc90A3FC63s0AI0GgZ8xDFnbodsQiInIoVRacKUaKCo09ItAcDdMWC2vlgIiIjFAQmCmKKCoEWjkgIiKHUhCYSQoUFQJY2NHAa3s1WVBERDwKAjNJMUWF2mNs60uQzubK1CkREZnOFARmkmKKCnXEyOYc2/riZeyYiIhMVwoCM0kRRYV0F0IREcmnIDCTFFNUqMMvKqSVAyIigoLAzFJEUaE5TXVEQgHdjlhERAAFgZmliKJCgYCxsD2mSwMiIgIoCMwsRRQVAm+egKoLiogIKAjMLMNFhQrWEvCCgBtndYGIiNQGBYGZpnl+weqCi9pjDKWy7B5IlalTIiIyXSkIzDTFFBXyVw5sVoVBEZGapyAw0xRRVGiBagmIiIhPQWCmKaKo0IL2eswUBEREREFg5imiqFBdKEhnc1QrB0REREFgximiqBAcXDkgIiK1TUFgpimiqBDAovYGXRoQEREFgRmnyKJCCzti7B5IMpjMlKdfIiIyLSkIzDTFFhXyVw7o8oCISG1TEJiJiikq1KElhCIioiAwMw3XEhjHonYVFRIREQWBmam5y7s0ME5RoZZYmJb6sC4NiIjUOAWBmailC9KD4xYVAu/ygC4NiIjUNgWBmaiIokLglRrWiICISG1TEJiJiiwqtKg9xtZ9cTLZXBk6JSIi05GCwExUbFGhjhiZnGNbX6IMnRIRkelIQWAmKraokL9y4DWtHBARqVkKAjNRkUWFhmsJaJ6AiEjtUhCYqYooKjSvOUokGGCzVg6IiNQsBYGZqoiiQoGA0d1eryWEIiI1TEFgpiqiqBB4Kwde06UBEZGapSAwUxVdVKiBzXsGcQUCg4iIzEwKAjNVkUWFFrbHGExl2TOYKkOnRERkulEQmKlGaglo5YCIiIxNQWCmmnUsBMLw0r3jHjYSBDRhUESkJikIzFSxdjjuAnjyZ5BJjnlYd5sXBLRyQESkNikIzGSnrIH4Xnj+V2MeEg0HmdccVXVBEZEapSAwk73uLGhdCI/dOO5hCztiujQgIlKjyhYEzOwGM9tlZs/ktbWb2Voz2+g/t/ntZmbXmNkmM3vKzE7Je88a//iNZramXP2vSoEAnPwxeOV+2PvymIeploCISO0q54jAvwHnHdZ2JbDOObcUWOe/BjgfWOo/LgWuBS84AFcBbwJOB64aDg8yhpP/AiwAj9005iGLOmL09ieJp7Jl7JiIiEwHZQsCzrn7gb2HNV8IDI9b3whclNd+k/M8CLSaWSdwLrDWObfXObcPWMuR4ULyNc+HpefC4z+BbHrUQxZ2eHch1BJCEZHaU+k5AnOdc9v97R3AXH+7C9iSd1yP3zZWu4zn1DUwuAte/O2ouxe2D68c0IRBEZFaU+kgMMJ5NW5LVufWzC41s/Vmtr63t7dUp61Ox5wNTZ3w6OiTBhe1q6iQiEitqnQQ2OkP+eM/7/LbtwIL8o7r9tvGaj+Cc+4659xK59zK2bNnl7zjVSUYgpMvgU13Q9+WI3a3xsI0RUOqJSAiUoMqHQTuAIZn/q8Bbs9r/5i/euAMYL9/CeF3wDlm1uZPEjzHb5NCTv6o9/z4j4/YZWYs6ohpREBEpAaVc/ngz4A/AW8wsx4z+zhwNXC2mW0E3um/BrgTeBnYBPwQ+BSAc24v8FXgEf/xFb9NCmlbBK8/ywsCuSNXByxqb1AQEBGpQaFy/SDn3IfH2LV6lGMdcNkY57kBuKGEXasdp6yB/1gDm9bBseccsmthR4y7nttBNucIBqxCHRQRkXKr9KUBKac3XACxWaNWGlzYHiOddWzri1egYyIiUikKArUkFIEVH4EXfgP9Ow7ZpZUDIiK1SUGg1pyyBlwWnvjJIc0LO3QXQhGRWqQgUGtmHQOL3uqVHM7lRpo7W+oJB00jAiIiNUZBoBadugb2vQqv3j/SFAwYC9pibNbtiEVEaoqCQC1a9h6Ith5RaXBBe0yXBkREaoyCQC0KR2H5h2DDf8LgnpHmRR0xNu8Zwlu9KSIitUBBoFadsgayKXjyZyNNC9tj9Ccz7Bsa/S6FIiIy8ygI1Kq5x0P3aV5NAX8EYJF/O2LdhVBEpHYoCNSyU9bA7hdh84OAd2kAVEtARKSWKAjUshPfB5GmkUqDC9r8IKAJgyIiNUNBoJZFGuCNH4Rn/w/E+6iPBJnTVMdrGhEQEakZCgK17pQ1kInD0/8BHFw5ICIitUFBoNbNXwGdy72aAs6xsL2B11RUSESkZigIiDcqsPNp2PYYizpi7DyQJJHOVrpXIiJSBgoCAid9EMIxePTGkZUDWzRPQESkJigICESb4YT3wTO3sbjJqylw3f0vs6s/UeGOiYjIVFMQEM+payA1wEn71vGh0xZw22M9vO0f7+Xv73iWHfsVCEREZiqrhbryK1eudOvXr690N6Y35+B7Z0IkBv/jHl7ZPcj37t3ELx/fSsCMi0/r5pNvfz3dfq0BERGZ3szsUefcykLHaURAPGbeqMDWR2HHMyyZ1cA/f3A59/7NO3j/qd38/JEtvOOf7+PK257S8kIRkRlEQUAOeuN/gWDdSKVB8G5N/I33ncTvrziLj7xpIb94fCtnffM+PnvLk7zcO1DBzoqISCkoCMhBsXY4/j3w1M+hf+fIzYgA5rfW85ULT+SBz53FmjMX8+unt/HOb/2ey29+nI07+yvYaRERORqaIyCHevUP8G/v8raDddDcCU3zvefm+SPb+4Kz+OnzGX7w+CD9aeOCEzv59KpjWNbZXNn+i4gIUPwcAQUBOZRzsOlu2L0R+rfBge1wYNvB7Wzy0MMxhsJtvJpqYVuunYG6OYTaummdt4SuRUtZuHgpodYuCEUq9IFERGpTsUEgVI7OSBUxg6Vne4/DOQfxfV4w8MOBHdhOQ/82jt23lc7ezdQNvUBD7wD0Ak97b8thDIXbyTZ2Ep21kLr2hdDcBS1d0NztjTTE2r2iRmZl/bgiIrVOQUCKZ+b9wY61w7wTD9kVBtr9bZfsZ8eWl3jl5Rfp7XmFwd2vEerfxrzEbjr3PElX4B5ijFKbIBCG+laItkDUf65vHWe7xbuNcqTh4CMQnPKvQURkJlEQkJKzuiY6j1lB5zErRtriqSxPb93Pus37ePTVvWzcvJW6oe102h4WhvYxN5ygIxinNTtEy+AgTUODNLmtNOReoD43QH2mnwBF3P8gVJ8XDBr951jetv+ob8t7tB/6OtKgkQkRqRmaIyAV4Zxjy944j23ex9Nb93MgnmYolWUgmWEolWEwmfWeU1mGkhkGUxliJGlhkGYb9J+HiJGgwRLeM0laQylag0magymaAkkaA0kaSFBPgmguTiQXJ5IdJJhLjd23YAQbNST4oxB1zV5Z5rqmvO3mg9uhujJ+kyIio9McAZnWzIyFHTEWdsS46OSugsfnco54OstgKsNQ0nseTGY5EE9zIJFmfzzNgXiGnnia50Zee8/9iQz742kGkpmR89WRopUBWm2AVga9Zxvw2jIDtKcHaR8YpN0O0GrbaGaA5lw/dSTH6aXf10CEbKQZF2mEaDMWbSEQbSJQ14jVNfqjE40wst3ghYrhUYz8bY1OiMgUUxCQqhAIGA11IRrqQtA0uXNksjn6ExkOJNIMJrPE0xmGUln/4W3H/dcvpzI862/HUwdHJ5LJBJbsx1IHCKYGCKUHaGSIJoZotDhNDNFscZpSB1832U4a2EyDxWm0BA0kiDL2iEQ+R4BMuIFsuAlX1wR1TVhdE4FoM8H6ZgLRZmxkdCL/0XJwpCLarImYIjImBQGpGaFggLaGCG0NpVvK6Jwjkc75IxQHL2l4lziy7Elm2Jz0L3H4oxiDyQyJZIpssh+XGCCXHMBS/QTSgwTTgwQzXohoIEGjxWnMxGlKxGnsj9PIEI22lybi3j7iNFjhUYqsBUmFmsiEGsmEm8jVNeHqmiHaQiDaQrC+hWCshWBdjFA4SjASJRCOQijqXeo4/Dl4WFtQ/ysRqVb6r1fkKJgZ9ZEg9ZEgsxpLMzdg5DKIHyAG/VAxmMrQl8ywzb80MuTviycSpBMDuMQBSPRjyf0E0gOE0v2E0wNEM/3U5QZpSg/RZEM0EafJ9tPEdprNH80gQcAmP18oaVESwUaSoSbS4SYy4SaykRZyftiw+hYCsVZCsVbCsTYija1EG9uJNrYSiDZDuF4jFiIVoiAgMs0cchmkRHI5RyKT9S6JpIaDRIbe4UmZiTTpRD+ZZJxcOk4uncClErh0ApdNQjqByyQhm8QySSybJJBJEsglCWbjhDODRLMDRBMDNAwN0sQ2mtlEqw3SzBAhy43bvwwBhogRD8RIBGKkgg2kQw1kQo1kI404/9KIRZsIRJsI1jURjDYRqm8kXN9EuL6JulgTkVgzscZmwmEVsBIploKASA0IBIxYJEQsMvX/yTvnSGZyIyMWvckM8aEDpAb6SA3uIzO4j1x8Py7eh0segOQAlhogmO4nlB4gnBkkkh0kmt5Hc66HehenAW9+RbGSLswQUeIWJWH1JAP1pAL1pAJRMsF60sF6ssF6sqEY2VA9LlRPLtzgzaWIxCDSQCASwyKNBKONBOtiBOvqCdU1UBeJUBcKUhcKEAkFqAsF/WfvdShgmEY3pIooCIhISZkZ0XCQaDhI+8h8jGage9LnzGRz7E+kGBrYT2Kgj9TQAdLxfjKJAbKJfrLJQXLJAVxyEEsNYOkhzJ9vEfIf9bkhmrP9RDJx6nIJoi5BlAQhxh+tOFzKBUkQIUEdcRdhPxHi/uuEi5AgQsrqSAXqyAbqyATqyAYiZAN15IJRcsE6XKgO58+zcKEoFqqDcD2BcBQLR7FwPYFwPRapJxipJxIOEQkFiASDhIPmbfvhIxwM+PsCRMNeQBl+DgV1XzkpTEFARKa9UDBAS0OUloYozJ1buhM7B9kUpAYhPUQuOUg6MUA6MUAmMUAmPkg2OUAuNUQ2FcelhrxHOgHpISwTJ5aO05CJE8gmCGbiBLP9BHNJQtkEIZcklE0RzhS3SmQsSRciSYQk4ZGwkSBMggj7/dfe/hBJFyaF90hbmFwgQi4QwQUjXggJ1nn3/gjWYeE6LFiHC0a8CZ+BMBaMQDAMwRAWrMOCYe8R8vYFQmGCwRDBgBdIwkFvFCR/O+wHk+HtcCBAOGSEg952MGiEAkYwkP8cIOhvBwyNqpSRgoCI1C4zf+VDHdBOAKjzHyXlHGSSkEnkPScOe52EdBwyCXLpOJlknGxqiFwqTi4Vx6XjhFNxQuk4jZnEyLGWSWCZOIHsPiybIpBNEsilCPqPADlwQMZ/lEDWGWlCpAj5z2HSLug9EyI53O7CxP3jUiPHhcgQJE2QNAe3M3ntGYJkLUzWQjgLkQt4D0fQKyNuASwQhID/bCEIBCAQxCyIBYIEAv6x/n4XDGEWgkCIXCDov997bYGQF3wCQQKBAAGzkVBiBgHzwknAvMs+gbw277W3HQx44cXMMLxfL8O7NGfejrx2G9k//PqcE+bSGiv//BYFARGRqWYG4aj3KEIAKNmfg2zGu2toxn9kk5BJeeEjm/LacmnI+o/87WzKf52BbIpcNk0ukyKXSWEZb6QjlElRl0niMklcJjVyTpdNY9kkZNNYdgDLpbFsCsulCeTSmMsQyKUJ5DIEXAajwKqV3GHPUyRDgCxBsi5AjgAZvOes/8gQJOeM7CHtwZH9OQL+Z/E+jwGG8x/4bW6knbz23Q3/TuvxJ0/tBxyFgoCIyEwW9P61S6ThqE8V8B9TIpc9MogMb+cy3rPLese5LORy4HKHtWW9tuFnl/Xem/P35TJ5j9Ffh/wHuYx/rswR53e5NC7n/RyXy0Au5z9ncbls3lJYG4kDLq8N/D//dmgkCM1unapvd1xVGwTM7Dzgu0AQ+JFz7uoKd0lERCZreBif4kZNKsmAmTSDoSqnlJpZEPhX4HzgeODDZnZ8ZXslIiJSfaoyCACnA5uccy8751LAzcCFFe6TiIhI1anWINAFbMl73eO3iYiIyARUaxAoyMwuNbP1Zra+t7e30t0RERGZlqo1CGwFFuS97vbbRjjnrnPOrXTOrZw9e3ZZOyciIlItqjUIPAIsNbMlZhYBPgTcUeE+iYiIVJ2qXD7onMuY2aeB3+EtH7zBOfdshbslIiJSdaoyCAA45+4E7qx0P0RERKpZtV4aEBERkRJQEBAREalhCgIiIiI1TEFARESkhikIiIiI1DBzrsA9oGcAM+sFXivxaWcBu0t8zplA38vo9L2MTt/LkfSdjE7fy+jG+14WOecKVtSriSAwFcxsvXNuZaX7Md3oexmdvpfR6Xs5kr6T0el7GV0pvhddGhAREalhCgIiIiI1TEFg8q6rdAemKX0vo9P3Mjp9L0fSdzI6fS+jO+rvRXMEREREaphGBERERGqYgsAEmdl5ZvaCmW0ysysr3Z/pwsxeNbOnzewJM1tf6f5UipndYGa7zOyZvLZ2M1trZhv957ZK9rESxvhe/t7Mtvq/M0+Y2QWV7GMlmNkCM7vXzJ4zs2fN7HK/vaZ/Z8b5Xmr6d8bMomb2sJk96X8vX/bbl5jZQ/7fpZ+bWWRC59WlgeKZWRB4ETgb6AEeAT7snHuuoh2bBszsVWClc66m1/ma2Z8BA8BNzrkT/bZ/AvY65672w2Obc+7zlexnuY3xvfw9MOCc+5dK9q2SzKwT6HTOPWZmTcCjwEXAX1LDvzPjfC8XU8O/M2ZmQINzbsDMwsAfgMuBzwC/cM7dbGbfB550zl1b7Hk1IjAxpwObnHMvO+dSwM3AhRXuk0wjzrn7gb2HNV8I3Ohv34j3P7SaMsb3UvOcc9udc4/52/3A80AXNf47M873UtOcZ8B/GfYfDlgF3Oq3T/j3RUFgYrqALXmve9Av5zAH3GVmj5rZpZXuzDQz1zm33d/eAcytZGemmU+b2VP+pYOaGv4+nJktBk4GHkK/MyMO+16gxn9nzCxoZk8Au4C1wEtAn3Mu4x8y4b9LCgJSKm91zp0CnA9c5g8Fy2Gcdy1O1+M81wKvB1YA24FvVrY7lWNmjcBtwF875w7k76vl35lRvpea/51xzmWdcyuAbrxR6uOO9pwKAhOzFViQ97rbb6t5zrmt/vMu4Jd4v6Di2elf8xy+9rmrwv2ZFpxzO/3/qeWAH1KjvzP+td7bgJ84537hN9f878xo34t+Zw5yzvUB9wJnAq1mFvJ3TfjvkoLAxDwCLPVnaEaADwF3VLhPFWdmDf6EHsysATgHeGb8d9WUO4A1/vYa4PYK9mXaGP5D53svNfg740/+uh543jn3rbxdNf07M9b3Uuu/M2Y228xa/e16vInrz+MFgg/4h03490WrBibIX67yHSAI3OCc+1qFu1RxZvY6vFEAgBDw01r9XszsZ8A78O4IthO4Cvg/wC3AQry7YF7snKupiXNjfC/vwBvidcCrwCfyrovXBDN7K/AA8DSQ85v/Fu96eM3+zozzvXyYGv6dMbM34k0GDOL9Q/4W59xX/P8H3wy0A48DlzjnkkWfV0FARESkdunSgIiISA1TEBAREalhCgIiIiI1TEFARESkhikIiIiI1DAFARGZVsxssZk5M1tZ6b6I1AIFARERkRqmICAiIlLDFARE5BDm+ZyZvWRmcTN72swu8fcND9t/xMz+YGYJM9tgZuccdo4/M7OH/P07zezbflnu/J/xWTPbaGZJM+sxs28c1pVFZrbWzIbM7DkzO7sMH1+k5igIiMjh/gH4OHAZcDzwDeAHZvauvGP+CbgGr9zrWuB2M+sC8J9/g1fq9GT/XB/2zzPs68CX/LYTgA9y6C2+Ab7m/4zlePf5uNm/G52IlJBKDIvICP+mUbuBc5xzD+S1fwc4FvgU8ArwxeH7SZhZANiAV/f8i2b2NeBi4A3+XeIws78EfgC04f0DZDferWW/P0ofFvs/45POuR/4bV1491l/m3PuD6X/5CK1K1T4EBGpIccDUeC3Zpb/r4Qw3k1ehv1peMM5lzOzh/z3AiwDHhwOAb4/ABHgGP/8dcC6An15Km97m/88p7iPISLFUhAQkXzDlwvfDWw+bF8asKM8/0SGINMjb3LOeXem1eVMkVLTf1Qiku85IAkscs5tOuzxWt5xZwxv+PeOPx3vvuj4z2f4lwyGvRVIAS/5+5PA6in8HCJSJI0IiMgI51y/mf0L8C/+H/j7gUa8P/w54C7/0P9pZi/i3S/+U8Ai4Fp/3/eAvwa+Z2bfBV4HXA38v865IQC//RtmlvR/RgdwqnNu+BwiUiYKAiJyuC8BO4G/wfvjfgB4Am+lwLArgc8ApwCvAe91zvUAOOe2mtn5wD/77+sDfgr8bd77vwDs839Wt//zbpq6jyQiY9GqAREpWt6M/tOcc+sr2xsRKQXNERAREalhCgIiIiI1TJcGREREaphGBERERGqYgoCIiEgNUxAQERGpYQoCIiIiNUxBQEREpIYpCIiIiNSw/x93Hi6ZgjYlQQAAAABJRU5ErkJggg==\n",
      "text/plain": [
       "<Figure size 576x432 with 1 Axes>"
      ]
     },
     "metadata": {
      "needs_background": "light"
     },
     "output_type": "display_data"
    }
   ],
   "source": [
    "neuron = [64, 32]\n",
    "history, pred, acc_train, acc_test, model = NN(neuron, nep=30)\n",
    "# Errors\n",
    "testScoreECM = mean_squared_error(Y_test, pred)\n",
    "print('ECM: %.4f' % (testScoreECM))\n",
    "testScoreEAM = mean_absolute_error(Y_test, pred)\n",
    "print('EAM: %.4f' % (testScoreEAM))\n",
    "fig,ax = plt.subplots(nrows=1,ncols=1,figsize=(8,6))# 6,6\n",
    "plt.plot(history.history['loss'])\n",
    "plt.plot(history.history['val_loss'])\n",
    "#ax.set_yscale(\"log\")\n",
    "#plt.title('model loss')\n",
    "plt.ylabel('loss', fontsize=14)\n",
    "plt.xlabel('epoch', fontsize=14)\n",
    "plt.legend(['train', 'test'], loc='upper right')"
   ]
  },
  {
   "cell_type": "markdown",
   "metadata": {},
   "source": [
    "# Plots"
   ]
  },
  {
   "cell_type": "code",
   "execution_count": 54,
   "metadata": {},
   "outputs": [],
   "source": [
    "startdaypred = pd.datetime(2013, 7, 1) + 7*pd.Timedelta( len(mdnRnA)-len(pred), unit='D')"
   ]
  },
  {
   "cell_type": "code",
   "execution_count": 55,
   "metadata": {
    "scrolled": false
   },
   "outputs": [
    {
     "data": {
      "text/plain": [
       "Text(0.5,0.98,'Weekly Fitting at LSC - Hall A')"
      ]
     },
     "execution_count": 55,
     "metadata": {},
     "output_type": "execute_result"
    },
    {
     "data": {
      "image/png": "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\n",
      "text/plain": [
       "<Figure size 720x288 with 2 Axes>"
      ]
     },
     "metadata": {
      "needs_background": "light"
     },
     "output_type": "display_data"
    }
   ],
   "source": [
    "fig,ax = plt.subplots(nrows=1,ncols=1,figsize=(10,4))\n",
    "plt.figure(1)\n",
    "xaxis = ax.get_xaxis()\n",
    "#ax.xaxis.grid(b=True, which='minor', color='0.90', linewidth=0.6)\n",
    "ax.xaxis.set_major_locator(mdates.YearLocator())\n",
    "ax.xaxis.set_minor_locator(mdates.MonthLocator())\n",
    "ax.xaxis.set_major_formatter(mdates.DateFormatter(\"%Y\"))\n",
    "#ax.xaxis.set_minor_formatter(mdates.DateFormatter(\"%b\"))\n",
    "\n",
    "ax.plot(pd.date_range(startday, periods=len(mdnRnA), freq='W'), mdnRnA, 'k', alpha=0.7) \n",
    "ax.plot(pd.date_range(startdaypred, periods=len(pred), freq='W'), pred, linewidth=2, linestyle='-',color='crimson')\n",
    "plt.xlabel('Dates', fontsize=16)\n",
    "ax.legend(['Data', 'CNN'], loc='upper left')\n",
    "plt.ylim([30, 140])\n",
    "\n",
    "from mpl_toolkits.axes_grid1.inset_locator import zoomed_inset_axes, mark_inset\n",
    "axins = zoomed_inset_axes(ax, 1.7, loc='lower left', bbox_to_anchor=(643,140))\n",
    "axins.xaxis.set_major_locator(mdates.YearLocator())\n",
    "axins.xaxis.set_minor_locator(mdates.MonthLocator())\n",
    "axins.xaxis.set_major_formatter(mdates.DateFormatter(\"%Y\"))\n",
    "axins.plot(pd.date_range(startday, periods=len(mdnRnA), freq='W'), mdnRnA, 'k', alpha=0.7) \n",
    "axins.plot(pd.date_range(startdaypred, periods=len(pred), freq='W'), pred, linewidth=2, linestyle='-',color='crimson')\n",
    "axins.set_xlim('2017-10-05', '2019-07-21')\n",
    "axins.set_ylim(50, 110)\n",
    "\n",
    "plt.xticks(visible=True)\n",
    "plt.yticks(visible=False)\n",
    "\n",
    "mark_inset(ax, axins, loc1=2, loc2=4, fc=\"none\", ec=\"0.5\")\n",
    "\n",
    "plt.suptitle('Weekly Fitting at LSC - Hall A')"
   ]
  },
  {
   "cell_type": "markdown",
   "metadata": {},
   "source": [
    "# Validation"
   ]
  },
  {
   "cell_type": "code",
   "execution_count": 77,
   "metadata": {},
   "outputs": [],
   "source": [
    "mdnRnA_val = np.loadtxt('../../mdnRnA_validation.txt')\n",
    "aemet = pd.read_csv('../Data/val_weekly.csv', skiprows=2, names=['dates', 'tmed'])\n",
    "DF = aemet\n",
    "DF['mdnRnA'] = mdnRnA_val\n",
    "scaled = MinMaxScaler().fit(DF[['tmed', 'mdnRnA']].values).transform(DF[['tmed', 'mdnRnA']].values)\n",
    "DF_scaled = pd.DataFrame(scaled, columns=['tmed', 'mdnRnA'])\n",
    "DF_scaled['dates'] = DF['dates']\n",
    "DIC_val = data_toCNN_format([DF], ['val'], ['mdnRnA', 'tmed'], 4)\n",
    "X = DIC_val['val']"
   ]
  },
  {
   "cell_type": "code",
   "execution_count": 78,
   "metadata": {},
   "outputs": [
    {
     "data": {
      "text/html": [
       "<div>\n",
       "<style scoped>\n",
       "    .dataframe tbody tr th:only-of-type {\n",
       "        vertical-align: middle;\n",
       "    }\n",
       "\n",
       "    .dataframe tbody tr th {\n",
       "        vertical-align: top;\n",
       "    }\n",
       "\n",
       "    .dataframe thead th {\n",
       "        text-align: right;\n",
       "    }\n",
       "</style>\n",
       "<table border=\"1\" class=\"dataframe\">\n",
       "  <thead>\n",
       "    <tr style=\"text-align: right;\">\n",
       "      <th></th>\n",
       "      <th>tmed</th>\n",
       "      <th>mdnRnA</th>\n",
       "      <th>dates</th>\n",
       "    </tr>\n",
       "  </thead>\n",
       "  <tbody>\n",
       "    <tr>\n",
       "      <th>0</th>\n",
       "      <td>1.000000</td>\n",
       "      <td>0.716049</td>\n",
       "      <td>2019-07-28</td>\n",
       "    </tr>\n",
       "    <tr>\n",
       "      <th>1</th>\n",
       "      <td>0.606719</td>\n",
       "      <td>0.518519</td>\n",
       "      <td>2019-08-04</td>\n",
       "    </tr>\n",
       "    <tr>\n",
       "      <th>2</th>\n",
       "      <td>0.988142</td>\n",
       "      <td>0.740741</td>\n",
       "      <td>2019-08-11</td>\n",
       "    </tr>\n",
       "    <tr>\n",
       "      <th>3</th>\n",
       "      <td>0.478261</td>\n",
       "      <td>1.000000</td>\n",
       "      <td>2019-08-18</td>\n",
       "    </tr>\n",
       "    <tr>\n",
       "      <th>4</th>\n",
       "      <td>0.549407</td>\n",
       "      <td>0.000000</td>\n",
       "      <td>2019-08-25</td>\n",
       "    </tr>\n",
       "    <tr>\n",
       "      <th>5</th>\n",
       "      <td>0.901186</td>\n",
       "      <td>0.197531</td>\n",
       "      <td>2019-09-01</td>\n",
       "    </tr>\n",
       "    <tr>\n",
       "      <th>6</th>\n",
       "      <td>0.000000</td>\n",
       "      <td>0.888889</td>\n",
       "      <td>2019-09-08</td>\n",
       "    </tr>\n",
       "    <tr>\n",
       "      <th>7</th>\n",
       "      <td>0.195652</td>\n",
       "      <td>0.888889</td>\n",
       "      <td>2019-09-15</td>\n",
       "    </tr>\n",
       "    <tr>\n",
       "      <th>8</th>\n",
       "      <td>0.563241</td>\n",
       "      <td>0.419753</td>\n",
       "      <td>2019-09-22</td>\n",
       "    </tr>\n",
       "  </tbody>\n",
       "</table>\n",
       "</div>"
      ],
      "text/plain": [
       "       tmed    mdnRnA       dates\n",
       "0  1.000000  0.716049  2019-07-28\n",
       "1  0.606719  0.518519  2019-08-04\n",
       "2  0.988142  0.740741  2019-08-11\n",
       "3  0.478261  1.000000  2019-08-18\n",
       "4  0.549407  0.000000  2019-08-25\n",
       "5  0.901186  0.197531  2019-09-01\n",
       "6  0.000000  0.888889  2019-09-08\n",
       "7  0.195652  0.888889  2019-09-15\n",
       "8  0.563241  0.419753  2019-09-22"
      ]
     },
     "execution_count": 78,
     "metadata": {},
     "output_type": "execute_result"
    }
   ],
   "source": [
    "DF_scaled"
   ]
  },
  {
   "cell_type": "code",
   "execution_count": 64,
   "metadata": {},
   "outputs": [
    {
     "data": {
      "text/plain": [
       "array([[3482.3474],\n",
       "       [3414.102 ],\n",
       "       [3248.2212],\n",
       "       [3095.5168],\n",
       "       [3189.8308]], dtype=float32)"
      ]
     },
     "execution_count": 64,
     "metadata": {},
     "output_type": "execute_result"
    }
   ],
   "source": [
    "model.predict(X)"
   ]
  },
  {
   "cell_type": "code",
   "execution_count": 65,
   "metadata": {},
   "outputs": [],
   "source": [
    "ahead = len(mdnRnA_val)\n",
    "nextSteps = np.empty((ahead+1,sample_size,2))\n",
    "nextSteps[0,:,:]= np.atleast_3d(np.array([mdnRnA[start:start + sample_size] \n",
    "\t\tfor start in range(mdnRnA.shape[0]-sample_size,mdnRnA.shape[0]-sample_size+1)]))"
   ]
  },
  {
   "cell_type": "code",
   "execution_count": 68,
   "metadata": {},
   "outputs": [],
   "source": [
    "newValues = np.zeros(ahead)\n",
    "temp = np.zeros(sample_size)"
   ]
  },
  {
   "cell_type": "code",
   "execution_count": 70,
   "metadata": {},
   "outputs": [
    {
     "ename": "ValueError",
     "evalue": "all the input array dimensions except for the concatenation axis must match exactly",
     "output_type": "error",
     "traceback": [
      "\u001b[0;31m---------------------------------------------------------------------------\u001b[0m",
      "\u001b[0;31mValueError\u001b[0m                                Traceback (most recent call last)",
      "\u001b[0;32m<ipython-input-70-cd8745cd097d>\u001b[0m in \u001b[0;36m<module>\u001b[0;34m\u001b[0m\n\u001b[1;32m      1\u001b[0m \u001b[0;32mfor\u001b[0m \u001b[0mi\u001b[0m \u001b[0;32min\u001b[0m \u001b[0mrange\u001b[0m\u001b[0;34m(\u001b[0m\u001b[0mahead\u001b[0m\u001b[0;34m)\u001b[0m\u001b[0;34m:\u001b[0m\u001b[0;34m\u001b[0m\u001b[0m\n\u001b[1;32m      2\u001b[0m     \u001b[0mtemp\u001b[0m \u001b[0;34m=\u001b[0m \u001b[0mnextSteps\u001b[0m\u001b[0;34m[\u001b[0m\u001b[0mi\u001b[0m\u001b[0;34m]\u001b[0m\u001b[0;34m\u001b[0m\u001b[0m\n\u001b[0;32m----> 3\u001b[0;31m     \u001b[0mtemp\u001b[0m \u001b[0;34m=\u001b[0m \u001b[0mnp\u001b[0m\u001b[0;34m.\u001b[0m\u001b[0mappend\u001b[0m\u001b[0;34m(\u001b[0m\u001b[0mtemp\u001b[0m\u001b[0;34m,\u001b[0m \u001b[0mmodel\u001b[0m\u001b[0;34m.\u001b[0m\u001b[0mpredict\u001b[0m\u001b[0;34m(\u001b[0m\u001b[0mnextSteps\u001b[0m\u001b[0;34m[\u001b[0m\u001b[0;32mNone\u001b[0m\u001b[0;34m,\u001b[0m\u001b[0mi\u001b[0m\u001b[0;34m,\u001b[0m\u001b[0;34m:\u001b[0m\u001b[0;34m]\u001b[0m\u001b[0;34m)\u001b[0m\u001b[0;34m,\u001b[0m \u001b[0maxis\u001b[0m\u001b[0;34m=\u001b[0m\u001b[0;36m0\u001b[0m\u001b[0;34m)\u001b[0m\u001b[0;34m\u001b[0m\u001b[0m\n\u001b[0m",
      "\u001b[0;32m/usr/lib64/python3.5/site-packages/numpy/lib/function_base.py\u001b[0m in \u001b[0;36mappend\u001b[0;34m(arr, values, axis)\u001b[0m\n\u001b[1;32m   5164\u001b[0m         \u001b[0mvalues\u001b[0m \u001b[0;34m=\u001b[0m \u001b[0mravel\u001b[0m\u001b[0;34m(\u001b[0m\u001b[0mvalues\u001b[0m\u001b[0;34m)\u001b[0m\u001b[0;34m\u001b[0m\u001b[0m\n\u001b[1;32m   5165\u001b[0m         \u001b[0maxis\u001b[0m \u001b[0;34m=\u001b[0m \u001b[0marr\u001b[0m\u001b[0;34m.\u001b[0m\u001b[0mndim\u001b[0m\u001b[0;34m-\u001b[0m\u001b[0;36m1\u001b[0m\u001b[0;34m\u001b[0m\u001b[0m\n\u001b[0;32m-> 5166\u001b[0;31m     \u001b[0;32mreturn\u001b[0m \u001b[0mconcatenate\u001b[0m\u001b[0;34m(\u001b[0m\u001b[0;34m(\u001b[0m\u001b[0marr\u001b[0m\u001b[0;34m,\u001b[0m \u001b[0mvalues\u001b[0m\u001b[0;34m)\u001b[0m\u001b[0;34m,\u001b[0m \u001b[0maxis\u001b[0m\u001b[0;34m=\u001b[0m\u001b[0maxis\u001b[0m\u001b[0;34m)\u001b[0m\u001b[0;34m\u001b[0m\u001b[0m\n\u001b[0m",
      "\u001b[0;31mValueError\u001b[0m: all the input array dimensions except for the concatenation axis must match exactly"
     ]
    }
   ],
   "source": [
    "for i in range(ahead):\n",
    "    temp = nextSteps[i]\n",
    "    temp = np.append(temp, model.predict(nextSteps[None,i,:]), axis=0)"
   ]
  },
  {
   "cell_type": "code",
   "execution_count": null,
   "metadata": {},
   "outputs": [],
   "source": []
  }
 ],
 "metadata": {
  "kernelspec": {
   "display_name": "Python 3",
   "language": "python",
   "name": "python3"
  },
  "language_info": {
   "codemirror_mode": {
    "name": "ipython",
    "version": 3
   },
   "file_extension": ".py",
   "mimetype": "text/x-python",
   "name": "python",
   "nbconvert_exporter": "python",
   "pygments_lexer": "ipython3",
   "version": "3.5.4"
  }
 },
=======
 "cells": [],
 "metadata": {},
>>>>>>> 11850d1b66f2ec3dbfcaf630863f52c962adb0c4
 "nbformat": 4,
 "nbformat_minor": 2
}
