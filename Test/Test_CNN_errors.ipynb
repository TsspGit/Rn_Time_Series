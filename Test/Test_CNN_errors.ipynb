{
 "cells": [
  {
   "cell_type": "code",
   "execution_count": 84,
   "metadata": {},
   "outputs": [],
   "source": [
    "__author__ = '@Tssp'\n",
    "\n",
    "''' RNN Bidireccional en Keras '''\n",
    "\n",
    "import numpy as np\n",
    "import matplotlib.pyplot as plt\n",
    "from keras.models import Sequential\n",
    "from keras.layers import Dense, Dropout, Activation, Flatten, BatchNormalization\n",
    "from keras.layers.convolutional import Conv1D, MaxPooling1D\n",
    "import pandas as pd  \n",
    "from sklearn.preprocessing import MinMaxScaler\n",
    "from sklearn.metrics import mean_squared_error, mean_absolute_error\n",
    "from scipy.stats.stats import pearsonr\n",
    "from matplotlib.ticker import MultipleLocator, FormatStrFormatter\n",
    "import matplotlib.dates as mdates"
   ]
  },
  {
   "cell_type": "code",
   "execution_count": 85,
   "metadata": {},
   "outputs": [],
   "source": [
    "# Load 222Rn:\n",
    "mdnRnA = np.loadtxt('../mdnRnA.txt', delimiter=',')\n",
    "startday = pd.datetime(2013, 7, 1)\n",
    "dates = pd.date_range(startday, periods=len(mdnRnA), freq='W')"
   ]
  },
  {
   "cell_type": "code",
   "execution_count": 86,
   "metadata": {},
   "outputs": [],
   "source": [
    "def loadallDF(list_cities):\n",
    "    output = {}\n",
    "    for city in list_cities:\n",
    "        output[city + '_arima'] = pd.read_csv('../AEMET/Data/Daily/{}/{}_arima_weekly.csv'.format(city, city),\n",
    "                                         usecols=['fecha', 'tmed', 'presmed', 'velmedia'])\n",
    "        output[city + '_arima']['mdnRnA'] = mdnRnA\n",
    "        output[city + '_arima']['dates'] = pd.to_datetime(output[city + '_arima']['fecha'])\n",
    "    return output"
   ]
  },
  {
   "cell_type": "code",
   "execution_count": 87,
   "metadata": {},
   "outputs": [],
   "source": [
    "list_cities = ['BCN', 'NVR', 'HSC', 'ZGZ']\n",
    "weekly = loadallDF(list_cities)"
   ]
  },
  {
   "cell_type": "code",
   "execution_count": 88,
   "metadata": {},
   "outputs": [
    {
     "data": {
      "text/html": [
       "<div>\n",
       "<style scoped>\n",
       "    .dataframe tbody tr th:only-of-type {\n",
       "        vertical-align: middle;\n",
       "    }\n",
       "\n",
       "    .dataframe tbody tr th {\n",
       "        vertical-align: top;\n",
       "    }\n",
       "\n",
       "    .dataframe thead th {\n",
       "        text-align: right;\n",
       "    }\n",
       "</style>\n",
       "<table border=\"1\" class=\"dataframe\">\n",
       "  <thead>\n",
       "    <tr style=\"text-align: right;\">\n",
       "      <th></th>\n",
       "      <th>fecha</th>\n",
       "      <th>tmed</th>\n",
       "      <th>velmedia</th>\n",
       "      <th>presmed</th>\n",
       "      <th>mdnRnA</th>\n",
       "      <th>dates</th>\n",
       "    </tr>\n",
       "  </thead>\n",
       "  <tbody>\n",
       "    <tr>\n",
       "      <th>0</th>\n",
       "      <td>2013-07-07</td>\n",
       "      <td>25.800000</td>\n",
       "      <td>2.800000</td>\n",
       "      <td>1020.600000</td>\n",
       "      <td>90.0</td>\n",
       "      <td>2013-07-07</td>\n",
       "    </tr>\n",
       "    <tr>\n",
       "      <th>1</th>\n",
       "      <td>2013-07-14</td>\n",
       "      <td>25.642857</td>\n",
       "      <td>3.914286</td>\n",
       "      <td>1016.357143</td>\n",
       "      <td>79.0</td>\n",
       "      <td>2013-07-14</td>\n",
       "    </tr>\n",
       "    <tr>\n",
       "      <th>2</th>\n",
       "      <td>2013-07-21</td>\n",
       "      <td>26.028571</td>\n",
       "      <td>4.285714</td>\n",
       "      <td>1017.578571</td>\n",
       "      <td>99.0</td>\n",
       "      <td>2013-07-21</td>\n",
       "    </tr>\n",
       "    <tr>\n",
       "      <th>3</th>\n",
       "      <td>2013-07-28</td>\n",
       "      <td>27.214286</td>\n",
       "      <td>4.900000</td>\n",
       "      <td>1013.457143</td>\n",
       "      <td>117.0</td>\n",
       "      <td>2013-07-28</td>\n",
       "    </tr>\n",
       "    <tr>\n",
       "      <th>4</th>\n",
       "      <td>2013-08-04</td>\n",
       "      <td>25.785714</td>\n",
       "      <td>4.528571</td>\n",
       "      <td>1018.435714</td>\n",
       "      <td>99.0</td>\n",
       "      <td>2013-08-04</td>\n",
       "    </tr>\n",
       "  </tbody>\n",
       "</table>\n",
       "</div>"
      ],
      "text/plain": [
       "        fecha       tmed  velmedia      presmed  mdnRnA      dates\n",
       "0  2013-07-07  25.800000  2.800000  1020.600000    90.0 2013-07-07\n",
       "1  2013-07-14  25.642857  3.914286  1016.357143    79.0 2013-07-14\n",
       "2  2013-07-21  26.028571  4.285714  1017.578571    99.0 2013-07-21\n",
       "3  2013-07-28  27.214286  4.900000  1013.457143   117.0 2013-07-28\n",
       "4  2013-08-04  25.785714  4.528571  1018.435714    99.0 2013-08-04"
      ]
     },
     "execution_count": 88,
     "metadata": {},
     "output_type": "execute_result"
    }
   ],
   "source": [
    "weekly['BCN_arima'].head()"
   ]
  },
  {
   "cell_type": "code",
   "execution_count": 105,
   "metadata": {},
   "outputs": [],
   "source": [
    "BCN_arima = weekly['BCN_arima']\n",
    "PMP_arima = weekly['NVR_arima']\n",
    "HSC_arima = weekly['HSC_arima']\n",
    "ZGZ_arima = weekly['ZGZ_arima']\n",
    "DF_list = [BCN_arima, PMP_arima, ZGZ_arima, HSC_arima]\n",
    "arr_str = ['BCN', 'PMP', 'ZGZ', 'HSC']"
   ]
  },
  {
   "cell_type": "code",
   "execution_count": 106,
   "metadata": {},
   "outputs": [],
   "source": [
    "def scaleallDF(DF_arr, arr_str):\n",
    "    field = ['tmed', 'velmedia', 'presmed', 'mdnRnA']\n",
    "    output = {}\n",
    "    for i in range(len(DF_arr)):\n",
    "        scaled = MinMaxScaler().fit(DF_arr[i][field].values).transform(DF_arr[i][field].values)\n",
    "        output[arr_str[i]] = pd.DataFrame(scaled, columns=field)\n",
    "        output[arr_str[i]]['dates'] = DF_arr[i]['dates']\n",
    "    return output"
   ]
  },
  {
   "cell_type": "code",
   "execution_count": 109,
   "metadata": {},
   "outputs": [
    {
     "data": {
      "text/html": [
       "<div>\n",
       "<style scoped>\n",
       "    .dataframe tbody tr th:only-of-type {\n",
       "        vertical-align: middle;\n",
       "    }\n",
       "\n",
       "    .dataframe tbody tr th {\n",
       "        vertical-align: top;\n",
       "    }\n",
       "\n",
       "    .dataframe thead th {\n",
       "        text-align: right;\n",
       "    }\n",
       "</style>\n",
       "<table border=\"1\" class=\"dataframe\">\n",
       "  <thead>\n",
       "    <tr style=\"text-align: right;\">\n",
       "      <th></th>\n",
       "      <th>tmed</th>\n",
       "      <th>velmedia</th>\n",
       "      <th>presmed</th>\n",
       "      <th>mdnRnA</th>\n",
       "      <th>dates</th>\n",
       "    </tr>\n",
       "  </thead>\n",
       "  <tbody>\n",
       "    <tr>\n",
       "      <th>0</th>\n",
       "      <td>0.824465</td>\n",
       "      <td>0.066667</td>\n",
       "      <td>0.641113</td>\n",
       "      <td>0.573333</td>\n",
       "      <td>2013-07-07</td>\n",
       "    </tr>\n",
       "    <tr>\n",
       "      <th>1</th>\n",
       "      <td>0.817737</td>\n",
       "      <td>0.259259</td>\n",
       "      <td>0.505590</td>\n",
       "      <td>0.426667</td>\n",
       "      <td>2013-07-14</td>\n",
       "    </tr>\n",
       "    <tr>\n",
       "      <th>2</th>\n",
       "      <td>0.834251</td>\n",
       "      <td>0.323457</td>\n",
       "      <td>0.544604</td>\n",
       "      <td>0.693333</td>\n",
       "      <td>2013-07-21</td>\n",
       "    </tr>\n",
       "    <tr>\n",
       "      <th>3</th>\n",
       "      <td>0.885015</td>\n",
       "      <td>0.429630</td>\n",
       "      <td>0.412959</td>\n",
       "      <td>0.933333</td>\n",
       "      <td>2013-07-28</td>\n",
       "    </tr>\n",
       "    <tr>\n",
       "      <th>4</th>\n",
       "      <td>0.823853</td>\n",
       "      <td>0.365432</td>\n",
       "      <td>0.571983</td>\n",
       "      <td>0.693333</td>\n",
       "      <td>2013-08-04</td>\n",
       "    </tr>\n",
       "  </tbody>\n",
       "</table>\n",
       "</div>"
      ],
      "text/plain": [
       "       tmed  velmedia   presmed    mdnRnA      dates\n",
       "0  0.824465  0.066667  0.641113  0.573333 2013-07-07\n",
       "1  0.817737  0.259259  0.505590  0.426667 2013-07-14\n",
       "2  0.834251  0.323457  0.544604  0.693333 2013-07-21\n",
       "3  0.885015  0.429630  0.412959  0.933333 2013-07-28\n",
       "4  0.823853  0.365432  0.571983  0.693333 2013-08-04"
      ]
     },
     "execution_count": 109,
     "metadata": {},
     "output_type": "execute_result"
    }
   ],
   "source": [
    "weekly_scaled = scaleallDF(DF_list, arr_str)\n",
    "weekly_scaled['BCN'].head()"
   ]
  },
  {
   "cell_type": "code",
   "execution_count": 110,
   "metadata": {},
   "outputs": [],
   "source": [
    "BCN_scaled = weekly_scaled['BCN']\n",
    "PMP_scaled = weekly_scaled['PMP']\n",
    "HSC_scaled = weekly_scaled['HSC']\n",
    "ZGZ_scaled = weekly_scaled['ZGZ']\n",
    "DFscaled_list = [BCN_scaled, PMP_scaled, ZGZ_scaled, HSC_scaled]"
   ]
  },
  {
   "cell_type": "code",
   "execution_count": 111,
   "metadata": {},
   "outputs": [],
   "source": [
    "def data_toCNN_format(DF_list, arr_str, fields, sample_size):\n",
    "    output = {}\n",
    "    for i in range(len(DF_list)):\n",
    "        weekly_to3d = DF_list[i][fields].values\n",
    "        output[arr_str[i]] = np.array([weekly_to3d[start:start+sample_size] for start in range(0, weekly_to3d.shape[0]-sample_size)])\n",
    "    return output"
   ]
  },
  {
   "cell_type": "code",
   "execution_count": 112,
   "metadata": {},
   "outputs": [],
   "source": [
    "sample_size = 4\n",
    "Xt = data_toCNN_format(DFscaled_list, arr_str, ['tmed', 'mdnRnA'], sample_size)"
   ]
  },
  {
   "cell_type": "code",
   "execution_count": 113,
   "metadata": {},
   "outputs": [],
   "source": [
    "Y = mdnRnA[sample_size:]"
   ]
  },
  {
   "cell_type": "markdown",
   "metadata": {},
   "source": [
    "# Only Temperature"
   ]
  },
  {
   "cell_type": "code",
   "execution_count": 114,
   "metadata": {},
   "outputs": [],
   "source": [
    "Xt_BCN = Xt['BCN']\n",
    "Xt_PMP = Xt['PMP']\n",
    "Xt_HSC = Xt['HSC']\n",
    "Xt_ZGZ = Xt['ZGZ']"
   ]
  },
  {
   "cell_type": "code",
   "execution_count": 115,
   "metadata": {},
   "outputs": [],
   "source": [
    "def train_test_split(X):\n",
    "    X_train, X_test = X[:-test_size], X[-test_size:]\n",
    "    return X_train, X_test"
   ]
  },
  {
   "cell_type": "code",
   "execution_count": 116,
   "metadata": {},
   "outputs": [],
   "source": [
    "test_size = int(0.3*len(mdnRnA))\n",
    "Xtrain_BCN, Xtest_BCN = train_test_split(Xt_BCN)\n",
    "Xtrain_PMP, Xtest_PMP = train_test_split(Xt_PMP)\n",
    "Xtrain_HSC, Xtest_HSC = train_test_split(Xt_HSC)\n",
    "Xtrain_ZGZ, Xtest_ZGZ = train_test_split(Xt_ZGZ)\n",
    "Ytrain, Ytest = Y[:-test_size], Y[-test_size:]"
   ]
  },
  {
   "cell_type": "code",
   "execution_count": 117,
   "metadata": {},
   "outputs": [
    {
     "name": "stdout",
     "output_type": "stream",
     "text": [
      "X_train.shape =  (218, 4, 2) \n",
      "Y_train.shape =  (218,)\n"
     ]
    }
   ],
   "source": [
    "print(\"X_train.shape = \", Xtrain_BCN.shape, \"\\nY_train.shape = \", Ytrain.shape)"
   ]
  },
  {
   "cell_type": "code",
   "execution_count": 131,
   "metadata": {},
   "outputs": [],
   "source": [
    "def NN(neurons, nep, X_train, Y_train, X_test, Y_test, sample_size, v=0, btch_size=10):\n",
    "    model = Sequential()\n",
    "    model.add(Conv1D(filters=neurons[0], kernel_size=3, activation='relu', input_shape=(sample_size, 2)))\n",
    "    model.add(MaxPooling1D(pool_size=2))\n",
    "    model.add(Flatten())\n",
    "    model.add(Dense(neurons[0], activation='relu'))\n",
    "    model.add(Dense(neurons[1], activation='relu'))\n",
    "    model.add(Dense(1))\n",
    "    model.compile(loss=\"mse\", optimizer=\"adam\", metrics=[\"acc\"])\n",
    "    history = model.fit(X_train, Y_train, epochs=nep, batch_size=btch_size, verbose=v, validation_data=(X_test, Y_test))\n",
    "    pred = model.predict(X_test)\n",
    "    acc_train = np.average(history.history[\"acc\"])\n",
    "    acc_test = np.average(history.history[\"val_acc\"])\n",
    "    #print(\"Train Accuracy: \", acc_train, \"\\nTest Accuracy:  \", acc_test)\n",
    "    return history, pred, acc_train, acc_test"
   ]
  },
  {
   "cell_type": "code",
   "execution_count": 132,
   "metadata": {},
   "outputs": [],
   "source": [
    "history, pred, acc_train, acc_test = NN([64,32], 35, Xtrain_BCN, Ytrain, Xtest_BCN, Ytest, sample_size)"
   ]
  },
  {
   "cell_type": "code",
   "execution_count": 135,
   "metadata": {},
   "outputs": [],
   "source": [
    "def show_errors(Xtrainlist, Y_train, Xtest_list, Y_test, arr_str, it, sample_size):\n",
    "    ECM = []\n",
    "    EAM = []\n",
    "    for i in range(len(Xtrainlist)):\n",
    "        print('\\n\\n#########\\n', arr_str[i], '\\n########\\n\\n')\n",
    "        for it in range(it):\n",
    "            print('Iteration ', it)\n",
    "            history, pred, acc_train, acc_test = NN([64,32], 35, Xtrainlist[i], Y_train,\n",
    "                                                    Xtest_list[i], Y_test)\n",
    "            ECM.append(mean_squared_error(Y_test, pred))\n",
    "            EAM.append(mean_absolute_error(Y_test, pred))\n",
    "        print(':ECM: %.4f' % (np.mean(ECM)))\n",
    "        print(':EAM: %.4f' % (np.mean(EAM)))"
   ]
  },
  {
   "cell_type": "code",
   "execution_count": 134,
   "metadata": {},
   "outputs": [],
   "source": [
    "Xtrainlist = [Xtrain_BCN, Xtrain_PMP, Xtrain_HSC, Xtrain_ZGZ]\n",
    "Xtestlist = [Xtest_BCN, Xtest_PMP, Xtest_HSC, Xtest_ZGZ]"
   ]
  },
  {
   "cell_type": "code",
   "execution_count": 136,
   "metadata": {},
   "outputs": [
    {
     "name": "stdout",
     "output_type": "stream",
     "text": [
      "\n",
      "\n",
      "#########\n",
      " BCN \n",
      "########\n",
      "\n",
      "\n",
      "Iteration  0\n"
     ]
    },
    {
     "ename": "TypeError",
     "evalue": "NN() missing 1 required positional argument: 'sample_size'",
     "output_type": "error",
     "traceback": [
      "\u001b[0;31m---------------------------------------------------------------------------\u001b[0m",
      "\u001b[0;31mTypeError\u001b[0m                                 Traceback (most recent call last)",
      "\u001b[0;32m<ipython-input-136-c5395edf7452>\u001b[0m in \u001b[0;36m<module>\u001b[0;34m\u001b[0m\n\u001b[0;32m----> 1\u001b[0;31m \u001b[0mshow_errors\u001b[0m\u001b[0;34m(\u001b[0m\u001b[0mXtrainlist\u001b[0m\u001b[0;34m,\u001b[0m \u001b[0mYtrain\u001b[0m\u001b[0;34m,\u001b[0m \u001b[0mXtestlist\u001b[0m\u001b[0;34m,\u001b[0m \u001b[0mYtest\u001b[0m\u001b[0;34m,\u001b[0m \u001b[0marr_str\u001b[0m\u001b[0;34m,\u001b[0m \u001b[0;36m1\u001b[0m\u001b[0;34m,\u001b[0m \u001b[0;36m4\u001b[0m\u001b[0;34m)\u001b[0m\u001b[0;34m\u001b[0m\u001b[0m\n\u001b[0m",
      "\u001b[0;32m<ipython-input-135-eadb043127f2>\u001b[0m in \u001b[0;36mshow_errors\u001b[0;34m(Xtrainlist, Y_train, Xtest_list, Y_test, arr_str, it, sample_size)\u001b[0m\n\u001b[1;32m      7\u001b[0m             \u001b[0mprint\u001b[0m\u001b[0;34m(\u001b[0m\u001b[0;34m'Iteration '\u001b[0m\u001b[0;34m,\u001b[0m \u001b[0mit\u001b[0m\u001b[0;34m)\u001b[0m\u001b[0;34m\u001b[0m\u001b[0m\n\u001b[1;32m      8\u001b[0m             history, pred, acc_train, acc_test = NN([64,32], 35, Xtrainlist[i], Y_train,\n\u001b[0;32m----> 9\u001b[0;31m                                                     Xtest_list[i], Y_test)\n\u001b[0m\u001b[1;32m     10\u001b[0m             \u001b[0mECM\u001b[0m\u001b[0;34m.\u001b[0m\u001b[0mappend\u001b[0m\u001b[0;34m(\u001b[0m\u001b[0mmean_squared_error\u001b[0m\u001b[0;34m(\u001b[0m\u001b[0mY_test\u001b[0m\u001b[0;34m,\u001b[0m \u001b[0mpred\u001b[0m\u001b[0;34m)\u001b[0m\u001b[0;34m)\u001b[0m\u001b[0;34m\u001b[0m\u001b[0m\n\u001b[1;32m     11\u001b[0m             \u001b[0mEAM\u001b[0m\u001b[0;34m.\u001b[0m\u001b[0mappend\u001b[0m\u001b[0;34m(\u001b[0m\u001b[0mmean_absolute_error\u001b[0m\u001b[0;34m(\u001b[0m\u001b[0mY_test\u001b[0m\u001b[0;34m,\u001b[0m \u001b[0mpred\u001b[0m\u001b[0;34m)\u001b[0m\u001b[0;34m)\u001b[0m\u001b[0;34m\u001b[0m\u001b[0m\n",
      "\u001b[0;31mTypeError\u001b[0m: NN() missing 1 required positional argument: 'sample_size'"
     ]
    }
   ],
   "source": [
    "show_errors(Xtrainlist, Ytrain, Xtestlist, Ytest, arr_str, 1, 4)"
   ]
  }
 ],
 "metadata": {
  "kernelspec": {
   "display_name": "Python 3",
   "language": "python",
   "name": "python3"
  },
  "language_info": {
   "codemirror_mode": {
    "name": "ipython",
    "version": 3
   },
   "file_extension": ".py",
   "mimetype": "text/x-python",
   "name": "python",
   "nbconvert_exporter": "python",
   "pygments_lexer": "ipython3",
   "version": "3.5.4"
  }
 },
 "nbformat": 4,
 "nbformat_minor": 2
}
